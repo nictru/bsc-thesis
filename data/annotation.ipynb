{
 "cells": [
  {
   "cell_type": "code",
   "execution_count": 1,
   "metadata": {},
   "outputs": [],
   "source": [
    "import pandas as pd\n",
    "from upsetplot import UpSet, from_memberships\n",
    "import matplotlib.pyplot as plt\n",
    "\n",
    "# Ignore future warnings\n",
    "import warnings\n",
    "warnings.simplefilter(action='ignore', category=FutureWarning)\n",
    "\n",
    "# Set global dpi to 300\n",
    "plt.rcParams['figure.dpi'] = 300"
   ]
  },
  {
   "cell_type": "code",
   "execution_count": 2,
   "metadata": {},
   "outputs": [],
   "source": [
    "df = pd.read_csv('dea/annotation.bed', sep=\"\\t\", header=None, names=['chr', 'start', 'end', 'name', 'score', 'strand','type', 'gene_id', 'gene_name', 'transcript_id', 'database'], index_col=False)"
   ]
  },
  {
   "cell_type": "code",
   "execution_count": 3,
   "metadata": {},
   "outputs": [],
   "source": [
    "type_map = {\n",
    "    \"EI-circRNA\": \"EI-circRNA\",\n",
    "    \"ciRNA\": \"I-circRNA\",\n",
    "    \"circRNA\": \"E-circRNA\",\n",
    "    \"intergenic-circRNA\": \"intergenic circRNA\",\n",
    "    \"partially_intergenic-circRNA\": \"intergenic circRNA\",\n",
    "}\n",
    "df['type'].map(type_map).value_counts().plot(kind='pie')\n",
    "plt.savefig('../chapters/4_results_and_discussion/figures/detection/types.png')\n",
    "plt.close()\n"
   ]
  },
  {
   "cell_type": "code",
   "execution_count": 4,
   "metadata": {},
   "outputs": [],
   "source": [
    "databases = df[\"database\"].str.split(\",\").map(lambda x: [i.split(\":\")[0] for i in x]).map(lambda x: list(set([i for i in x if i != \".\" and not i.startswith(\"ENS\")])))\n",
    "plotdata = from_memberships(databases)\n",
    "upset = UpSet(plotdata, subset_size=\"count\", show_counts=True)\n",
    "upset.plot()\n",
    "\n",
    "plt.savefig(\"../chapters/4_results_and_discussion/figures/detection/database_upset.png\")\n",
    "plt.close()"
   ]
  },
  {
   "cell_type": "code",
   "execution_count": 5,
   "metadata": {},
   "outputs": [],
   "source": [
    "databases.map(len).value_counts().plot(kind='pie')\n",
    "plt.savefig('../chapters/4_results_and_discussion/figures/detection/database_count.png')\n",
    "plt.close()"
   ]
  }
 ],
 "metadata": {
  "kernelspec": {
   "display_name": "thesis-plots",
   "language": "python",
   "name": "python3"
  },
  "language_info": {
   "codemirror_mode": {
    "name": "ipython",
    "version": 3
   },
   "file_extension": ".py",
   "mimetype": "text/x-python",
   "name": "python",
   "nbconvert_exporter": "python",
   "pygments_lexer": "ipython3",
   "version": "3.12.3"
  }
 },
 "nbformat": 4,
 "nbformat_minor": 2
}
