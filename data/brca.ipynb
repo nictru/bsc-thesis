{
    "cells": [
        {
            "cell_type": "code",
            "execution_count": 316,
            "metadata": {},
            "outputs": [
                {
                    "data": {
                        "text/plain": [
                            "<contextlib.ExitStack at 0x7f6bd22cbe50>"
                        ]
                    },
                    "execution_count": 316,
                    "metadata": {},
                    "output_type": "execute_result"
                }
            ],
            "source": [
                "import pandas as pd\n",
                "import seaborn as sns\n",
                "import numpy as np\n",
                "import matplotlib.pyplot as plt\n",
                "plt.ioff()"
            ]
        },
        {
            "cell_type": "markdown",
            "metadata": {},
            "source": [
                "# Figure 2.1: Breast cancer incidence"
            ]
        },
        {
            "cell_type": "code",
            "execution_count": 317,
            "metadata": {},
            "outputs": [
                {
                    "data": {
                        "text/html": [
                            "<div>\n",
                            "<style scoped>\n",
                            "    .dataframe tbody tr th:only-of-type {\n",
                            "        vertical-align: middle;\n",
                            "    }\n",
                            "\n",
                            "    .dataframe tbody tr th {\n",
                            "        vertical-align: top;\n",
                            "    }\n",
                            "\n",
                            "    .dataframe thead th {\n",
                            "        text-align: right;\n",
                            "    }\n",
                            "</style>\n",
                            "<table border=\"1\" class=\"dataframe\">\n",
                            "  <thead>\n",
                            "    <tr style=\"text-align: right;\">\n",
                            "      <th></th>\n",
                            "      <th>Label</th>\n",
                            "      <th>Type</th>\n",
                            "      <th>ASR (World)</th>\n",
                            "      <th>Crude rate</th>\n",
                            "      <th>Total</th>\n",
                            "    </tr>\n",
                            "  </thead>\n",
                            "  <tbody>\n",
                            "    <tr>\n",
                            "      <th>0</th>\n",
                            "      <td>Lip, oral cavity</td>\n",
                            "      <td>0</td>\n",
                            "      <td>2.29</td>\n",
                            "      <td>3.09</td>\n",
                            "      <td>120847</td>\n",
                            "    </tr>\n",
                            "    <tr>\n",
                            "      <th>1</th>\n",
                            "      <td>Lip, oral cavity</td>\n",
                            "      <td>1</td>\n",
                            "      <td>1.07</td>\n",
                            "      <td>1.47</td>\n",
                            "      <td>57630</td>\n",
                            "    </tr>\n",
                            "    <tr>\n",
                            "      <th>2</th>\n",
                            "      <td>Salivary glands</td>\n",
                            "      <td>0</td>\n",
                            "      <td>0.49</td>\n",
                            "      <td>0.62</td>\n",
                            "      <td>24120</td>\n",
                            "    </tr>\n",
                            "    <tr>\n",
                            "      <th>3</th>\n",
                            "      <td>Salivary glands</td>\n",
                            "      <td>1</td>\n",
                            "      <td>0.18</td>\n",
                            "      <td>0.25</td>\n",
                            "      <td>9953</td>\n",
                            "    </tr>\n",
                            "    <tr>\n",
                            "      <th>4</th>\n",
                            "      <td>Oropharynx</td>\n",
                            "      <td>0</td>\n",
                            "      <td>0.39</td>\n",
                            "      <td>0.51</td>\n",
                            "      <td>20061</td>\n",
                            "    </tr>\n",
                            "    <tr>\n",
                            "      <th>...</th>\n",
                            "      <td>...</td>\n",
                            "      <td>...</td>\n",
                            "      <td>...</td>\n",
                            "      <td>...</td>\n",
                            "      <td>...</td>\n",
                            "    </tr>\n",
                            "    <tr>\n",
                            "      <th>77</th>\n",
                            "      <td>NaN</td>\n",
                            "      <td>1</td>\n",
                            "      <td>0.00</td>\n",
                            "      <td>0.00</td>\n",
                            "      <td>0</td>\n",
                            "    </tr>\n",
                            "    <tr>\n",
                            "      <th>78</th>\n",
                            "      <td>NaN</td>\n",
                            "      <td>1</td>\n",
                            "      <td>0.00</td>\n",
                            "      <td>0.00</td>\n",
                            "      <td>0</td>\n",
                            "    </tr>\n",
                            "    <tr>\n",
                            "      <th>79</th>\n",
                            "      <td>NaN</td>\n",
                            "      <td>1</td>\n",
                            "      <td>0.00</td>\n",
                            "      <td>0.00</td>\n",
                            "      <td>0</td>\n",
                            "    </tr>\n",
                            "    <tr>\n",
                            "      <th>80</th>\n",
                            "      <td>NaN</td>\n",
                            "      <td>1</td>\n",
                            "      <td>0.00</td>\n",
                            "      <td>0.00</td>\n",
                            "      <td>0</td>\n",
                            "    </tr>\n",
                            "    <tr>\n",
                            "      <th>81</th>\n",
                            "      <td>NaN</td>\n",
                            "      <td>1</td>\n",
                            "      <td>0.00</td>\n",
                            "      <td>0.00</td>\n",
                            "      <td>0</td>\n",
                            "    </tr>\n",
                            "  </tbody>\n",
                            "</table>\n",
                            "<p>82 rows × 5 columns</p>\n",
                            "</div>"
                        ],
                        "text/plain": [
                            "               Label  Type  ASR (World)  Crude rate   Total\n",
                            "0   Lip, oral cavity     0         2.29        3.09  120847\n",
                            "1   Lip, oral cavity     1         1.07        1.47   57630\n",
                            "2    Salivary glands     0         0.49        0.62   24120\n",
                            "3    Salivary glands     1         0.18        0.25    9953\n",
                            "4         Oropharynx     0         0.39        0.51   20061\n",
                            "..               ...   ...          ...         ...     ...\n",
                            "77               NaN     1         0.00        0.00       0\n",
                            "78               NaN     1         0.00        0.00       0\n",
                            "79               NaN     1         0.00        0.00       0\n",
                            "80               NaN     1         0.00        0.00       0\n",
                            "81               NaN     1         0.00        0.00       0\n",
                            "\n",
                            "[82 rows x 5 columns]"
                        ]
                    },
                    "execution_count": 317,
                    "metadata": {},
                    "output_type": "execute_result"
                }
            ],
            "source": [
                "df_incidence_mortality = pd.read_csv('dataset-asr-inc-and-mort-females-in-2022-world.csv')\n",
                "#df_incidence_mortality = df_incidence_mortality[df_incidence_mortality[\"Label\"].notna()]\n",
                "df_incidence_mortality = df_incidence_mortality[[\"Label\", \"Type\", \"ASR (World)\", \"Crude rate\", \"Total\"]]\n",
                "df_incidence_mortality"
            ]
        },
        {
            "cell_type": "code",
            "execution_count": 318,
            "metadata": {},
            "outputs": [],
            "source": [
                "df_incidence = df_incidence_mortality[df_incidence_mortality[\"Type\"] == 0]\n",
                "df_incidence.index = df_incidence[\"Label\"]\n",
                "df_incidence = df_incidence.drop(columns=[\"Label\", \"Type\"])\n",
                "\n",
                "df_mortality = df_incidence_mortality[df_incidence_mortality[\"Type\"] == 1]\n",
                "df_mortality.index = df_mortality[\"Label\"]\n",
                "df_mortality = df_mortality.drop(columns=[\"Label\", \"Type\"])"
            ]
        },
        {
            "cell_type": "code",
            "execution_count": 319,
            "metadata": {},
            "outputs": [],
            "source": [
                "df_asr = pd.concat([df_incidence[\"ASR (World)\"], df_mortality[\"ASR (World)\"]], axis=1)\n",
                "df_asr.columns = [\"Incidence\", \"Mortality\"]\n",
                "\n",
                "df_asr = df_asr.sort_values(by=\"Incidence\", ascending=False)"
            ]
        },
        {
            "cell_type": "code",
            "execution_count": 320,
            "metadata": {},
            "outputs": [],
            "source": [
                "df_total = pd.concat([df_incidence[\"Total\"], df_mortality[\"Total\"]], axis=1)\n",
                "df_total.columns = [\"Incidence\", \"Mortality\"]\n",
                "\n",
                "df_total = df_total.sort_values(by=\"Incidence\", ascending=False)"
            ]
        },
        {
            "cell_type": "code",
            "execution_count": 321,
            "metadata": {},
            "outputs": [],
            "source": [
                "fig, (ax1, ax2) = plt.subplots(figsize=(10, 4), ncols=2)\n",
                "\n",
                "# Increase space between subplots\n",
                "plt.subplots_adjust(wspace=0.8)"
            ]
        },
        {
            "cell_type": "code",
            "execution_count": 322,
            "metadata": {},
            "outputs": [
                {
                    "name": "stderr",
                    "output_type": "stream",
                    "text": [
                        "/tmp/ipykernel_213675/3079502842.py:25: UserWarning: set_ticklabels() should only be used with a fixed number of ticks, i.e. after set_ticks() or using a FixedLocator.\n",
                        "  ax1.set_xticklabels(np.abs(ax1.get_xticks()).astype(int))\n"
                    ]
                },
                {
                    "data": {
                        "text/plain": [
                            "[Text(-80.0, 0, '80'),\n",
                            " Text(-60.0, 0, '60'),\n",
                            " Text(-40.0, 0, '40'),\n",
                            " Text(-20.0, 0, '20'),\n",
                            " Text(0.0, 0, '0'),\n",
                            " Text(20.0, 0, '20'),\n",
                            " Text(40.0, 0, '40')]"
                        ]
                    },
                    "execution_count": 322,
                    "metadata": {},
                    "output_type": "execute_result"
                }
            ],
            "source": [
                "df_barplot = df_asr.head(6).copy()\n",
                "\n",
                "df_barplot[\"Incidence\"] = -df_barplot[\"Incidence\"]\n",
                "df_barplot.head()\n",
                "\n",
                "sns.barplot(data=df_barplot, y=df_barplot.index, x=\"Incidence\", color=\"blue\", label=\"Incidence\", ax=ax1)\n",
                "sns.barplot(data=df_barplot, y=df_barplot.index, x=\"Mortality\", color=\"red\", label=\"Mortality\", ax=ax1)\n",
                "\n",
                "# Add bar labels, use absolute values\n",
                "ax1.bar_label(ax1.containers[0], labels=np.abs(df_barplot[\"Incidence\"]))\n",
                "ax1.bar_label(ax1.containers[1], labels=np.abs(df_barplot[\"Mortality\"]))\n",
                "\n",
                "# Add space between bars\n",
                "delta = 20\n",
                "ax1.set_xlim(min(df_barplot[\"Incidence\"]) - delta, max(df_barplot[\"Mortality\"]) + delta)\n",
                "\n",
                "# Set axis labels\n",
                "ax1.set_ylabel(\"Cancer Type\")\n",
                "ax1.set_xlabel(\"Age-standardized rate (World)\")\n",
                "\n",
                "# Set title\n",
                "ax1.set_title(\"a: Incidence and Mortality of Cancer Types\")\n",
                "\n",
                "# Use absolute values for x-axis\n",
                "ax1.set_xticklabels(np.abs(ax1.get_xticks()).astype(int))"
            ]
        },
        {
            "cell_type": "code",
            "execution_count": 323,
            "metadata": {},
            "outputs": [
                {
                    "data": {
                        "text/plain": [
                            "Text(0.5, 1.0, 'b: Relative Incidence of Cancer Types')"
                        ]
                    },
                    "execution_count": 323,
                    "metadata": {},
                    "output_type": "execute_result"
                }
            ],
            "source": [
                "# Add pie chart\n",
                "df_pieplot = df_asr.copy()\n",
                "df_pieplot[\"Incidence\"] = df_pieplot[\"Incidence\"] / df_pieplot[\"Incidence\"].sum()\n",
                "df_pieplot[\"Mortality\"] = df_pieplot[\"Mortality\"] / df_pieplot[\"Mortality\"].sum()\n",
                "\n",
                "df_pieplot = df_pieplot.head(6)\n",
                "\n",
                "# Create \"others\" category\n",
                "df_pieplot.loc[\"Others\"] = 1 - df_pieplot.sum()\n",
                "\n",
                "ax2.pie(df_pieplot[\"Incidence\"], labels=df_pieplot.index, autopct='%1.1f%%', startangle=90)\n",
                "\n",
                "# Set title\n",
                "ax2.set_title(\"b: Relative Incidence of Cancer Types\")"
            ]
        },
        {
            "cell_type": "code",
            "execution_count": 324,
            "metadata": {},
            "outputs": [
                {
                    "data": {
                        "text/plain": [
                            "Text(0.5, 0.98, 'Global Incidence and Mortality rates of Cancer Types in women in 2022')"
                        ]
                    },
                    "execution_count": 324,
                    "metadata": {},
                    "output_type": "execute_result"
                }
            ],
            "source": [
                "# Increase title size\n",
                "fig.suptitle(\"Global Incidence and Mortality rates of Cancer Types in women in 2022\", fontsize=16)"
            ]
        },
        {
            "cell_type": "code",
            "execution_count": 325,
            "metadata": {},
            "outputs": [],
            "source": [
                "plt.tight_layout()\n",
                "plt.savefig(\"../chapters/2_background/figures/incidence.png\")"
            ]
        }
    ],
    "metadata": {
        "kernelspec": {
            "display_name": "single-cell",
            "language": "python",
            "name": "python3"
        },
        "language_info": {
            "codemirror_mode": {
                "name": "ipython",
                "version": 3
            },
            "file_extension": ".py",
            "mimetype": "text/x-python",
            "name": "python",
            "nbconvert_exporter": "python",
            "pygments_lexer": "ipython3",
            "version": "3.10.14"
        }
    },
    "nbformat": 4,
    "nbformat_minor": 2
}