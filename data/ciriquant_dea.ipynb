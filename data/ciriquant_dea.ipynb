{
 "cells": [
  {
   "cell_type": "code",
   "execution_count": 20,
   "metadata": {
    "vscode": {
     "languageId": "r"
    }
   },
   "outputs": [],
   "source": [
    "library(stringi)"
   ]
  },
  {
   "cell_type": "code",
   "execution_count": 21,
   "metadata": {
    "vscode": {
     "languageId": "r"
    }
   },
   "outputs": [],
   "source": [
    "work_dir <- \"ciriquant/work\"\n",
    "circ_dir <- \"ciriquant/circs\"\n",
    "stringtie_dir <- \"ciriquant/transcripts\""
   ]
  },
  {
   "cell_type": "code",
   "execution_count": 22,
   "metadata": {
    "vscode": {
     "languageId": "r"
    }
   },
   "outputs": [],
   "source": [
    "create_df <- function(samples, condition) {\n",
    "  ciri_files <- file.path(circ_dir, paste0(samples, \".gtf\"))\n",
    "  stringtie_files <- file.path(stringtie_dir, paste0(samples, \"_out.gtf\"))\n",
    "  conditions <- rep(condition, length(samples))\n",
    "  return(data.frame(\"ciri\" = ciri_files, \"condition\" = conditions, \"stringtie\" = stringtie_files, row.names = samples))\n",
    "}"
   ]
  },
  {
   "cell_type": "code",
   "execution_count": 23,
   "metadata": {
    "vscode": {
     "languageId": "r"
    }
   },
   "outputs": [],
   "source": [
    "ciri_prepde <- function(df, wd) {\n",
    "  samplesheet <- file.path(wd, \"samplesheet_ciri.tsv\")\n",
    "  write.table(df, samplesheet, sep = \"\\t\", quote = FALSE, row.names = TRUE, col.names = FALSE)\n",
    "\n",
    "  lib_file <- file.path(wd, \"lib_ciri.csv\")\n",
    "  circ_file <- file.path(wd, \"circ_ciri.csv\")\n",
    "  bsj_file <- file.path(wd, \"bsj_ciri.csv\")\n",
    "  ratio_file <- file.path(wd, \"ratio_ciri.csv\")\n",
    "\n",
    "  system(paste(\"prep_CIRIquant -i\", samplesheet, \"--lib\", lib_file, \"--circ\", circ_file, \"--bsj\", bsj_file, \"--ratio\", ratio_file))\n",
    "\n",
    "  return(list(lib_file, circ_file, bsj_file, ratio_file))\n",
    "}"
   ]
  },
  {
   "cell_type": "code",
   "execution_count": 24,
   "metadata": {
    "vscode": {
     "languageId": "r"
    }
   },
   "outputs": [],
   "source": [
    "stringtie_prepde <- function(df, wd) {\n",
    "  samplesheet <- file.path(wd, \"samplesheet_stringtie.tsv\")\n",
    "  write.table(df, samplesheet, sep = \"\\t\", quote = FALSE, row.names = TRUE, col.names = FALSE)\n",
    "\n",
    "  gene_file <- file.path(wd, \"gene.csv\")\n",
    "  transcript_file <- file.path(wd, \"transcript.csv\")\n",
    "\n",
    "  system(paste(\"prepDE.py -i\", samplesheet, \"-g\", gene_file, \"-t\", transcript_file))\n",
    "\n",
    "  return(list(gene_file, transcript_file))\n",
    "}\n",
    "\n",
    "ciriquant_de <- function(lib_file, bsj_file, gene_file, wd) {\n",
    "  gene_results <- file.path(wd, \"gene_results.csv\")\n",
    "  circ_results <- file.path(wd, \"circ_results.csv\")\n",
    "\n",
    "  system(paste(\"CIRI_DE_replicate --lib\", lib_file, \"--bsj\", bsj_file, \"--gene\", gene_file, \"--out\", circ_results, \"--out2\", gene_results))\n",
    "\n",
    "  return(list(gene_results, circ_results))\n",
    "}"
   ]
  },
  {
   "cell_type": "code",
   "execution_count": 44,
   "metadata": {
    "vscode": {
     "languageId": "r"
    }
   },
   "outputs": [],
   "source": [
    "run <- function(control, treatment) {\n",
    "  control_df <- create_df(control, \"C\")\n",
    "  treatment_df <- create_df(treatment, \"T\")\n",
    "  df <- rbind(control_df, treatment_df)\n",
    "\n",
    "  tryCatch({\n",
    "    temp_dir <- file.path(work_dir, stri_rand_strings(1, 10))\n",
    "    dir.create(temp_dir)\n",
    "\n",
    "    p_ciri <- ciri_prepde(df[c(\"ciri\", \"condition\")], temp_dir)\n",
    "    p_stringtie <- stringtie_prepde(df[c(\"stringtie\")], temp_dir)\n",
    "\n",
    "    p_ciri_de <- ciriquant_de(p_ciri[[1]], p_ciri[[3]], p_stringtie[[1]], temp_dir)\n",
    "\n",
    "    df_gene <- read.csv(p_ciri_de[[1]], row.names = 1)\n",
    "    df_circ <- read.csv(p_ciri_de[[2]], row.names = 1)\n",
    "\n",
    "    return(list(df_gene, df_circ))\n",
    "  },\n",
    "  finally = {\n",
    "    # unlink(temp_dir, recursive = TRUE)\n",
    "  })\n",
    "}"
   ]
  },
  {
   "cell_type": "code",
   "execution_count": 26,
   "metadata": {
    "vscode": {
     "languageId": "r"
    }
   },
   "outputs": [
    {
     "data": {
      "text/html": [
       "<table class=\"dataframe\">\n",
       "<caption>A data.frame: 6 × 6</caption>\n",
       "<thead>\n",
       "\t<tr><th></th><th scope=col>condition</th><th scope=col>age</th><th scope=col>transgene</th><th scope=col>induction</th><th scope=col>drug</th><th scope=col>replicate</th></tr>\n",
       "\t<tr><th></th><th scope=col>&lt;chr&gt;</th><th scope=col>&lt;int&gt;</th><th scope=col>&lt;fct&gt;</th><th scope=col>&lt;int&gt;</th><th scope=col>&lt;fct&gt;</th><th scope=col>&lt;int&gt;</th></tr>\n",
       "</thead>\n",
       "<tbody>\n",
       "\t<tr><th scope=row>aging_12m_ESR1_no_1</th><td>12_ESR1_0_no</td><td>12</td><td>ESR1</td><td>0</td><td>no</td><td>1</td></tr>\n",
       "\t<tr><th scope=row>aging_12m_ESR1_no_2</th><td>12_ESR1_0_no</td><td>12</td><td>ESR1</td><td>0</td><td>no</td><td>2</td></tr>\n",
       "\t<tr><th scope=row>aging_12m_ESR1_no_3</th><td>12_ESR1_0_no</td><td>12</td><td>ESR1</td><td>0</td><td>no</td><td>3</td></tr>\n",
       "\t<tr><th scope=row>aging_12m_ESR1_1w_1</th><td>12_ESR1_1_no</td><td>12</td><td>ESR1</td><td>1</td><td>no</td><td>1</td></tr>\n",
       "\t<tr><th scope=row>aging_12m_ESR1_1w_2</th><td>12_ESR1_1_no</td><td>12</td><td>ESR1</td><td>1</td><td>no</td><td>2</td></tr>\n",
       "\t<tr><th scope=row>aging_12m_ESR1_1w_3</th><td>12_ESR1_1_no</td><td>12</td><td>ESR1</td><td>1</td><td>no</td><td>3</td></tr>\n",
       "</tbody>\n",
       "</table>\n"
      ],
      "text/latex": [
       "A data.frame: 6 × 6\n",
       "\\begin{tabular}{r|llllll}\n",
       "  & condition & age & transgene & induction & drug & replicate\\\\\n",
       "  & <chr> & <int> & <fct> & <int> & <fct> & <int>\\\\\n",
       "\\hline\n",
       "\taging\\_12m\\_ESR1\\_no\\_1 & 12\\_ESR1\\_0\\_no & 12 & ESR1 & 0 & no & 1\\\\\n",
       "\taging\\_12m\\_ESR1\\_no\\_2 & 12\\_ESR1\\_0\\_no & 12 & ESR1 & 0 & no & 2\\\\\n",
       "\taging\\_12m\\_ESR1\\_no\\_3 & 12\\_ESR1\\_0\\_no & 12 & ESR1 & 0 & no & 3\\\\\n",
       "\taging\\_12m\\_ESR1\\_1w\\_1 & 12\\_ESR1\\_1\\_no & 12 & ESR1 & 1 & no & 1\\\\\n",
       "\taging\\_12m\\_ESR1\\_1w\\_2 & 12\\_ESR1\\_1\\_no & 12 & ESR1 & 1 & no & 2\\\\\n",
       "\taging\\_12m\\_ESR1\\_1w\\_3 & 12\\_ESR1\\_1\\_no & 12 & ESR1 & 1 & no & 3\\\\\n",
       "\\end{tabular}\n"
      ],
      "text/markdown": [
       "\n",
       "A data.frame: 6 × 6\n",
       "\n",
       "| <!--/--> | condition &lt;chr&gt; | age &lt;int&gt; | transgene &lt;fct&gt; | induction &lt;int&gt; | drug &lt;fct&gt; | replicate &lt;int&gt; |\n",
       "|---|---|---|---|---|---|---|\n",
       "| aging_12m_ESR1_no_1 | 12_ESR1_0_no | 12 | ESR1 | 0 | no | 1 |\n",
       "| aging_12m_ESR1_no_2 | 12_ESR1_0_no | 12 | ESR1 | 0 | no | 2 |\n",
       "| aging_12m_ESR1_no_3 | 12_ESR1_0_no | 12 | ESR1 | 0 | no | 3 |\n",
       "| aging_12m_ESR1_1w_1 | 12_ESR1_1_no | 12 | ESR1 | 1 | no | 1 |\n",
       "| aging_12m_ESR1_1w_2 | 12_ESR1_1_no | 12 | ESR1 | 1 | no | 2 |\n",
       "| aging_12m_ESR1_1w_3 | 12_ESR1_1_no | 12 | ESR1 | 1 | no | 3 |\n",
       "\n"
      ],
      "text/plain": [
       "                    condition    age transgene induction drug replicate\n",
       "aging_12m_ESR1_no_1 12_ESR1_0_no 12  ESR1      0         no   1        \n",
       "aging_12m_ESR1_no_2 12_ESR1_0_no 12  ESR1      0         no   2        \n",
       "aging_12m_ESR1_no_3 12_ESR1_0_no 12  ESR1      0         no   3        \n",
       "aging_12m_ESR1_1w_1 12_ESR1_1_no 12  ESR1      1         no   1        \n",
       "aging_12m_ESR1_1w_2 12_ESR1_1_no 12  ESR1      1         no   2        \n",
       "aging_12m_ESR1_1w_3 12_ESR1_1_no 12  ESR1      1         no   3        "
      ]
     },
     "metadata": {},
     "output_type": "display_data"
    }
   ],
   "source": [
    "phenotype <- read.csv(\"dea/phenotype.csv\", header=TRUE, row.names = 1)\n",
    "phenotype$transgene <- as.factor(phenotype$transgene)\n",
    "phenotype$drug <- as.factor(phenotype$drug)\n",
    "head(phenotype)"
   ]
  },
  {
   "cell_type": "code",
   "execution_count": 34,
   "metadata": {
    "vscode": {
     "languageId": "r"
    }
   },
   "outputs": [
    {
     "data": {
      "text/html": [
       "<table class=\"dataframe\">\n",
       "<caption>A data.frame: 6 × 72</caption>\n",
       "<thead>\n",
       "\t<tr><th></th><th scope=col>aging_12m_ESR1_no_1</th><th scope=col>aging_12m_ESR1_no_2</th><th scope=col>aging_12m_ESR1_no_3</th><th scope=col>aging_12m_ESR1_1w_1</th><th scope=col>aging_12m_ESR1_1w_2</th><th scope=col>aging_12m_ESR1_1w_3</th><th scope=col>aging_18m_ESR1_no_1</th><th scope=col>aging_18m_ESR1_no_2</th><th scope=col>aging_18m_ESR1_no_3</th><th scope=col>aging_18m_ESR1_1w_1</th><th scope=col>⋯</th><th scope=col>antiHormonal_20m_ESR1_letrozole_2m_3</th><th scope=col>antiHormonal_20m_ESR1_tamoxifen_2m_1</th><th scope=col>antiHormonal_20m_ESR1_tamoxifen_2m_2</th><th scope=col>antiHormonal_20m_ESR1_tamoxifen_2m_3</th><th scope=col>antiHormonal_20m_ESR1_no_1</th><th scope=col>antiHormonal_20m_ESR1_no_2</th><th scope=col>antiHormonal_20m_ESR1_no_3</th><th scope=col>antiHormonal_18m_ESR1_no_1</th><th scope=col>antiHormonal_18m_ESR1_no_2</th><th scope=col>antiHormonal_18m_ESR1_no_3</th></tr>\n",
       "\t<tr><th></th><th scope=col>&lt;dbl&gt;</th><th scope=col>&lt;dbl&gt;</th><th scope=col>&lt;dbl&gt;</th><th scope=col>&lt;dbl&gt;</th><th scope=col>&lt;dbl&gt;</th><th scope=col>&lt;dbl&gt;</th><th scope=col>&lt;dbl&gt;</th><th scope=col>&lt;dbl&gt;</th><th scope=col>&lt;dbl&gt;</th><th scope=col>&lt;dbl&gt;</th><th scope=col>⋯</th><th scope=col>&lt;dbl&gt;</th><th scope=col>&lt;dbl&gt;</th><th scope=col>&lt;dbl&gt;</th><th scope=col>&lt;dbl&gt;</th><th scope=col>&lt;dbl&gt;</th><th scope=col>&lt;dbl&gt;</th><th scope=col>&lt;dbl&gt;</th><th scope=col>&lt;dbl&gt;</th><th scope=col>&lt;dbl&gt;</th><th scope=col>&lt;dbl&gt;</th></tr>\n",
       "</thead>\n",
       "<tbody>\n",
       "\t<tr><th scope=row>chr10:100324141-100332733</th><td>0.0000</td><td>0</td><td>0</td><td>0</td><td>0</td><td>0</td><td>0.0000</td><td>0.0000</td><td>0</td><td>0.0307</td><td>⋯</td><td>0</td><td>0</td><td>0</td><td>0</td><td>0</td><td>0</td><td>0</td><td>0</td><td>0.0000</td><td>0</td></tr>\n",
       "\t<tr><th scope=row>chr10:100378279-100397266</th><td>0.0000</td><td>0</td><td>0</td><td>0</td><td>0</td><td>0</td><td>0.0562</td><td>0.0000</td><td>0</td><td>0.0000</td><td>⋯</td><td>0</td><td>0</td><td>0</td><td>0</td><td>0</td><td>0</td><td>0</td><td>0</td><td>0.0000</td><td>0</td></tr>\n",
       "\t<tr><th scope=row>chr10:100387226-100398093</th><td>0.0000</td><td>0</td><td>0</td><td>0</td><td>0</td><td>0</td><td>0.0281</td><td>0.0000</td><td>0</td><td>0.0000</td><td>⋯</td><td>0</td><td>0</td><td>0</td><td>0</td><td>0</td><td>0</td><td>0</td><td>0</td><td>0.0000</td><td>0</td></tr>\n",
       "\t<tr><th scope=row>chr10:102972968-102982154</th><td>0.0377</td><td>0</td><td>0</td><td>0</td><td>0</td><td>0</td><td>0.0000</td><td>0.0368</td><td>0</td><td>0.0000</td><td>⋯</td><td>0</td><td>0</td><td>0</td><td>0</td><td>0</td><td>0</td><td>0</td><td>0</td><td>0.0552</td><td>0</td></tr>\n",
       "\t<tr><th scope=row>chr10:105079450-105159498</th><td>0.0000</td><td>0</td><td>0</td><td>0</td><td>0</td><td>0</td><td>0.0000</td><td>0.0000</td><td>0</td><td>0.0000</td><td>⋯</td><td>0</td><td>0</td><td>0</td><td>0</td><td>0</td><td>0</td><td>0</td><td>0</td><td>0.0000</td><td>0</td></tr>\n",
       "\t<tr><th scope=row>chr10:105079450-105249648</th><td>0.0000</td><td>0</td><td>0</td><td>0</td><td>0</td><td>0</td><td>0.0000</td><td>0.0000</td><td>0</td><td>0.0000</td><td>⋯</td><td>0</td><td>0</td><td>0</td><td>0</td><td>0</td><td>0</td><td>0</td><td>0</td><td>0.0000</td><td>0</td></tr>\n",
       "</tbody>\n",
       "</table>\n"
      ],
      "text/latex": [
       "A data.frame: 6 × 72\n",
       "\\begin{tabular}{r|lllllllllllllllllllll}\n",
       "  & aging\\_12m\\_ESR1\\_no\\_1 & aging\\_12m\\_ESR1\\_no\\_2 & aging\\_12m\\_ESR1\\_no\\_3 & aging\\_12m\\_ESR1\\_1w\\_1 & aging\\_12m\\_ESR1\\_1w\\_2 & aging\\_12m\\_ESR1\\_1w\\_3 & aging\\_18m\\_ESR1\\_no\\_1 & aging\\_18m\\_ESR1\\_no\\_2 & aging\\_18m\\_ESR1\\_no\\_3 & aging\\_18m\\_ESR1\\_1w\\_1 & ⋯ & antiHormonal\\_20m\\_ESR1\\_letrozole\\_2m\\_3 & antiHormonal\\_20m\\_ESR1\\_tamoxifen\\_2m\\_1 & antiHormonal\\_20m\\_ESR1\\_tamoxifen\\_2m\\_2 & antiHormonal\\_20m\\_ESR1\\_tamoxifen\\_2m\\_3 & antiHormonal\\_20m\\_ESR1\\_no\\_1 & antiHormonal\\_20m\\_ESR1\\_no\\_2 & antiHormonal\\_20m\\_ESR1\\_no\\_3 & antiHormonal\\_18m\\_ESR1\\_no\\_1 & antiHormonal\\_18m\\_ESR1\\_no\\_2 & antiHormonal\\_18m\\_ESR1\\_no\\_3\\\\\n",
       "  & <dbl> & <dbl> & <dbl> & <dbl> & <dbl> & <dbl> & <dbl> & <dbl> & <dbl> & <dbl> & ⋯ & <dbl> & <dbl> & <dbl> & <dbl> & <dbl> & <dbl> & <dbl> & <dbl> & <dbl> & <dbl>\\\\\n",
       "\\hline\n",
       "\tchr10:100324141-100332733 & 0.0000 & 0 & 0 & 0 & 0 & 0 & 0.0000 & 0.0000 & 0 & 0.0307 & ⋯ & 0 & 0 & 0 & 0 & 0 & 0 & 0 & 0 & 0.0000 & 0\\\\\n",
       "\tchr10:100378279-100397266 & 0.0000 & 0 & 0 & 0 & 0 & 0 & 0.0562 & 0.0000 & 0 & 0.0000 & ⋯ & 0 & 0 & 0 & 0 & 0 & 0 & 0 & 0 & 0.0000 & 0\\\\\n",
       "\tchr10:100387226-100398093 & 0.0000 & 0 & 0 & 0 & 0 & 0 & 0.0281 & 0.0000 & 0 & 0.0000 & ⋯ & 0 & 0 & 0 & 0 & 0 & 0 & 0 & 0 & 0.0000 & 0\\\\\n",
       "\tchr10:102972968-102982154 & 0.0377 & 0 & 0 & 0 & 0 & 0 & 0.0000 & 0.0368 & 0 & 0.0000 & ⋯ & 0 & 0 & 0 & 0 & 0 & 0 & 0 & 0 & 0.0552 & 0\\\\\n",
       "\tchr10:105079450-105159498 & 0.0000 & 0 & 0 & 0 & 0 & 0 & 0.0000 & 0.0000 & 0 & 0.0000 & ⋯ & 0 & 0 & 0 & 0 & 0 & 0 & 0 & 0 & 0.0000 & 0\\\\\n",
       "\tchr10:105079450-105249648 & 0.0000 & 0 & 0 & 0 & 0 & 0 & 0.0000 & 0.0000 & 0 & 0.0000 & ⋯ & 0 & 0 & 0 & 0 & 0 & 0 & 0 & 0 & 0.0000 & 0\\\\\n",
       "\\end{tabular}\n"
      ],
      "text/markdown": [
       "\n",
       "A data.frame: 6 × 72\n",
       "\n",
       "| <!--/--> | aging_12m_ESR1_no_1 &lt;dbl&gt; | aging_12m_ESR1_no_2 &lt;dbl&gt; | aging_12m_ESR1_no_3 &lt;dbl&gt; | aging_12m_ESR1_1w_1 &lt;dbl&gt; | aging_12m_ESR1_1w_2 &lt;dbl&gt; | aging_12m_ESR1_1w_3 &lt;dbl&gt; | aging_18m_ESR1_no_1 &lt;dbl&gt; | aging_18m_ESR1_no_2 &lt;dbl&gt; | aging_18m_ESR1_no_3 &lt;dbl&gt; | aging_18m_ESR1_1w_1 &lt;dbl&gt; | ⋯ ⋯ | antiHormonal_20m_ESR1_letrozole_2m_3 &lt;dbl&gt; | antiHormonal_20m_ESR1_tamoxifen_2m_1 &lt;dbl&gt; | antiHormonal_20m_ESR1_tamoxifen_2m_2 &lt;dbl&gt; | antiHormonal_20m_ESR1_tamoxifen_2m_3 &lt;dbl&gt; | antiHormonal_20m_ESR1_no_1 &lt;dbl&gt; | antiHormonal_20m_ESR1_no_2 &lt;dbl&gt; | antiHormonal_20m_ESR1_no_3 &lt;dbl&gt; | antiHormonal_18m_ESR1_no_1 &lt;dbl&gt; | antiHormonal_18m_ESR1_no_2 &lt;dbl&gt; | antiHormonal_18m_ESR1_no_3 &lt;dbl&gt; |\n",
       "|---|---|---|---|---|---|---|---|---|---|---|---|---|---|---|---|---|---|---|---|---|---|\n",
       "| chr10:100324141-100332733 | 0.0000 | 0 | 0 | 0 | 0 | 0 | 0.0000 | 0.0000 | 0 | 0.0307 | ⋯ | 0 | 0 | 0 | 0 | 0 | 0 | 0 | 0 | 0.0000 | 0 |\n",
       "| chr10:100378279-100397266 | 0.0000 | 0 | 0 | 0 | 0 | 0 | 0.0562 | 0.0000 | 0 | 0.0000 | ⋯ | 0 | 0 | 0 | 0 | 0 | 0 | 0 | 0 | 0.0000 | 0 |\n",
       "| chr10:100387226-100398093 | 0.0000 | 0 | 0 | 0 | 0 | 0 | 0.0281 | 0.0000 | 0 | 0.0000 | ⋯ | 0 | 0 | 0 | 0 | 0 | 0 | 0 | 0 | 0.0000 | 0 |\n",
       "| chr10:102972968-102982154 | 0.0377 | 0 | 0 | 0 | 0 | 0 | 0.0000 | 0.0368 | 0 | 0.0000 | ⋯ | 0 | 0 | 0 | 0 | 0 | 0 | 0 | 0 | 0.0552 | 0 |\n",
       "| chr10:105079450-105159498 | 0.0000 | 0 | 0 | 0 | 0 | 0 | 0.0000 | 0.0000 | 0 | 0.0000 | ⋯ | 0 | 0 | 0 | 0 | 0 | 0 | 0 | 0 | 0.0000 | 0 |\n",
       "| chr10:105079450-105249648 | 0.0000 | 0 | 0 | 0 | 0 | 0 | 0.0000 | 0.0000 | 0 | 0.0000 | ⋯ | 0 | 0 | 0 | 0 | 0 | 0 | 0 | 0 | 0.0000 | 0 |\n",
       "\n"
      ],
      "text/plain": [
       "                          aging_12m_ESR1_no_1 aging_12m_ESR1_no_2\n",
       "chr10:100324141-100332733 0.0000              0                  \n",
       "chr10:100378279-100397266 0.0000              0                  \n",
       "chr10:100387226-100398093 0.0000              0                  \n",
       "chr10:102972968-102982154 0.0377              0                  \n",
       "chr10:105079450-105159498 0.0000              0                  \n",
       "chr10:105079450-105249648 0.0000              0                  \n",
       "                          aging_12m_ESR1_no_3 aging_12m_ESR1_1w_1\n",
       "chr10:100324141-100332733 0                   0                  \n",
       "chr10:100378279-100397266 0                   0                  \n",
       "chr10:100387226-100398093 0                   0                  \n",
       "chr10:102972968-102982154 0                   0                  \n",
       "chr10:105079450-105159498 0                   0                  \n",
       "chr10:105079450-105249648 0                   0                  \n",
       "                          aging_12m_ESR1_1w_2 aging_12m_ESR1_1w_3\n",
       "chr10:100324141-100332733 0                   0                  \n",
       "chr10:100378279-100397266 0                   0                  \n",
       "chr10:100387226-100398093 0                   0                  \n",
       "chr10:102972968-102982154 0                   0                  \n",
       "chr10:105079450-105159498 0                   0                  \n",
       "chr10:105079450-105249648 0                   0                  \n",
       "                          aging_18m_ESR1_no_1 aging_18m_ESR1_no_2\n",
       "chr10:100324141-100332733 0.0000              0.0000             \n",
       "chr10:100378279-100397266 0.0562              0.0000             \n",
       "chr10:100387226-100398093 0.0281              0.0000             \n",
       "chr10:102972968-102982154 0.0000              0.0368             \n",
       "chr10:105079450-105159498 0.0000              0.0000             \n",
       "chr10:105079450-105249648 0.0000              0.0000             \n",
       "                          aging_18m_ESR1_no_3 aging_18m_ESR1_1w_1 ⋯\n",
       "chr10:100324141-100332733 0                   0.0307              ⋯\n",
       "chr10:100378279-100397266 0                   0.0000              ⋯\n",
       "chr10:100387226-100398093 0                   0.0000              ⋯\n",
       "chr10:102972968-102982154 0                   0.0000              ⋯\n",
       "chr10:105079450-105159498 0                   0.0000              ⋯\n",
       "chr10:105079450-105249648 0                   0.0000              ⋯\n",
       "                          antiHormonal_20m_ESR1_letrozole_2m_3\n",
       "chr10:100324141-100332733 0                                   \n",
       "chr10:100378279-100397266 0                                   \n",
       "chr10:100387226-100398093 0                                   \n",
       "chr10:102972968-102982154 0                                   \n",
       "chr10:105079450-105159498 0                                   \n",
       "chr10:105079450-105249648 0                                   \n",
       "                          antiHormonal_20m_ESR1_tamoxifen_2m_1\n",
       "chr10:100324141-100332733 0                                   \n",
       "chr10:100378279-100397266 0                                   \n",
       "chr10:100387226-100398093 0                                   \n",
       "chr10:102972968-102982154 0                                   \n",
       "chr10:105079450-105159498 0                                   \n",
       "chr10:105079450-105249648 0                                   \n",
       "                          antiHormonal_20m_ESR1_tamoxifen_2m_2\n",
       "chr10:100324141-100332733 0                                   \n",
       "chr10:100378279-100397266 0                                   \n",
       "chr10:100387226-100398093 0                                   \n",
       "chr10:102972968-102982154 0                                   \n",
       "chr10:105079450-105159498 0                                   \n",
       "chr10:105079450-105249648 0                                   \n",
       "                          antiHormonal_20m_ESR1_tamoxifen_2m_3\n",
       "chr10:100324141-100332733 0                                   \n",
       "chr10:100378279-100397266 0                                   \n",
       "chr10:100387226-100398093 0                                   \n",
       "chr10:102972968-102982154 0                                   \n",
       "chr10:105079450-105159498 0                                   \n",
       "chr10:105079450-105249648 0                                   \n",
       "                          antiHormonal_20m_ESR1_no_1 antiHormonal_20m_ESR1_no_2\n",
       "chr10:100324141-100332733 0                          0                         \n",
       "chr10:100378279-100397266 0                          0                         \n",
       "chr10:100387226-100398093 0                          0                         \n",
       "chr10:102972968-102982154 0                          0                         \n",
       "chr10:105079450-105159498 0                          0                         \n",
       "chr10:105079450-105249648 0                          0                         \n",
       "                          antiHormonal_20m_ESR1_no_3 antiHormonal_18m_ESR1_no_1\n",
       "chr10:100324141-100332733 0                          0                         \n",
       "chr10:100378279-100397266 0                          0                         \n",
       "chr10:100387226-100398093 0                          0                         \n",
       "chr10:102972968-102982154 0                          0                         \n",
       "chr10:105079450-105159498 0                          0                         \n",
       "chr10:105079450-105249648 0                          0                         \n",
       "                          antiHormonal_18m_ESR1_no_2 antiHormonal_18m_ESR1_no_3\n",
       "chr10:100324141-100332733 0.0000                     0                         \n",
       "chr10:100378279-100397266 0.0000                     0                         \n",
       "chr10:100387226-100398093 0.0000                     0                         \n",
       "chr10:102972968-102982154 0.0552                     0                         \n",
       "chr10:105079450-105159498 0.0000                     0                         \n",
       "chr10:105079450-105249648 0.0000                     0                         "
      ]
     },
     "metadata": {},
     "output_type": "display_data"
    }
   ],
   "source": [
    "circ_expression <- read.table(\"quantification/ciriquant.tsv\", sep=\"\\t\", header=TRUE, row.names=1)\n",
    "genes <- circ_expression$gene_id\n",
    "names(genes) <- rownames(circ_expression)\n",
    "circ_expression <- circ_expression[,rownames(phenotype)]\n",
    "head(circ_expression)"
   ]
  },
  {
   "cell_type": "code",
   "execution_count": 28,
   "metadata": {
    "vscode": {
     "languageId": "r"
    }
   },
   "outputs": [
    {
     "data": {
      "text/html": [
       "<table class=\"dataframe\">\n",
       "<caption>A data.frame: 6 × 72</caption>\n",
       "<thead>\n",
       "\t<tr><th></th><th scope=col>aging_12m_ESR1_no_1</th><th scope=col>aging_12m_ESR1_no_2</th><th scope=col>aging_12m_ESR1_no_3</th><th scope=col>aging_12m_ESR1_1w_1</th><th scope=col>aging_12m_ESR1_1w_2</th><th scope=col>aging_12m_ESR1_1w_3</th><th scope=col>aging_18m_ESR1_no_1</th><th scope=col>aging_18m_ESR1_no_2</th><th scope=col>aging_18m_ESR1_no_3</th><th scope=col>aging_18m_ESR1_1w_1</th><th scope=col>⋯</th><th scope=col>antiHormonal_20m_ESR1_letrozole_2m_3</th><th scope=col>antiHormonal_20m_ESR1_tamoxifen_2m_1</th><th scope=col>antiHormonal_20m_ESR1_tamoxifen_2m_2</th><th scope=col>antiHormonal_20m_ESR1_tamoxifen_2m_3</th><th scope=col>antiHormonal_20m_ESR1_no_1</th><th scope=col>antiHormonal_20m_ESR1_no_2</th><th scope=col>antiHormonal_20m_ESR1_no_3</th><th scope=col>antiHormonal_18m_ESR1_no_1</th><th scope=col>antiHormonal_18m_ESR1_no_2</th><th scope=col>antiHormonal_18m_ESR1_no_3</th></tr>\n",
       "\t<tr><th></th><th scope=col>&lt;dbl&gt;</th><th scope=col>&lt;dbl&gt;</th><th scope=col>&lt;dbl&gt;</th><th scope=col>&lt;dbl&gt;</th><th scope=col>&lt;dbl&gt;</th><th scope=col>&lt;dbl&gt;</th><th scope=col>&lt;dbl&gt;</th><th scope=col>&lt;dbl&gt;</th><th scope=col>&lt;dbl&gt;</th><th scope=col>&lt;dbl&gt;</th><th scope=col>⋯</th><th scope=col>&lt;dbl&gt;</th><th scope=col>&lt;dbl&gt;</th><th scope=col>&lt;dbl&gt;</th><th scope=col>&lt;dbl&gt;</th><th scope=col>&lt;dbl&gt;</th><th scope=col>&lt;dbl&gt;</th><th scope=col>&lt;dbl&gt;</th><th scope=col>&lt;dbl&gt;</th><th scope=col>&lt;dbl&gt;</th><th scope=col>&lt;dbl&gt;</th></tr>\n",
       "</thead>\n",
       "<tbody>\n",
       "\t<tr><th scope=row>0610005C13Rik</th><td>0.049659</td><td>0.022042</td><td>0.014380</td><td>0.050797</td><td>0.016980</td><td>0.035141</td><td>0.057923</td><td>0.000000</td><td>0.000000</td><td>0.000000</td><td>⋯</td><td>0.122406</td><td>0.016963</td><td>0.000000</td><td>0.000000</td><td>0.022942</td><td>0.027626</td><td>0.000000</td><td>0.052219</td><td>0.039258</td><td>0.000000</td></tr>\n",
       "\t<tr><th scope=row>0610006L08Rik</th><td>0.000000</td><td>0.000000</td><td>0.000000</td><td>0.024856</td><td>0.000000</td><td>0.000000</td><td>0.000000</td><td>0.000000</td><td>0.000000</td><td>0.000000</td><td>⋯</td><td>0.000000</td><td>0.000000</td><td>0.000000</td><td>0.000000</td><td>0.000000</td><td>0.000000</td><td>0.000000</td><td>0.000000</td><td>0.009605</td><td>0.000000</td></tr>\n",
       "\t<tr><th scope=row>0610009E02Rik</th><td>0.381680</td><td>0.687776</td><td>0.431627</td><td>0.295980</td><td>0.420362</td><td>0.278761</td><td>0.226290</td><td>0.336235</td><td>0.371526</td><td>0.516198</td><td>⋯</td><td>0.290387</td><td>0.265336</td><td>0.356291</td><td>0.525629</td><td>0.311458</td><td>0.496499</td><td>0.253480</td><td>0.524102</td><td>0.250238</td><td>0.407790</td></tr>\n",
       "\t<tr><th scope=row>0610009L18Rik</th><td>1.968853</td><td>1.827257</td><td>2.106860</td><td>1.617287</td><td>1.377004</td><td>2.248239</td><td>2.442666</td><td>1.502402</td><td>1.702409</td><td>1.624864</td><td>⋯</td><td>2.757450</td><td>2.598394</td><td>2.159407</td><td>2.334797</td><td>2.232605</td><td>1.792310</td><td>1.588909</td><td>2.038981</td><td>1.627236</td><td>1.200321</td></tr>\n",
       "\t<tr><th scope=row>0610010K14Rik</th><td>5.180386</td><td>6.145867</td><td>4.719103</td><td>6.447013</td><td>5.178654</td><td>6.821811</td><td>4.078035</td><td>5.470046</td><td>5.439292</td><td>5.037731</td><td>⋯</td><td>4.736633</td><td>5.265562</td><td>4.903018</td><td>4.529731</td><td>5.492201</td><td>6.087096</td><td>7.292915</td><td>7.001800</td><td>5.633049</td><td>4.343781</td></tr>\n",
       "\t<tr><th scope=row>0610025J13Rik</th><td>0.028554</td><td>0.019011</td><td>0.048791</td><td>0.015226</td><td>0.015269</td><td>0.023701</td><td>0.000000</td><td>0.007208</td><td>0.006963</td><td>0.000000</td><td>⋯</td><td>0.027519</td><td>0.007627</td><td>0.036733</td><td>0.027936</td><td>0.030946</td><td>0.000000</td><td>0.013214</td><td>0.015013</td><td>0.000000</td><td>0.011979</td></tr>\n",
       "</tbody>\n",
       "</table>\n"
      ],
      "text/latex": [
       "A data.frame: 6 × 72\n",
       "\\begin{tabular}{r|lllllllllllllllllllll}\n",
       "  & aging\\_12m\\_ESR1\\_no\\_1 & aging\\_12m\\_ESR1\\_no\\_2 & aging\\_12m\\_ESR1\\_no\\_3 & aging\\_12m\\_ESR1\\_1w\\_1 & aging\\_12m\\_ESR1\\_1w\\_2 & aging\\_12m\\_ESR1\\_1w\\_3 & aging\\_18m\\_ESR1\\_no\\_1 & aging\\_18m\\_ESR1\\_no\\_2 & aging\\_18m\\_ESR1\\_no\\_3 & aging\\_18m\\_ESR1\\_1w\\_1 & ⋯ & antiHormonal\\_20m\\_ESR1\\_letrozole\\_2m\\_3 & antiHormonal\\_20m\\_ESR1\\_tamoxifen\\_2m\\_1 & antiHormonal\\_20m\\_ESR1\\_tamoxifen\\_2m\\_2 & antiHormonal\\_20m\\_ESR1\\_tamoxifen\\_2m\\_3 & antiHormonal\\_20m\\_ESR1\\_no\\_1 & antiHormonal\\_20m\\_ESR1\\_no\\_2 & antiHormonal\\_20m\\_ESR1\\_no\\_3 & antiHormonal\\_18m\\_ESR1\\_no\\_1 & antiHormonal\\_18m\\_ESR1\\_no\\_2 & antiHormonal\\_18m\\_ESR1\\_no\\_3\\\\\n",
       "  & <dbl> & <dbl> & <dbl> & <dbl> & <dbl> & <dbl> & <dbl> & <dbl> & <dbl> & <dbl> & ⋯ & <dbl> & <dbl> & <dbl> & <dbl> & <dbl> & <dbl> & <dbl> & <dbl> & <dbl> & <dbl>\\\\\n",
       "\\hline\n",
       "\t0610005C13Rik & 0.049659 & 0.022042 & 0.014380 & 0.050797 & 0.016980 & 0.035141 & 0.057923 & 0.000000 & 0.000000 & 0.000000 & ⋯ & 0.122406 & 0.016963 & 0.000000 & 0.000000 & 0.022942 & 0.027626 & 0.000000 & 0.052219 & 0.039258 & 0.000000\\\\\n",
       "\t0610006L08Rik & 0.000000 & 0.000000 & 0.000000 & 0.024856 & 0.000000 & 0.000000 & 0.000000 & 0.000000 & 0.000000 & 0.000000 & ⋯ & 0.000000 & 0.000000 & 0.000000 & 0.000000 & 0.000000 & 0.000000 & 0.000000 & 0.000000 & 0.009605 & 0.000000\\\\\n",
       "\t0610009E02Rik & 0.381680 & 0.687776 & 0.431627 & 0.295980 & 0.420362 & 0.278761 & 0.226290 & 0.336235 & 0.371526 & 0.516198 & ⋯ & 0.290387 & 0.265336 & 0.356291 & 0.525629 & 0.311458 & 0.496499 & 0.253480 & 0.524102 & 0.250238 & 0.407790\\\\\n",
       "\t0610009L18Rik & 1.968853 & 1.827257 & 2.106860 & 1.617287 & 1.377004 & 2.248239 & 2.442666 & 1.502402 & 1.702409 & 1.624864 & ⋯ & 2.757450 & 2.598394 & 2.159407 & 2.334797 & 2.232605 & 1.792310 & 1.588909 & 2.038981 & 1.627236 & 1.200321\\\\\n",
       "\t0610010K14Rik & 5.180386 & 6.145867 & 4.719103 & 6.447013 & 5.178654 & 6.821811 & 4.078035 & 5.470046 & 5.439292 & 5.037731 & ⋯ & 4.736633 & 5.265562 & 4.903018 & 4.529731 & 5.492201 & 6.087096 & 7.292915 & 7.001800 & 5.633049 & 4.343781\\\\\n",
       "\t0610025J13Rik & 0.028554 & 0.019011 & 0.048791 & 0.015226 & 0.015269 & 0.023701 & 0.000000 & 0.007208 & 0.006963 & 0.000000 & ⋯ & 0.027519 & 0.007627 & 0.036733 & 0.027936 & 0.030946 & 0.000000 & 0.013214 & 0.015013 & 0.000000 & 0.011979\\\\\n",
       "\\end{tabular}\n"
      ],
      "text/markdown": [
       "\n",
       "A data.frame: 6 × 72\n",
       "\n",
       "| <!--/--> | aging_12m_ESR1_no_1 &lt;dbl&gt; | aging_12m_ESR1_no_2 &lt;dbl&gt; | aging_12m_ESR1_no_3 &lt;dbl&gt; | aging_12m_ESR1_1w_1 &lt;dbl&gt; | aging_12m_ESR1_1w_2 &lt;dbl&gt; | aging_12m_ESR1_1w_3 &lt;dbl&gt; | aging_18m_ESR1_no_1 &lt;dbl&gt; | aging_18m_ESR1_no_2 &lt;dbl&gt; | aging_18m_ESR1_no_3 &lt;dbl&gt; | aging_18m_ESR1_1w_1 &lt;dbl&gt; | ⋯ ⋯ | antiHormonal_20m_ESR1_letrozole_2m_3 &lt;dbl&gt; | antiHormonal_20m_ESR1_tamoxifen_2m_1 &lt;dbl&gt; | antiHormonal_20m_ESR1_tamoxifen_2m_2 &lt;dbl&gt; | antiHormonal_20m_ESR1_tamoxifen_2m_3 &lt;dbl&gt; | antiHormonal_20m_ESR1_no_1 &lt;dbl&gt; | antiHormonal_20m_ESR1_no_2 &lt;dbl&gt; | antiHormonal_20m_ESR1_no_3 &lt;dbl&gt; | antiHormonal_18m_ESR1_no_1 &lt;dbl&gt; | antiHormonal_18m_ESR1_no_2 &lt;dbl&gt; | antiHormonal_18m_ESR1_no_3 &lt;dbl&gt; |\n",
       "|---|---|---|---|---|---|---|---|---|---|---|---|---|---|---|---|---|---|---|---|---|---|\n",
       "| 0610005C13Rik | 0.049659 | 0.022042 | 0.014380 | 0.050797 | 0.016980 | 0.035141 | 0.057923 | 0.000000 | 0.000000 | 0.000000 | ⋯ | 0.122406 | 0.016963 | 0.000000 | 0.000000 | 0.022942 | 0.027626 | 0.000000 | 0.052219 | 0.039258 | 0.000000 |\n",
       "| 0610006L08Rik | 0.000000 | 0.000000 | 0.000000 | 0.024856 | 0.000000 | 0.000000 | 0.000000 | 0.000000 | 0.000000 | 0.000000 | ⋯ | 0.000000 | 0.000000 | 0.000000 | 0.000000 | 0.000000 | 0.000000 | 0.000000 | 0.000000 | 0.009605 | 0.000000 |\n",
       "| 0610009E02Rik | 0.381680 | 0.687776 | 0.431627 | 0.295980 | 0.420362 | 0.278761 | 0.226290 | 0.336235 | 0.371526 | 0.516198 | ⋯ | 0.290387 | 0.265336 | 0.356291 | 0.525629 | 0.311458 | 0.496499 | 0.253480 | 0.524102 | 0.250238 | 0.407790 |\n",
       "| 0610009L18Rik | 1.968853 | 1.827257 | 2.106860 | 1.617287 | 1.377004 | 2.248239 | 2.442666 | 1.502402 | 1.702409 | 1.624864 | ⋯ | 2.757450 | 2.598394 | 2.159407 | 2.334797 | 2.232605 | 1.792310 | 1.588909 | 2.038981 | 1.627236 | 1.200321 |\n",
       "| 0610010K14Rik | 5.180386 | 6.145867 | 4.719103 | 6.447013 | 5.178654 | 6.821811 | 4.078035 | 5.470046 | 5.439292 | 5.037731 | ⋯ | 4.736633 | 5.265562 | 4.903018 | 4.529731 | 5.492201 | 6.087096 | 7.292915 | 7.001800 | 5.633049 | 4.343781 |\n",
       "| 0610025J13Rik | 0.028554 | 0.019011 | 0.048791 | 0.015226 | 0.015269 | 0.023701 | 0.000000 | 0.007208 | 0.006963 | 0.000000 | ⋯ | 0.027519 | 0.007627 | 0.036733 | 0.027936 | 0.030946 | 0.000000 | 0.013214 | 0.015013 | 0.000000 | 0.011979 |\n",
       "\n"
      ],
      "text/plain": [
       "              aging_12m_ESR1_no_1 aging_12m_ESR1_no_2 aging_12m_ESR1_no_3\n",
       "0610005C13Rik 0.049659            0.022042            0.014380           \n",
       "0610006L08Rik 0.000000            0.000000            0.000000           \n",
       "0610009E02Rik 0.381680            0.687776            0.431627           \n",
       "0610009L18Rik 1.968853            1.827257            2.106860           \n",
       "0610010K14Rik 5.180386            6.145867            4.719103           \n",
       "0610025J13Rik 0.028554            0.019011            0.048791           \n",
       "              aging_12m_ESR1_1w_1 aging_12m_ESR1_1w_2 aging_12m_ESR1_1w_3\n",
       "0610005C13Rik 0.050797            0.016980            0.035141           \n",
       "0610006L08Rik 0.024856            0.000000            0.000000           \n",
       "0610009E02Rik 0.295980            0.420362            0.278761           \n",
       "0610009L18Rik 1.617287            1.377004            2.248239           \n",
       "0610010K14Rik 6.447013            5.178654            6.821811           \n",
       "0610025J13Rik 0.015226            0.015269            0.023701           \n",
       "              aging_18m_ESR1_no_1 aging_18m_ESR1_no_2 aging_18m_ESR1_no_3\n",
       "0610005C13Rik 0.057923            0.000000            0.000000           \n",
       "0610006L08Rik 0.000000            0.000000            0.000000           \n",
       "0610009E02Rik 0.226290            0.336235            0.371526           \n",
       "0610009L18Rik 2.442666            1.502402            1.702409           \n",
       "0610010K14Rik 4.078035            5.470046            5.439292           \n",
       "0610025J13Rik 0.000000            0.007208            0.006963           \n",
       "              aging_18m_ESR1_1w_1 ⋯ antiHormonal_20m_ESR1_letrozole_2m_3\n",
       "0610005C13Rik 0.000000            ⋯ 0.122406                            \n",
       "0610006L08Rik 0.000000            ⋯ 0.000000                            \n",
       "0610009E02Rik 0.516198            ⋯ 0.290387                            \n",
       "0610009L18Rik 1.624864            ⋯ 2.757450                            \n",
       "0610010K14Rik 5.037731            ⋯ 4.736633                            \n",
       "0610025J13Rik 0.000000            ⋯ 0.027519                            \n",
       "              antiHormonal_20m_ESR1_tamoxifen_2m_1\n",
       "0610005C13Rik 0.016963                            \n",
       "0610006L08Rik 0.000000                            \n",
       "0610009E02Rik 0.265336                            \n",
       "0610009L18Rik 2.598394                            \n",
       "0610010K14Rik 5.265562                            \n",
       "0610025J13Rik 0.007627                            \n",
       "              antiHormonal_20m_ESR1_tamoxifen_2m_2\n",
       "0610005C13Rik 0.000000                            \n",
       "0610006L08Rik 0.000000                            \n",
       "0610009E02Rik 0.356291                            \n",
       "0610009L18Rik 2.159407                            \n",
       "0610010K14Rik 4.903018                            \n",
       "0610025J13Rik 0.036733                            \n",
       "              antiHormonal_20m_ESR1_tamoxifen_2m_3 antiHormonal_20m_ESR1_no_1\n",
       "0610005C13Rik 0.000000                             0.022942                  \n",
       "0610006L08Rik 0.000000                             0.000000                  \n",
       "0610009E02Rik 0.525629                             0.311458                  \n",
       "0610009L18Rik 2.334797                             2.232605                  \n",
       "0610010K14Rik 4.529731                             5.492201                  \n",
       "0610025J13Rik 0.027936                             0.030946                  \n",
       "              antiHormonal_20m_ESR1_no_2 antiHormonal_20m_ESR1_no_3\n",
       "0610005C13Rik 0.027626                   0.000000                  \n",
       "0610006L08Rik 0.000000                   0.000000                  \n",
       "0610009E02Rik 0.496499                   0.253480                  \n",
       "0610009L18Rik 1.792310                   1.588909                  \n",
       "0610010K14Rik 6.087096                   7.292915                  \n",
       "0610025J13Rik 0.000000                   0.013214                  \n",
       "              antiHormonal_18m_ESR1_no_1 antiHormonal_18m_ESR1_no_2\n",
       "0610005C13Rik 0.052219                   0.039258                  \n",
       "0610006L08Rik 0.000000                   0.009605                  \n",
       "0610009E02Rik 0.524102                   0.250238                  \n",
       "0610009L18Rik 2.038981                   1.627236                  \n",
       "0610010K14Rik 7.001800                   5.633049                  \n",
       "0610025J13Rik 0.015013                   0.000000                  \n",
       "              antiHormonal_18m_ESR1_no_3\n",
       "0610005C13Rik 0.000000                  \n",
       "0610006L08Rik 0.000000                  \n",
       "0610009E02Rik 0.407790                  \n",
       "0610009L18Rik 1.200321                  \n",
       "0610010K14Rik 4.343781                  \n",
       "0610025J13Rik 0.011979                  "
      ]
     },
     "metadata": {},
     "output_type": "display_data"
    }
   ],
   "source": [
    "df_genes <- read.table(\"dea/gene_tpm.tsv\", sep=\"\\t\", header=TRUE, row.names=1)\n",
    "df_genes$gene_name <- NULL\n",
    "# Order genes columns like phenotype rows\n",
    "df_genes <- df_genes[,rownames(phenotype)]\n",
    "phenotype$esr1 <- as.numeric(df_genes[\"Esr1\",])\n",
    "head(df_genes)"
   ]
  },
  {
   "cell_type": "code",
   "execution_count": 37,
   "metadata": {
    "vscode": {
     "languageId": "r"
    }
   },
   "outputs": [
    {
     "data": {
      "text/html": [
       "<table class=\"dataframe\">\n",
       "<caption>A data.frame: 20 × 4</caption>\n",
       "<thead>\n",
       "\t<tr><th></th><th scope=col>correlation</th><th scope=col>p.value</th><th scope=col>p.adj</th><th scope=col>genes[rownames(correlations)]</th></tr>\n",
       "\t<tr><th></th><th scope=col>&lt;dbl&gt;</th><th scope=col>&lt;dbl&gt;</th><th scope=col>&lt;dbl&gt;</th><th scope=col>&lt;chr&gt;</th></tr>\n",
       "</thead>\n",
       "<tbody>\n",
       "\t<tr><th scope=row>chr10:106798823-106840676</th><td>0.3765251</td><td>0.0011146508</td><td>0.2346631</td><td>Acss3        </td></tr>\n",
       "\t<tr><th scope=row>chr10:128354797-128358984</th><td>0.3498314</td><td>0.0025930589</td><td>0.2346631</td><td>Esyt1        </td></tr>\n",
       "\t<tr><th scope=row>chr10:17783782-17791780</th><td>0.4048691</td><td>0.0004192854</td><td>0.2346631</td><td>Heca         </td></tr>\n",
       "\t<tr><th scope=row>chr10:25143206-25165628</th><td>0.4165935</td><td>0.0002726275</td><td>0.2346631</td><td>Akap7        </td></tr>\n",
       "\t<tr><th scope=row>chr10:63124831-63135018</th><td>0.3498314</td><td>0.0025930589</td><td>0.2346631</td><td>Herc4        </td></tr>\n",
       "\t<tr><th scope=row>chr10:69794748-69816224</th><td>0.3671009</td><td>0.0015140893</td><td>0.2346631</td><td>Ank3         </td></tr>\n",
       "\t<tr><th scope=row>chr10:76272260-76273050</th><td>0.3505902</td><td>0.0025340405</td><td>0.2346631</td><td>Pcnt         </td></tr>\n",
       "\t<tr><th scope=row>chr10:79862371-79862761</th><td>0.3498314</td><td>0.0025930589</td><td>0.2346631</td><td>Arhgap45     </td></tr>\n",
       "\t<tr><th scope=row>chr10:90895435-90897691</th><td>0.3498314</td><td>0.0025930589</td><td>0.2346631</td><td>Apaf1        </td></tr>\n",
       "\t<tr><th scope=row>chr10:90895910-90915950</th><td>0.3498314</td><td>0.0025930589</td><td>0.2346631</td><td>Apaf1        </td></tr>\n",
       "\t<tr><th scope=row>chr10:93704729-93707511</th><td>0.3498314</td><td>0.0025930589</td><td>0.2346631</td><td>Metap2       </td></tr>\n",
       "\t<tr><th scope=row>chr10:94584803-94586521</th><td>0.3555379</td><td>0.0021778020</td><td>0.2346631</td><td>Cep83        </td></tr>\n",
       "\t<tr><th scope=row>chr11:100685369-100687367</th><td>0.3498314</td><td>0.0025930589</td><td>0.2346631</td><td>Stat5b       </td></tr>\n",
       "\t<tr><th scope=row>chr11:104408202-104425711</th><td>0.3498314</td><td>0.0025930589</td><td>0.2346631</td><td>Cdc27        </td></tr>\n",
       "\t<tr><th scope=row>chr11:106095747-106102606</th><td>0.4195136</td><td>0.0002443095</td><td>0.2346631</td><td>Ccdc47       </td></tr>\n",
       "\t<tr><th scope=row>chr11:106210018-106210216</th><td>0.3498314</td><td>0.0025930589</td><td>0.2346631</td><td>Scn4a        </td></tr>\n",
       "\t<tr><th scope=row>chr11:110028960-110030464</th><td>0.3498314</td><td>0.0025930589</td><td>0.2346631</td><td>Abca9        </td></tr>\n",
       "\t<tr><th scope=row>chr11:113542671-113542912</th><td>0.3501183</td><td>0.0025705971</td><td>0.2346631</td><td>Cog1         </td></tr>\n",
       "\t<tr><th scope=row>chr11:121350227-121394613</th><td>0.3498314</td><td>0.0025930589</td><td>0.2346631</td><td>Tbcd         </td></tr>\n",
       "\t<tr><th scope=row>chr11:18966280-18968240</th><td>0.3498314</td><td>0.0025930589</td><td>0.2346631</td><td>Gm16141,Meis1</td></tr>\n",
       "</tbody>\n",
       "</table>\n"
      ],
      "text/latex": [
       "A data.frame: 20 × 4\n",
       "\\begin{tabular}{r|llll}\n",
       "  & correlation & p.value & p.adj & genes{[}rownames(correlations){]}\\\\\n",
       "  & <dbl> & <dbl> & <dbl> & <chr>\\\\\n",
       "\\hline\n",
       "\tchr10:106798823-106840676 & 0.3765251 & 0.0011146508 & 0.2346631 & Acss3        \\\\\n",
       "\tchr10:128354797-128358984 & 0.3498314 & 0.0025930589 & 0.2346631 & Esyt1        \\\\\n",
       "\tchr10:17783782-17791780 & 0.4048691 & 0.0004192854 & 0.2346631 & Heca         \\\\\n",
       "\tchr10:25143206-25165628 & 0.4165935 & 0.0002726275 & 0.2346631 & Akap7        \\\\\n",
       "\tchr10:63124831-63135018 & 0.3498314 & 0.0025930589 & 0.2346631 & Herc4        \\\\\n",
       "\tchr10:69794748-69816224 & 0.3671009 & 0.0015140893 & 0.2346631 & Ank3         \\\\\n",
       "\tchr10:76272260-76273050 & 0.3505902 & 0.0025340405 & 0.2346631 & Pcnt         \\\\\n",
       "\tchr10:79862371-79862761 & 0.3498314 & 0.0025930589 & 0.2346631 & Arhgap45     \\\\\n",
       "\tchr10:90895435-90897691 & 0.3498314 & 0.0025930589 & 0.2346631 & Apaf1        \\\\\n",
       "\tchr10:90895910-90915950 & 0.3498314 & 0.0025930589 & 0.2346631 & Apaf1        \\\\\n",
       "\tchr10:93704729-93707511 & 0.3498314 & 0.0025930589 & 0.2346631 & Metap2       \\\\\n",
       "\tchr10:94584803-94586521 & 0.3555379 & 0.0021778020 & 0.2346631 & Cep83        \\\\\n",
       "\tchr11:100685369-100687367 & 0.3498314 & 0.0025930589 & 0.2346631 & Stat5b       \\\\\n",
       "\tchr11:104408202-104425711 & 0.3498314 & 0.0025930589 & 0.2346631 & Cdc27        \\\\\n",
       "\tchr11:106095747-106102606 & 0.4195136 & 0.0002443095 & 0.2346631 & Ccdc47       \\\\\n",
       "\tchr11:106210018-106210216 & 0.3498314 & 0.0025930589 & 0.2346631 & Scn4a        \\\\\n",
       "\tchr11:110028960-110030464 & 0.3498314 & 0.0025930589 & 0.2346631 & Abca9        \\\\\n",
       "\tchr11:113542671-113542912 & 0.3501183 & 0.0025705971 & 0.2346631 & Cog1         \\\\\n",
       "\tchr11:121350227-121394613 & 0.3498314 & 0.0025930589 & 0.2346631 & Tbcd         \\\\\n",
       "\tchr11:18966280-18968240 & 0.3498314 & 0.0025930589 & 0.2346631 & Gm16141,Meis1\\\\\n",
       "\\end{tabular}\n"
      ],
      "text/markdown": [
       "\n",
       "A data.frame: 20 × 4\n",
       "\n",
       "| <!--/--> | correlation &lt;dbl&gt; | p.value &lt;dbl&gt; | p.adj &lt;dbl&gt; | genes[rownames(correlations)] &lt;chr&gt; |\n",
       "|---|---|---|---|---|\n",
       "| chr10:106798823-106840676 | 0.3765251 | 0.0011146508 | 0.2346631 | Acss3         |\n",
       "| chr10:128354797-128358984 | 0.3498314 | 0.0025930589 | 0.2346631 | Esyt1         |\n",
       "| chr10:17783782-17791780 | 0.4048691 | 0.0004192854 | 0.2346631 | Heca          |\n",
       "| chr10:25143206-25165628 | 0.4165935 | 0.0002726275 | 0.2346631 | Akap7         |\n",
       "| chr10:63124831-63135018 | 0.3498314 | 0.0025930589 | 0.2346631 | Herc4         |\n",
       "| chr10:69794748-69816224 | 0.3671009 | 0.0015140893 | 0.2346631 | Ank3          |\n",
       "| chr10:76272260-76273050 | 0.3505902 | 0.0025340405 | 0.2346631 | Pcnt          |\n",
       "| chr10:79862371-79862761 | 0.3498314 | 0.0025930589 | 0.2346631 | Arhgap45      |\n",
       "| chr10:90895435-90897691 | 0.3498314 | 0.0025930589 | 0.2346631 | Apaf1         |\n",
       "| chr10:90895910-90915950 | 0.3498314 | 0.0025930589 | 0.2346631 | Apaf1         |\n",
       "| chr10:93704729-93707511 | 0.3498314 | 0.0025930589 | 0.2346631 | Metap2        |\n",
       "| chr10:94584803-94586521 | 0.3555379 | 0.0021778020 | 0.2346631 | Cep83         |\n",
       "| chr11:100685369-100687367 | 0.3498314 | 0.0025930589 | 0.2346631 | Stat5b        |\n",
       "| chr11:104408202-104425711 | 0.3498314 | 0.0025930589 | 0.2346631 | Cdc27         |\n",
       "| chr11:106095747-106102606 | 0.4195136 | 0.0002443095 | 0.2346631 | Ccdc47        |\n",
       "| chr11:106210018-106210216 | 0.3498314 | 0.0025930589 | 0.2346631 | Scn4a         |\n",
       "| chr11:110028960-110030464 | 0.3498314 | 0.0025930589 | 0.2346631 | Abca9         |\n",
       "| chr11:113542671-113542912 | 0.3501183 | 0.0025705971 | 0.2346631 | Cog1          |\n",
       "| chr11:121350227-121394613 | 0.3498314 | 0.0025930589 | 0.2346631 | Tbcd          |\n",
       "| chr11:18966280-18968240 | 0.3498314 | 0.0025930589 | 0.2346631 | Gm16141,Meis1 |\n",
       "\n"
      ],
      "text/plain": [
       "                          correlation p.value      p.adj    \n",
       "chr10:106798823-106840676 0.3765251   0.0011146508 0.2346631\n",
       "chr10:128354797-128358984 0.3498314   0.0025930589 0.2346631\n",
       "chr10:17783782-17791780   0.4048691   0.0004192854 0.2346631\n",
       "chr10:25143206-25165628   0.4165935   0.0002726275 0.2346631\n",
       "chr10:63124831-63135018   0.3498314   0.0025930589 0.2346631\n",
       "chr10:69794748-69816224   0.3671009   0.0015140893 0.2346631\n",
       "chr10:76272260-76273050   0.3505902   0.0025340405 0.2346631\n",
       "chr10:79862371-79862761   0.3498314   0.0025930589 0.2346631\n",
       "chr10:90895435-90897691   0.3498314   0.0025930589 0.2346631\n",
       "chr10:90895910-90915950   0.3498314   0.0025930589 0.2346631\n",
       "chr10:93704729-93707511   0.3498314   0.0025930589 0.2346631\n",
       "chr10:94584803-94586521   0.3555379   0.0021778020 0.2346631\n",
       "chr11:100685369-100687367 0.3498314   0.0025930589 0.2346631\n",
       "chr11:104408202-104425711 0.3498314   0.0025930589 0.2346631\n",
       "chr11:106095747-106102606 0.4195136   0.0002443095 0.2346631\n",
       "chr11:106210018-106210216 0.3498314   0.0025930589 0.2346631\n",
       "chr11:110028960-110030464 0.3498314   0.0025930589 0.2346631\n",
       "chr11:113542671-113542912 0.3501183   0.0025705971 0.2346631\n",
       "chr11:121350227-121394613 0.3498314   0.0025930589 0.2346631\n",
       "chr11:18966280-18968240   0.3498314   0.0025930589 0.2346631\n",
       "                          genes[rownames(correlations)]\n",
       "chr10:106798823-106840676 Acss3                        \n",
       "chr10:128354797-128358984 Esyt1                        \n",
       "chr10:17783782-17791780   Heca                         \n",
       "chr10:25143206-25165628   Akap7                        \n",
       "chr10:63124831-63135018   Herc4                        \n",
       "chr10:69794748-69816224   Ank3                         \n",
       "chr10:76272260-76273050   Pcnt                         \n",
       "chr10:79862371-79862761   Arhgap45                     \n",
       "chr10:90895435-90897691   Apaf1                        \n",
       "chr10:90895910-90915950   Apaf1                        \n",
       "chr10:93704729-93707511   Metap2                       \n",
       "chr10:94584803-94586521   Cep83                        \n",
       "chr11:100685369-100687367 Stat5b                       \n",
       "chr11:104408202-104425711 Cdc27                        \n",
       "chr11:106095747-106102606 Ccdc47                       \n",
       "chr11:106210018-106210216 Scn4a                        \n",
       "chr11:110028960-110030464 Abca9                        \n",
       "chr11:113542671-113542912 Cog1                         \n",
       "chr11:121350227-121394613 Tbcd                         \n",
       "chr11:18966280-18968240   Gm16141,Meis1                "
      ]
     },
     "metadata": {},
     "output_type": "display_data"
    }
   ],
   "source": [
    "correlations <- t(apply(circ_expression, 1, function(row) {\n",
    "    res <- cor.test(as.numeric(row), phenotype$esr1)\n",
    "    return(c(res$estimate, res$p.value))\n",
    "}))\n",
    "correlations <- as.data.frame(correlations)\n",
    "colnames(correlations) <- c(\"correlation\", \"p.value\")\n",
    "correlations$p.adj <- p.adjust(correlations$p.value, method = \"BH\")\n",
    "correlations <- correlations[order(correlations$p.adj),]\n",
    "correlations <- cbind(correlations, genes[rownames(correlations)])\n",
    "head(correlations, 20)"
   ]
  },
  {
   "cell_type": "markdown",
   "metadata": {},
   "source": [
    "# Aging"
   ]
  },
  {
   "cell_type": "code",
   "execution_count": 41,
   "metadata": {
    "vscode": {
     "languageId": "r"
    }
   },
   "outputs": [
    {
     "data": {
      "text/html": [
       "<table class=\"dataframe\">\n",
       "<caption>A data.frame: 6 × 7</caption>\n",
       "<thead>\n",
       "\t<tr><th></th><th scope=col>condition</th><th scope=col>age</th><th scope=col>transgene</th><th scope=col>induction</th><th scope=col>drug</th><th scope=col>replicate</th><th scope=col>esr1</th></tr>\n",
       "\t<tr><th></th><th scope=col>&lt;chr&gt;</th><th scope=col>&lt;int&gt;</th><th scope=col>&lt;fct&gt;</th><th scope=col>&lt;int&gt;</th><th scope=col>&lt;fct&gt;</th><th scope=col>&lt;int&gt;</th><th scope=col>&lt;dbl&gt;</th></tr>\n",
       "</thead>\n",
       "<tbody>\n",
       "\t<tr><th scope=row>aging_12m_ESR1_no_1</th><td>12_ESR1_0_no</td><td>12</td><td>ESR1</td><td>0</td><td>no</td><td>1</td><td>2.903286</td></tr>\n",
       "\t<tr><th scope=row>aging_12m_ESR1_no_2</th><td>12_ESR1_0_no</td><td>12</td><td>ESR1</td><td>0</td><td>no</td><td>2</td><td>5.555891</td></tr>\n",
       "\t<tr><th scope=row>aging_12m_ESR1_no_3</th><td>12_ESR1_0_no</td><td>12</td><td>ESR1</td><td>0</td><td>no</td><td>3</td><td>4.875684</td></tr>\n",
       "\t<tr><th scope=row>aging_12m_ESR1_1w_1</th><td>12_ESR1_1_no</td><td>12</td><td>ESR1</td><td>1</td><td>no</td><td>1</td><td>4.954692</td></tr>\n",
       "\t<tr><th scope=row>aging_12m_ESR1_1w_2</th><td>12_ESR1_1_no</td><td>12</td><td>ESR1</td><td>1</td><td>no</td><td>2</td><td>3.282341</td></tr>\n",
       "\t<tr><th scope=row>aging_12m_ESR1_1w_3</th><td>12_ESR1_1_no</td><td>12</td><td>ESR1</td><td>1</td><td>no</td><td>3</td><td>5.727712</td></tr>\n",
       "</tbody>\n",
       "</table>\n"
      ],
      "text/latex": [
       "A data.frame: 6 × 7\n",
       "\\begin{tabular}{r|lllllll}\n",
       "  & condition & age & transgene & induction & drug & replicate & esr1\\\\\n",
       "  & <chr> & <int> & <fct> & <int> & <fct> & <int> & <dbl>\\\\\n",
       "\\hline\n",
       "\taging\\_12m\\_ESR1\\_no\\_1 & 12\\_ESR1\\_0\\_no & 12 & ESR1 & 0 & no & 1 & 2.903286\\\\\n",
       "\taging\\_12m\\_ESR1\\_no\\_2 & 12\\_ESR1\\_0\\_no & 12 & ESR1 & 0 & no & 2 & 5.555891\\\\\n",
       "\taging\\_12m\\_ESR1\\_no\\_3 & 12\\_ESR1\\_0\\_no & 12 & ESR1 & 0 & no & 3 & 4.875684\\\\\n",
       "\taging\\_12m\\_ESR1\\_1w\\_1 & 12\\_ESR1\\_1\\_no & 12 & ESR1 & 1 & no & 1 & 4.954692\\\\\n",
       "\taging\\_12m\\_ESR1\\_1w\\_2 & 12\\_ESR1\\_1\\_no & 12 & ESR1 & 1 & no & 2 & 3.282341\\\\\n",
       "\taging\\_12m\\_ESR1\\_1w\\_3 & 12\\_ESR1\\_1\\_no & 12 & ESR1 & 1 & no & 3 & 5.727712\\\\\n",
       "\\end{tabular}\n"
      ],
      "text/markdown": [
       "\n",
       "A data.frame: 6 × 7\n",
       "\n",
       "| <!--/--> | condition &lt;chr&gt; | age &lt;int&gt; | transgene &lt;fct&gt; | induction &lt;int&gt; | drug &lt;fct&gt; | replicate &lt;int&gt; | esr1 &lt;dbl&gt; |\n",
       "|---|---|---|---|---|---|---|---|\n",
       "| aging_12m_ESR1_no_1 | 12_ESR1_0_no | 12 | ESR1 | 0 | no | 1 | 2.903286 |\n",
       "| aging_12m_ESR1_no_2 | 12_ESR1_0_no | 12 | ESR1 | 0 | no | 2 | 5.555891 |\n",
       "| aging_12m_ESR1_no_3 | 12_ESR1_0_no | 12 | ESR1 | 0 | no | 3 | 4.875684 |\n",
       "| aging_12m_ESR1_1w_1 | 12_ESR1_1_no | 12 | ESR1 | 1 | no | 1 | 4.954692 |\n",
       "| aging_12m_ESR1_1w_2 | 12_ESR1_1_no | 12 | ESR1 | 1 | no | 2 | 3.282341 |\n",
       "| aging_12m_ESR1_1w_3 | 12_ESR1_1_no | 12 | ESR1 | 1 | no | 3 | 5.727712 |\n",
       "\n"
      ],
      "text/plain": [
       "                    condition    age transgene induction drug replicate\n",
       "aging_12m_ESR1_no_1 12_ESR1_0_no 12  ESR1      0         no   1        \n",
       "aging_12m_ESR1_no_2 12_ESR1_0_no 12  ESR1      0         no   2        \n",
       "aging_12m_ESR1_no_3 12_ESR1_0_no 12  ESR1      0         no   3        \n",
       "aging_12m_ESR1_1w_1 12_ESR1_1_no 12  ESR1      1         no   1        \n",
       "aging_12m_ESR1_1w_2 12_ESR1_1_no 12  ESR1      1         no   2        \n",
       "aging_12m_ESR1_1w_3 12_ESR1_1_no 12  ESR1      1         no   3        \n",
       "                    esr1    \n",
       "aging_12m_ESR1_no_1 2.903286\n",
       "aging_12m_ESR1_no_2 5.555891\n",
       "aging_12m_ESR1_no_3 4.875684\n",
       "aging_12m_ESR1_1w_1 4.954692\n",
       "aging_12m_ESR1_1w_2 3.282341\n",
       "aging_12m_ESR1_1w_3 5.727712"
      ]
     },
     "metadata": {},
     "output_type": "display_data"
    }
   ],
   "source": [
    "head(phenotype)"
   ]
  },
  {
   "cell_type": "code",
   "execution_count": 45,
   "metadata": {
    "vscode": {
     "languageId": "r"
    }
   },
   "outputs": [
    {
     "name": "stderr",
     "output_type": "stream",
     "text": [
      "Warning message in system(paste(\"prepDE.py -i\", samplesheet, \"-g\", gene_file, \"-t\", :\n",
      "“error in running command”\n",
      "Warning message in file(file, \"rt\"):\n",
      "“cannot open file 'ciriquant/work/Z0ioZKNAjd/gene_results.csv': No such file or directory”\n"
     ]
    },
    {
     "ename": "ERROR",
     "evalue": "Error in file(file, \"rt\"): cannot open the connection\n",
     "output_type": "error",
     "traceback": [
      "Error in file(file, \"rt\"): cannot open the connection\nTraceback:\n",
      "1. run(rownames(young), rownames(old))",
      "2. tryCatch({\n .     temp_dir <- file.path(work_dir, stri_rand_strings(1, 10))\n .     dir.create(temp_dir)\n .     p_ciri <- ciri_prepde(df[c(\"ciri\", \"condition\")], temp_dir)\n .     p_stringtie <- stringtie_prepde(df[c(\"stringtie\")], temp_dir)\n .     p_ciri_de <- ciriquant_de(p_ciri[[1]], p_ciri[[3]], p_stringtie[[1]], \n .         temp_dir)\n .     df_gene <- read.csv(p_ciri_de[[1]], row.names = 1)\n .     df_circ <- read.csv(p_ciri_de[[2]], row.names = 1)\n .     return(list(df_gene, df_circ))\n . }, finally = {\n . })   # at line 6-22 of file <text>",
      "3. tryCatchList(expr, classes, parentenv, handlers)",
      "4. read.csv(p_ciri_de[[1]], row.names = 1)   # at line 15 of file <text>",
      "5. read.table(file = file, header = header, sep = sep, quote = quote, \n .     dec = dec, fill = fill, comment.char = comment.char, ...)",
      "6. file(file, \"rt\")"
     ]
    }
   ],
   "source": [
    "young <- phenotype[phenotype$age < 18,]\n",
    "old <- phenotype[phenotype$age >= 18,]\n",
    "\n",
    "run(rownames(young), rownames(old))"
   ]
  }
 ],
 "metadata": {
  "kernelspec": {
   "display_name": "R",
   "language": "R",
   "name": "ir"
  },
  "language_info": {
   "codemirror_mode": "r",
   "file_extension": ".r",
   "mimetype": "text/x-r-source",
   "name": "R",
   "pygments_lexer": "r",
   "version": "4.3.1"
  }
 },
 "nbformat": 4,
 "nbformat_minor": 2
}
