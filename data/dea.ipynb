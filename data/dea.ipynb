{
 "cells": [
  {
   "cell_type": "code",
   "execution_count": 46,
   "metadata": {
    "vscode": {
     "languageId": "r"
    }
   },
   "outputs": [],
   "source": [
    "library(DESeq2)\n",
    "library(EnhancedVolcano)\n",
    "library(clusterProfiler)\n",
    "library(enrichplot)\n",
    "library(ggplot2)\n",
    "organism = \"org.Mm.eg.db\"\n",
    "library(organism, character.only = TRUE)\n",
    "library(DOSE)"
   ]
  },
  {
   "cell_type": "code",
   "execution_count": 47,
   "metadata": {
    "vscode": {
     "languageId": "r"
    }
   },
   "outputs": [],
   "source": [
    "outdir = \"../chapters/4_results_and_discussion/figures/dea/deseq2/\""
   ]
  },
  {
   "cell_type": "code",
   "execution_count": 48,
   "metadata": {
    "vscode": {
     "languageId": "r"
    }
   },
   "outputs": [],
   "source": [
    "df <- read.table(\"dea/sum.tsv\", header=TRUE, sep=\"\\t\")\n",
    "# Drop duplicates in id column\n",
    "df <- df[!duplicated(df$id),]\n",
    "rownames(df) <- df$id\n",
    "df$id <- NULL\n",
    "\n",
    "annotation <- read.table(\"dea/annotation.bed\", header=FALSE, sep=\"\\t\", col.names = c(\"chr\", \"start\", \"end\", \"name\", \"score\", \"strand\", \"type\", \"gene.id\", \"gene\", \"transcripts\", \"databases\"))\n",
    "# Remove chr, start, end, score, strand, gene.id, transcripts\n",
    "annotation$chr <- NULL\n",
    "annotation$start <- NULL\n",
    "annotation$end <- NULL\n",
    "annotation$score <- NULL\n",
    "annotation$strand <- NULL\n",
    "annotation$gene.id <- NULL\n",
    "annotation$transcripts <- NULL\n",
    "annotation$has_db <- annotation$databases == \".\"\n",
    "\n",
    "rownames(annotation) <- annotation$name\n",
    "annotation$name <- NULL\n",
    "\n",
    "phenotype <- read.csv(\"dea/phenotype.csv\", header=TRUE, row.names = 1)\n",
    "phenotype$transgene <- as.factor(phenotype$transgene)\n",
    "phenotype$drug <- as.factor(phenotype$drug)\n",
    "\n",
    "# Center and scale age and induction\n",
    "phenotype$age <- scale(phenotype$age)\n",
    "phenotype$induction <- scale(phenotype$induction)\n",
    "\n",
    "df_genes <- read.table(\"dea/gene_tpm.tsv\", sep=\"\\t\", header=TRUE, row.names=1)\n",
    "df_genes$gene_name <- NULL\n",
    "# Order genes columns like phenotype rows\n",
    "df_genes <- df_genes[,rownames(phenotype)]\n",
    "\n",
    "phenotype$esr1 <- scale(as.numeric(df_genes[\"Esr1\",]))"
   ]
  },
  {
   "cell_type": "code",
   "execution_count": 49,
   "metadata": {
    "vscode": {
     "languageId": "r"
    }
   },
   "outputs": [],
   "source": [
    "run_analysis <- function(title, phenotype = NULL, design = NULL, dds = NULL, contrast = NULL, name = NULL) {\n",
    "    directory <- paste0(outdir, sub(\" \", \"_\", tolower(title)))\n",
    "    # Fail if both contrast and name are NULL\n",
    "    if (is.null(contrast) && is.null(name)) {\n",
    "        stop(\"Both contrast and name cannot be NULL\")\n",
    "    }\n",
    "    # Fail if none of contrast and name are NULL\n",
    "    if (!is.null(contrast) && !is.null(name)) {\n",
    "        stop(\"Both contrast and name cannot be provided\")\n",
    "    }\n",
    "\n",
    "    if (is.null(phenotype) && is.null(design) && is.null(dds)) {\n",
    "        stop(\"Either phenotype and design or dds must be provided\")\n",
    "    }\n",
    "\n",
    "    if (is.null(phenotype) != is.null(design)) {\n",
    "        stop(\"Both phenotype and design must be provided\")\n",
    "    }\n",
    "\n",
    "    if (!is.null(dds) && !is.null(phenotype)) {\n",
    "        stop(\"Either dds or phenotype and design must be provided\")\n",
    "    }\n",
    "\n",
    "    alpha <- 0.05\n",
    "\n",
    "    if (is.null(dds)) {\n",
    "        dds <- DESeqDataSetFromMatrix(countData = df[, rownames(phenotype)],\n",
    "                                    colData = phenotype,\n",
    "                                    design = design)\n",
    "        dds <- DESeq(dds)\n",
    "    }\n",
    "\n",
    "    if (!is.null(contrast)) {\n",
    "        res <- results(dds, contrast = contrast, alpha = alpha, lfcThreshold = 2, altHypothesis = \"greaterAbs\")\n",
    "    } else {\n",
    "        res <- results(dds, name = name, alpha = alpha, lfcThreshold = 2, altHypothesis = \"greaterAbs\")\n",
    "    }\n",
    "    res <- res[order(res$padj),]\n",
    "    res <- cbind(res, annotation[rownames(res),])\n",
    "\n",
    "    # Recreate directory if it exists\n",
    "    if (dir.exists(directory)) {\n",
    "        unlink(directory, recursive = TRUE)\n",
    "    }\n",
    "    dir.create(directory, showWarnings = FALSE, recursive = TRUE)\n",
    "\n",
    "    write.table(res, file=paste0(directory, \"/res.tsv\"), sep=\"\\t\", col.names=NA, row.names=TRUE, quote=FALSE)\n",
    "\n",
    "    colors <- ifelse(res$has_db, \"red\", \"black\")\n",
    "    names(colors) <- ifelse(res$has_db, \"Has database\", \"No database\")\n",
    "\n",
    "    EnhancedVolcano(res,\n",
    "        x='log2FoldChange',\n",
    "        y='padj',\n",
    "        lab=res$gene,\n",
    "        title=title,\n",
    "        colCustom=colors,\n",
    "        drawConnectors=FALSE,\n",
    "        pCutoff = alpha)\n",
    "    ggsave(paste0(directory, \"/volcano.png\"))\n",
    "\n",
    "    # Keep only rows without any NA\n",
    "    res <- res[complete.cases(res),]\n",
    "\n",
    "    sign <- res[res$padj < alpha,]\n",
    "\n",
    "    genes <- unique(unlist(strsplit(sign$gene, \",\")))\n",
    "    write.table(genes, file=paste0(directory, \"/genes.txt\"), row.names=FALSE, col.names=FALSE, quote=FALSE)\n",
    "    db <- unique(unlist(strsplit(sign$databases, \",\")))\n",
    "    write.table(db, file=paste0(directory, \"/db.txt\"), row.names=FALSE, col.names=FALSE, quote=FALSE)\n",
    "\n",
    "    gene_list <- sign$log2FoldChange\n",
    "    names(gene_list) <- sign$gene\n",
    "    gene_list = sort(gene_list, decreasing = TRUE)\n",
    "\n",
    "    gse <- gseGO(geneList=gene_list,\n",
    "            ont =\"ALL\", \n",
    "            keyType = \"SYMBOL\",\n",
    "            pvalueCutoff = 0.05,\n",
    "            verbose = TRUE,\n",
    "            OrgDb = organism,\n",
    "            pAdjustMethod = \"BH\")\n",
    "\n",
    "    # If no significant GO terms, return\n",
    "    if (nrow(as.data.frame(gse)) > 0) {\n",
    "        dotplot(gse, showCategory=10, split=\".sign\") + facet_grid(.~.sign)\n",
    "        ggsave(paste0(directory, \"/dot.png\"))\n",
    "\n",
    "        gse <- pairwise_termsim(gse)\n",
    "        emapplot(gse, showCategory = 10)\n",
    "        ggsave(paste0(directory, \"/emap.png\"))\n",
    "\n",
    "        cnetplot(gse, categorySize=\"pvalue\", foldChange=gene_list, showCategory = 3)\n",
    "        ggsave(paste0(directory, \"/cnet.png\"))\n",
    "\n",
    "        ridgeplot(gse) + labs(x = \"enrichment distribution\")\n",
    "        ggsave(paste0(directory, \"/ridge.png\"))\n",
    "    } else {\n",
    "        print(\"No significant GO terms\")\n",
    "    }\n",
    "\n",
    "    return(dds)\n",
    "}"
   ]
  },
  {
   "cell_type": "markdown",
   "metadata": {},
   "source": [
    "# Aging"
   ]
  },
  {
   "cell_type": "code",
   "execution_count": 50,
   "metadata": {
    "vscode": {
     "languageId": "r"
    }
   },
   "outputs": [
    {
     "name": "stderr",
     "output_type": "stream",
     "text": [
      "estimating size factors\n",
      "\n",
      "estimating dispersions\n",
      "\n",
      "gene-wise dispersion estimates\n",
      "\n",
      "mean-dispersion relationship\n",
      "\n",
      "final dispersion estimates\n",
      "\n",
      "fitting model and testing\n",
      "\n",
      "15 rows did not converge in beta, labelled in mcols(object)$betaConv. Use larger maxit argument with nbinomWaldTest\n",
      "\n",
      "\u001b[1m\u001b[22mSaving 6.67 x 6.67 in image\n",
      "preparing geneSet collections...\n",
      "\n",
      "GSEA analysis...\n",
      "\n",
      "Warning message in preparePathwaysAndStats(pathways, stats, minSize, maxSize, gseaParam, :\n",
      "“There are ties in the preranked stats (83.56% of the list).\n",
      "The order of those tied genes will be arbitrary, which may produce unexpected results.”\n",
      "Warning message in preparePathwaysAndStats(pathways, stats, minSize, maxSize, gseaParam, :\n",
      "“There are duplicate gene names, fgsea may produce unexpected results.”\n",
      "leading edge analysis...\n",
      "\n",
      "done...\n",
      "\n",
      "\u001b[1m\u001b[22mSaving 6.67 x 6.67 in image\n",
      "\u001b[1m\u001b[22mSaving 6.67 x 6.67 in image\n",
      "Warning message in cnetplot.enrichResult(x, ...):\n",
      "“Use 'color.params = list(foldChange = your_value)' instead of 'foldChange'.\n",
      " The foldChange parameter will be removed in the next version.”\n",
      "\u001b[1m\u001b[22mScale for \u001b[32msize\u001b[39m is already present.\n",
      "Adding another scale for \u001b[32msize\u001b[39m, which will replace the existing scale.\n",
      "\u001b[1m\u001b[22mSaving 6.67 x 6.67 in image\n",
      "Warning message:\n",
      "“ggrepel: 31 unlabeled data points (too many overlaps). Consider increasing max.overlaps”\n",
      "\u001b[1m\u001b[22mSaving 6.67 x 6.67 in image\n",
      "Picking joint bandwidth of 3.37\n",
      "\n"
     ]
    }
   ],
   "source": [
    "dds_esr1 <- run_analysis(\n",
    "    \"Age\",\n",
    "    phenotype = phenotype,\n",
    "    design = ~ age + transgene + induction + drug + esr1,\n",
    "    name = \"age\"\n",
    ")"
   ]
  },
  {
   "cell_type": "markdown",
   "metadata": {},
   "source": [
    "# ESR1 association"
   ]
  },
  {
   "cell_type": "code",
   "execution_count": 51,
   "metadata": {
    "vscode": {
     "languageId": "r"
    }
   },
   "outputs": [
    {
     "name": "stderr",
     "output_type": "stream",
     "text": [
      "\u001b[1m\u001b[22mSaving 6.67 x 6.67 in image\n",
      "preparing geneSet collections...\n",
      "\n",
      "GSEA analysis...\n",
      "\n",
      "Warning message in preparePathwaysAndStats(pathways, stats, minSize, maxSize, gseaParam, :\n",
      "“There are ties in the preranked stats (87.45% of the list).\n",
      "The order of those tied genes will be arbitrary, which may produce unexpected results.”\n",
      "Warning message in preparePathwaysAndStats(pathways, stats, minSize, maxSize, gseaParam, :\n",
      "“There are duplicate gene names, fgsea may produce unexpected results.”\n",
      "leading edge analysis...\n",
      "\n",
      "done...\n",
      "\n",
      "\u001b[1m\u001b[22mSaving 6.67 x 6.67 in image\n",
      "\u001b[1m\u001b[22mSaving 6.67 x 6.67 in image\n",
      "Warning message in cnetplot.enrichResult(x, ...):\n",
      "“Use 'color.params = list(foldChange = your_value)' instead of 'foldChange'.\n",
      " The foldChange parameter will be removed in the next version.”\n",
      "\u001b[1m\u001b[22mScale for \u001b[32msize\u001b[39m is already present.\n",
      "Adding another scale for \u001b[32msize\u001b[39m, which will replace the existing scale.\n",
      "\u001b[1m\u001b[22mSaving 6.67 x 6.67 in image\n",
      "Warning message:\n",
      "“ggrepel: 770 unlabeled data points (too many overlaps). Consider increasing max.overlaps”\n",
      "\u001b[1m\u001b[22mSaving 6.67 x 6.67 in image\n",
      "Picking joint bandwidth of 1.23\n",
      "\n"
     ]
    },
    {
     "data": {
      "text/plain": [
       "class: DESeqDataSet \n",
       "dim: 56620 72 \n",
       "metadata(1): version\n",
       "assays(4): counts mu H cooks\n",
       "rownames(56620): chr1:3729265-3729444:+ chr1:4212834-4337843:- ...\n",
       "  chrX_GL456233v2_random:409325-409604:-\n",
       "  chrX_GL456233v2_random:409325-422124:-\n",
       "rowData names(42): baseMean baseVar ... deviance maxCooks\n",
       "colnames(72): aging_12m_ESR1_no_1 aging_12m_ESR1_no_2 ...\n",
       "  antiHormonal_18m_ESR1_no_2 antiHormonal_18m_ESR1_no_3\n",
       "colData names(8): condition age ... esr1 sizeFactor"
      ]
     },
     "metadata": {},
     "output_type": "display_data"
    }
   ],
   "source": [
    "run_analysis(\n",
    "    \"ESR1\",\n",
    "    dds = dds_esr1,\n",
    "    name = \"esr1\"\n",
    ")"
   ]
  },
  {
   "cell_type": "markdown",
   "metadata": {},
   "source": [
    "# Drug effects"
   ]
  },
  {
   "cell_type": "markdown",
   "metadata": {},
   "source": [
    "## Tamoxifen"
   ]
  },
  {
   "cell_type": "code",
   "execution_count": 52,
   "metadata": {
    "vscode": {
     "languageId": "r"
    }
   },
   "outputs": [
    {
     "name": "stderr",
     "output_type": "stream",
     "text": [
      "estimating size factors\n",
      "\n",
      "estimating dispersions\n",
      "\n",
      "gene-wise dispersion estimates\n",
      "\n",
      "mean-dispersion relationship\n",
      "\n",
      "final dispersion estimates\n",
      "\n",
      "fitting model and testing\n",
      "\n",
      "\u001b[1m\u001b[22mSaving 6.67 x 6.67 in image\n",
      "preparing geneSet collections...\n",
      "\n",
      "GSEA analysis...\n",
      "\n",
      "Warning message in preparePathwaysAndStats(pathways, stats, minSize, maxSize, gseaParam, :\n",
      "“There are ties in the preranked stats (52.48% of the list).\n",
      "The order of those tied genes will be arbitrary, which may produce unexpected results.”\n",
      "Warning message in preparePathwaysAndStats(pathways, stats, minSize, maxSize, gseaParam, :\n",
      "“There are duplicate gene names, fgsea may produce unexpected results.”\n",
      "no term enriched under specific pvalueCutoff...\n",
      "\n"
     ]
    },
    {
     "name": "stdout",
     "output_type": "stream",
     "text": [
      "[1] \"No significant GO terms\"\n"
     ]
    }
   ],
   "source": [
    "dds_no_esr1 <- run_analysis(\n",
    "    \"Tamoxifen\",\n",
    "    phenotype = phenotype,\n",
    "    design = ~ age + transgene + induction + drug,\n",
    "    contrast=c(\"drug\", \"tamoxifen\", \"no\")\n",
    ")"
   ]
  },
  {
   "cell_type": "markdown",
   "metadata": {},
   "source": [
    "## Letrozole"
   ]
  },
  {
   "cell_type": "code",
   "execution_count": 53,
   "metadata": {
    "vscode": {
     "languageId": "r"
    }
   },
   "outputs": [
    {
     "name": "stderr",
     "output_type": "stream",
     "text": [
      "\u001b[1m\u001b[22mSaving 6.67 x 6.67 in image\n",
      "preparing geneSet collections...\n",
      "\n",
      "GSEA analysis...\n",
      "\n",
      "Warning message in preparePathwaysAndStats(pathways, stats, minSize, maxSize, gseaParam, :\n",
      "“There are ties in the preranked stats (64.39% of the list).\n",
      "The order of those tied genes will be arbitrary, which may produce unexpected results.”\n",
      "Warning message in preparePathwaysAndStats(pathways, stats, minSize, maxSize, gseaParam, :\n",
      "“There are duplicate gene names, fgsea may produce unexpected results.”\n",
      "no term enriched under specific pvalueCutoff...\n",
      "\n"
     ]
    },
    {
     "name": "stdout",
     "output_type": "stream",
     "text": [
      "[1] \"No significant GO terms\"\n"
     ]
    },
    {
     "data": {
      "text/plain": [
       "class: DESeqDataSet \n",
       "dim: 56620 72 \n",
       "metadata(1): version\n",
       "assays(4): counts mu H cooks\n",
       "rownames(56620): chr1:3729265-3729444:+ chr1:4212834-4337843:- ...\n",
       "  chrX_GL456233v2_random:409325-409604:-\n",
       "  chrX_GL456233v2_random:409325-422124:-\n",
       "rowData names(38): baseMean baseVar ... deviance maxCooks\n",
       "colnames(72): aging_12m_ESR1_no_1 aging_12m_ESR1_no_2 ...\n",
       "  antiHormonal_18m_ESR1_no_2 antiHormonal_18m_ESR1_no_3\n",
       "colData names(8): condition age ... esr1 sizeFactor"
      ]
     },
     "metadata": {},
     "output_type": "display_data"
    }
   ],
   "source": [
    "run_analysis(\n",
    "    \"Letrozole\",\n",
    "    dds = dds_no_esr1,\n",
    "    contrast=c(\"drug\", \"letrozole\", \"no\")\n",
    ")"
   ]
  }
 ],
 "metadata": {
  "kernelspec": {
   "display_name": "R",
   "language": "R",
   "name": "ir"
  },
  "language_info": {
   "codemirror_mode": "r",
   "file_extension": ".r",
   "mimetype": "text/x-r-source",
   "name": "R",
   "pygments_lexer": "r",
   "version": "4.3.1"
  }
 },
 "nbformat": 4,
 "nbformat_minor": 2
}
