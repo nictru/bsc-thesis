{
 "cells": [
  {
   "cell_type": "code",
   "execution_count": 1,
   "metadata": {
    "vscode": {
     "languageId": "r"
    }
   },
   "outputs": [
    {
     "name": "stderr",
     "output_type": "stream",
     "text": [
      "Loading required package: S4Vectors\n",
      "\n",
      "Loading required package: stats4\n",
      "\n",
      "Loading required package: BiocGenerics\n",
      "\n",
      "\n",
      "Attaching package: ‘BiocGenerics’\n",
      "\n",
      "\n",
      "The following objects are masked from ‘package:stats’:\n",
      "\n",
      "    IQR, mad, sd, var, xtabs\n",
      "\n",
      "\n",
      "The following objects are masked from ‘package:base’:\n",
      "\n",
      "    anyDuplicated, aperm, append, as.data.frame, basename, cbind,\n",
      "    colnames, dirname, do.call, duplicated, eval, evalq, Filter, Find,\n",
      "    get, grep, grepl, intersect, is.unsorted, lapply, Map, mapply,\n",
      "    match, mget, order, paste, pmax, pmax.int, pmin, pmin.int,\n",
      "    Position, rank, rbind, Reduce, rownames, sapply, setdiff, sort,\n",
      "    table, tapply, union, unique, unsplit, which.max, which.min\n",
      "\n",
      "\n",
      "\n",
      "Attaching package: ‘S4Vectors’\n",
      "\n",
      "\n",
      "The following object is masked from ‘package:utils’:\n",
      "\n",
      "    findMatches\n",
      "\n",
      "\n",
      "The following objects are masked from ‘package:base’:\n",
      "\n",
      "    expand.grid, I, unname\n",
      "\n",
      "\n",
      "Loading required package: IRanges\n",
      "\n",
      "Loading required package: GenomicRanges\n",
      "\n",
      "Loading required package: GenomeInfoDb\n",
      "\n",
      "Loading required package: SummarizedExperiment\n",
      "\n",
      "Loading required package: MatrixGenerics\n",
      "\n",
      "Loading required package: matrixStats\n",
      "\n",
      "\n",
      "Attaching package: ‘MatrixGenerics’\n",
      "\n",
      "\n",
      "The following objects are masked from ‘package:matrixStats’:\n",
      "\n",
      "    colAlls, colAnyNAs, colAnys, colAvgsPerRowSet, colCollapse,\n",
      "    colCounts, colCummaxs, colCummins, colCumprods, colCumsums,\n",
      "    colDiffs, colIQRDiffs, colIQRs, colLogSumExps, colMadDiffs,\n",
      "    colMads, colMaxs, colMeans2, colMedians, colMins, colOrderStats,\n",
      "    colProds, colQuantiles, colRanges, colRanks, colSdDiffs, colSds,\n",
      "    colSums2, colTabulates, colVarDiffs, colVars, colWeightedMads,\n",
      "    colWeightedMeans, colWeightedMedians, colWeightedSds,\n",
      "    colWeightedVars, rowAlls, rowAnyNAs, rowAnys, rowAvgsPerColSet,\n",
      "    rowCollapse, rowCounts, rowCummaxs, rowCummins, rowCumprods,\n",
      "    rowCumsums, rowDiffs, rowIQRDiffs, rowIQRs, rowLogSumExps,\n",
      "    rowMadDiffs, rowMads, rowMaxs, rowMeans2, rowMedians, rowMins,\n",
      "    rowOrderStats, rowProds, rowQuantiles, rowRanges, rowRanks,\n",
      "    rowSdDiffs, rowSds, rowSums2, rowTabulates, rowVarDiffs, rowVars,\n",
      "    rowWeightedMads, rowWeightedMeans, rowWeightedMedians,\n",
      "    rowWeightedSds, rowWeightedVars\n",
      "\n",
      "\n",
      "Loading required package: Biobase\n",
      "\n",
      "Welcome to Bioconductor\n",
      "\n",
      "    Vignettes contain introductory material; view with\n",
      "    'browseVignettes()'. To cite Bioconductor, see\n",
      "    'citation(\"Biobase\")', and for packages 'citation(\"pkgname\")'.\n",
      "\n",
      "\n",
      "\n",
      "Attaching package: ‘Biobase’\n",
      "\n",
      "\n",
      "The following object is masked from ‘package:MatrixGenerics’:\n",
      "\n",
      "    rowMedians\n",
      "\n",
      "\n",
      "The following objects are masked from ‘package:matrixStats’:\n",
      "\n",
      "    anyMissing, rowMedians\n",
      "\n",
      "\n",
      "Loading required package: ggplot2\n",
      "\n",
      "Loading required package: ggrepel\n",
      "\n"
     ]
    }
   ],
   "source": [
    "library(DESeq2)\n",
    "library(EnhancedVolcano)"
   ]
  },
  {
   "cell_type": "code",
   "execution_count": 2,
   "metadata": {
    "vscode": {
     "languageId": "r"
    }
   },
   "outputs": [],
   "source": [
    "df <- read.table(\"dea/sum.tsv\", header=TRUE, sep=\"\\t\")\n",
    "# Drop duplicates in id column\n",
    "df <- df[!duplicated(df$id),]\n",
    "rownames(df) <- df$id\n",
    "df$id <- NULL\n",
    "\n",
    "annotation <- read.table(\"dea/annotation.bed\", header=FALSE, sep=\"\\t\", col.names = c(\"chr\", \"start\", \"end\", \"name\", \"score\", \"strand\", \"type\", \"gene.id\", \"gene\", \"transcripts\", \"databases\"))\n",
    "# Remove chr, start, end, score, strand, gene.id, transcripts\n",
    "annotation$chr <- NULL\n",
    "annotation$start <- NULL\n",
    "annotation$end <- NULL\n",
    "annotation$score <- NULL\n",
    "annotation$strand <- NULL\n",
    "annotation$gene.id <- NULL\n",
    "annotation$transcripts <- NULL\n",
    "\n",
    "rownames(annotation) <- annotation$name\n",
    "annotation$name <- NULL\n",
    "\n",
    "phenotype <- read.csv(\"dea/phenotype.csv\", header=TRUE, row.names = 1)\n",
    "phenotype$transgene <- as.factor(phenotype$transgene)\n",
    "phenotype$drug <- as.factor(phenotype$drug)\n",
    "\n",
    "# Center and scale age and induction\n",
    "phenotype$age <- scale(phenotype$age)\n",
    "phenotype$induction <- scale(phenotype$induction)"
   ]
  },
  {
   "cell_type": "code",
   "execution_count": 3,
   "metadata": {
    "vscode": {
     "languageId": "r"
    }
   },
   "outputs": [],
   "source": [
    "run_analysis <- function(directory, phenotype = NULL, design = NULL, dds = NULL, contrast = NULL, name = NULL) {\n",
    "    # Fail if both contrast and name are NULL\n",
    "    if (is.null(contrast) && is.null(name)) {\n",
    "        stop(\"Both contrast and name cannot be NULL\")\n",
    "    }\n",
    "    # Fail if none of contrast and name are NULL\n",
    "    if (!is.null(contrast) && !is.null(name)) {\n",
    "        stop(\"Both contrast and name cannot be provided\")\n",
    "    }\n",
    "\n",
    "    if (is.null(phenotype) && is.null(design) && is.null(dds)) {\n",
    "        stop(\"Either phenotype and design or dds must be provided\")\n",
    "    }\n",
    "\n",
    "    if (is.null(phenotype) != is.null(design)) {\n",
    "        stop(\"Both phenotype and design must be provided\")\n",
    "    }\n",
    "\n",
    "    if (!is.null(dds) && !is.null(phenotype)) {\n",
    "        stop(\"Either dds or phenotype and design must be provided\")\n",
    "    }\n",
    "\n",
    "    alpha <- 0.05\n",
    "\n",
    "    if (is.null(dds)) {\n",
    "        dds <- DESeqDataSetFromMatrix(countData = df[, rownames(phenotype)],\n",
    "                                    colData = phenotype,\n",
    "                                    design = design)\n",
    "        dds <- DESeq(dds)\n",
    "    }\n",
    "\n",
    "    if (!is.null(contrast)) {\n",
    "        res <- results(dds, contrast = contrast, alpha = alpha)\n",
    "    } else {\n",
    "        res <- results(dds, name = name, alpha = alpha)\n",
    "    }\n",
    "    res <- res[order(res$padj),]\n",
    "    res <- cbind(res, annotation[rownames(res),])\n",
    "\n",
    "    dir.create(directory, showWarnings = FALSE)\n",
    "\n",
    "    EnhancedVolcano(res,\n",
    "        x='log2FoldChange',\n",
    "        y='padj',\n",
    "        lab=res$gene,\n",
    "        pCutoff = alpha)\n",
    "    ggsave(paste0(directory, \"/volcano.png\"))\n",
    "\n",
    "    # Keep only rows without any NA\n",
    "    res <- res[complete.cases(res),]\n",
    "\n",
    "    upregulated <- unique(unlist(strsplit(res[res$log2FoldChange > 0 & res$padj < alpha,]$gene, \",\")))\n",
    "    downregulated <- unique(unlist(strsplit(res[res$log2FoldChange < 0 & res$padj < alpha,]$gene, \",\")))\n",
    "\n",
    "    dir.create(\"dea/esr1_no\", showWarnings = FALSE)\n",
    "    write.table(upregulated, file=paste0(directory, \"/upregulated.txt\"), row.names=FALSE, col.names=FALSE, quote=FALSE)\n",
    "    write.table(downregulated, file=paste0(directory, \"/downregulated.txt\"), row.names=FALSE, col.names=FALSE, quote=FALSE)\n",
    "\n",
    "    return(dds)\n",
    "}"
   ]
  },
  {
   "cell_type": "markdown",
   "metadata": {},
   "source": [
    "# Correlation with ESR1 induction"
   ]
  },
  {
   "cell_type": "code",
   "execution_count": 4,
   "metadata": {
    "vscode": {
     "languageId": "r"
    }
   },
   "outputs": [
    {
     "data": {
      "text/html": [
       "36"
      ],
      "text/latex": [
       "36"
      ],
      "text/markdown": [
       "36"
      ],
      "text/plain": [
       "[1] 36"
      ]
     },
     "metadata": {},
     "output_type": "display_data"
    }
   ],
   "source": [
    "phenotype_esr <- phenotype[phenotype$transgene == \"ESR1\",]\n",
    "nrow(phenotype_esr)"
   ]
  },
  {
   "cell_type": "markdown",
   "metadata": {},
   "source": [
    "## Without drugs"
   ]
  },
  {
   "cell_type": "code",
   "execution_count": 5,
   "metadata": {
    "vscode": {
     "languageId": "r"
    }
   },
   "outputs": [
    {
     "name": "stderr",
     "output_type": "stream",
     "text": [
      "estimating size factors\n",
      "\n",
      "estimating dispersions\n",
      "\n",
      "gene-wise dispersion estimates\n",
      "\n",
      "mean-dispersion relationship\n",
      "\n",
      "final dispersion estimates\n",
      "\n",
      "fitting model and testing\n",
      "\n",
      "\u001b[1m\u001b[22mSaving 6.67 x 6.67 in image\n"
     ]
    },
    {
     "data": {
      "text/plain": [
       "class: DESeqDataSet \n",
       "dim: 29818 30 \n",
       "metadata(1): version\n",
       "assays(4): counts mu H cooks\n",
       "rownames(29818): chr1:3729266-3729444 chr1:4212834-4337843 ...\n",
       "  chrX_GL456233v2_random:409325-409604\n",
       "  chrX_GL456233v2_random:409325-422124\n",
       "rowData names(26): baseMean baseVar ... deviance maxCooks\n",
       "colnames(30): aging_12m_ESR1_no_1 aging_12m_ESR1_no_2 ...\n",
       "  antiHormonal_18m_ESR1_no_2 antiHormonal_18m_ESR1_no_3\n",
       "colData names(7): condition age ... replicate sizeFactor"
      ]
     },
     "metadata": {},
     "output_type": "display_data"
    }
   ],
   "source": [
    "run_analysis(\n",
    "    \"dea/esr1_no\",\n",
    "    phenotype = phenotype_esr[phenotype_esr$drug == \"no\",],\n",
    "    design = ~ age + induction,\n",
    "    name = \"induction\"\n",
    ")"
   ]
  },
  {
   "cell_type": "markdown",
   "metadata": {},
   "source": [
    "## Tamoxifen"
   ]
  },
  {
   "cell_type": "code",
   "execution_count": 6,
   "metadata": {
    "vscode": {
     "languageId": "r"
    }
   },
   "outputs": [
    {
     "name": "stderr",
     "output_type": "stream",
     "text": [
      "factor levels were dropped which had no samples\n",
      "\n",
      "estimating size factors\n",
      "\n",
      "estimating dispersions\n",
      "\n",
      "gene-wise dispersion estimates\n",
      "\n",
      "mean-dispersion relationship\n",
      "\n",
      "final dispersion estimates\n",
      "\n",
      "fitting model and testing\n",
      "\n",
      "\u001b[1m\u001b[22mSaving 6.67 x 6.67 in image\n"
     ]
    },
    {
     "data": {
      "text/plain": [
       "class: DESeqDataSet \n",
       "dim: 29818 33 \n",
       "metadata(1): version\n",
       "assays(4): counts mu H cooks\n",
       "rownames(29818): chr1:3729266-3729444 chr1:4212834-4337843 ...\n",
       "  chrX_GL456233v2_random:409325-409604\n",
       "  chrX_GL456233v2_random:409325-422124\n",
       "rowData names(30): baseMean baseVar ... deviance maxCooks\n",
       "colnames(33): aging_12m_ESR1_no_1 aging_12m_ESR1_no_2 ...\n",
       "  antiHormonal_18m_ESR1_no_2 antiHormonal_18m_ESR1_no_3\n",
       "colData names(7): condition age ... replicate sizeFactor"
      ]
     },
     "metadata": {},
     "output_type": "display_data"
    }
   ],
   "source": [
    "run_analysis(\n",
    "    \"dea/esr1_tamoxifen\",\n",
    "    phenotype = phenotype_esr[phenotype_esr$drug != \"letrozole\",],\n",
    "    design = ~ age + drug + induction,\n",
    "    contrast = c(\"drug\", \"tamoxifen\", \"no\")\n",
    ")"
   ]
  },
  {
   "cell_type": "markdown",
   "metadata": {},
   "source": [
    "## Letrozole"
   ]
  },
  {
   "cell_type": "code",
   "execution_count": 7,
   "metadata": {
    "vscode": {
     "languageId": "r"
    }
   },
   "outputs": [
    {
     "name": "stderr",
     "output_type": "stream",
     "text": [
      "factor levels were dropped which had no samples\n",
      "\n",
      "estimating size factors\n",
      "\n",
      "estimating dispersions\n",
      "\n",
      "gene-wise dispersion estimates\n",
      "\n",
      "mean-dispersion relationship\n",
      "\n",
      "final dispersion estimates\n",
      "\n",
      "fitting model and testing\n",
      "\n",
      "\u001b[1m\u001b[22mSaving 6.67 x 6.67 in image\n"
     ]
    },
    {
     "data": {
      "text/plain": [
       "class: DESeqDataSet \n",
       "dim: 29818 33 \n",
       "metadata(1): version\n",
       "assays(4): counts mu H cooks\n",
       "rownames(29818): chr1:3729266-3729444 chr1:4212834-4337843 ...\n",
       "  chrX_GL456233v2_random:409325-409604\n",
       "  chrX_GL456233v2_random:409325-422124\n",
       "rowData names(30): baseMean baseVar ... deviance maxCooks\n",
       "colnames(33): aging_12m_ESR1_no_1 aging_12m_ESR1_no_2 ...\n",
       "  antiHormonal_18m_ESR1_no_2 antiHormonal_18m_ESR1_no_3\n",
       "colData names(7): condition age ... replicate sizeFactor"
      ]
     },
     "metadata": {},
     "output_type": "display_data"
    }
   ],
   "source": [
    "run_analysis(\n",
    "    \"dea/esr1_letrozole\",\n",
    "    phenotype = phenotype_esr[phenotype_esr$drug != \"tamoxifen\",],\n",
    "    design = ~ age + drug + induction,\n",
    "    contrast = c(\"drug\", \"letrozole\", \"no\")\n",
    ")"
   ]
  },
  {
   "cell_type": "markdown",
   "metadata": {},
   "source": [
    "# Aging"
   ]
  },
  {
   "cell_type": "code",
   "execution_count": 8,
   "metadata": {
    "vscode": {
     "languageId": "r"
    }
   },
   "outputs": [
    {
     "name": "stderr",
     "output_type": "stream",
     "text": [
      "estimating size factors\n",
      "\n",
      "estimating dispersions\n",
      "\n",
      "gene-wise dispersion estimates\n",
      "\n",
      "mean-dispersion relationship\n",
      "\n",
      "final dispersion estimates\n",
      "\n",
      "fitting model and testing\n",
      "\n",
      "\u001b[1m\u001b[22mSaving 6.67 x 6.67 in image\n"
     ]
    }
   ],
   "source": [
    "dds_global <- run_analysis(\n",
    "    \"dea/age\",\n",
    "    phenotype = phenotype,\n",
    "    design = ~ age + transgene + induction + drug,\n",
    "    name = \"age\"\n",
    ")"
   ]
  },
  {
   "cell_type": "markdown",
   "metadata": {},
   "source": [
    "# Drug effects"
   ]
  },
  {
   "cell_type": "markdown",
   "metadata": {},
   "source": [
    "## Tamoxifen"
   ]
  },
  {
   "cell_type": "code",
   "execution_count": 9,
   "metadata": {
    "vscode": {
     "languageId": "r"
    }
   },
   "outputs": [
    {
     "name": "stderr",
     "output_type": "stream",
     "text": [
      "\u001b[1m\u001b[22mSaving 6.67 x 6.67 in image\n"
     ]
    },
    {
     "data": {
      "text/plain": [
       "class: DESeqDataSet \n",
       "dim: 29818 72 \n",
       "metadata(1): version\n",
       "assays(4): counts mu H cooks\n",
       "rownames(29818): chr1:3729266-3729444 chr1:4212834-4337843 ...\n",
       "  chrX_GL456233v2_random:409325-409604\n",
       "  chrX_GL456233v2_random:409325-422124\n",
       "rowData names(38): baseMean baseVar ... deviance maxCooks\n",
       "colnames(72): aging_12m_ESR1_no_1 aging_12m_ESR1_no_2 ...\n",
       "  antiHormonal_18m_ESR1_no_2 antiHormonal_18m_ESR1_no_3\n",
       "colData names(7): condition age ... replicate sizeFactor"
      ]
     },
     "metadata": {},
     "output_type": "display_data"
    }
   ],
   "source": [
    "run_analysis(\n",
    "    \"dea/tamoxifen\",\n",
    "    dds = dds_global,\n",
    "    contrast=c(\"drug\", \"tamoxifen\", \"no\")\n",
    ")"
   ]
  },
  {
   "cell_type": "markdown",
   "metadata": {},
   "source": [
    "## Letrozole"
   ]
  },
  {
   "cell_type": "code",
   "execution_count": 10,
   "metadata": {
    "vscode": {
     "languageId": "r"
    }
   },
   "outputs": [
    {
     "name": "stderr",
     "output_type": "stream",
     "text": [
      "\u001b[1m\u001b[22mSaving 6.67 x 6.67 in image\n"
     ]
    },
    {
     "data": {
      "text/plain": [
       "class: DESeqDataSet \n",
       "dim: 29818 72 \n",
       "metadata(1): version\n",
       "assays(4): counts mu H cooks\n",
       "rownames(29818): chr1:3729266-3729444 chr1:4212834-4337843 ...\n",
       "  chrX_GL456233v2_random:409325-409604\n",
       "  chrX_GL456233v2_random:409325-422124\n",
       "rowData names(38): baseMean baseVar ... deviance maxCooks\n",
       "colnames(72): aging_12m_ESR1_no_1 aging_12m_ESR1_no_2 ...\n",
       "  antiHormonal_18m_ESR1_no_2 antiHormonal_18m_ESR1_no_3\n",
       "colData names(7): condition age ... replicate sizeFactor"
      ]
     },
     "metadata": {},
     "output_type": "display_data"
    }
   ],
   "source": [
    "run_analysis(\n",
    "    \"dea/letrozole\",\n",
    "    dds = dds_global,\n",
    "    contrast=c(\"drug\", \"letrozole\", \"no\")\n",
    ")"
   ]
  }
 ],
 "metadata": {
  "kernelspec": {
   "display_name": "R",
   "language": "R",
   "name": "ir"
  },
  "language_info": {
   "codemirror_mode": "r",
   "file_extension": ".r",
   "mimetype": "text/x-r-source",
   "name": "R",
   "pygments_lexer": "r",
   "version": "4.3.3"
  }
 },
 "nbformat": 4,
 "nbformat_minor": 2
}
