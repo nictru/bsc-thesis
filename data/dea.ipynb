{
 "cells": [
  {
   "cell_type": "code",
   "execution_count": 13,
   "metadata": {
    "vscode": {
     "languageId": "r"
    }
   },
   "outputs": [],
   "source": [
    "library(DESeq2)"
   ]
  },
  {
   "cell_type": "code",
   "execution_count": 14,
   "metadata": {
    "vscode": {
     "languageId": "r"
    }
   },
   "outputs": [
    {
     "data": {
      "text/html": [
       "<table class=\"dataframe\">\n",
       "<caption>A data.frame: 6 × 72</caption>\n",
       "<thead>\n",
       "\t<tr><th></th><th scope=col>aging_30m_CYP19A1_18m_3</th><th scope=col>aging_18m_ESR1_no_3</th><th scope=col>aging_18m_CYP19A1_no_2</th><th scope=col>aging_18m_CYP19A1_no_3</th><th scope=col>aging_30m_ESR1_18m_1</th><th scope=col>aging_24m_CYP19A1_6m_2</th><th scope=col>aging_12m_ESR1_1w_1</th><th scope=col>antiHormonal_20m_ESR1_tamoxifen_2m_2</th><th scope=col>aging_18m_ESR1_1w_2</th><th scope=col>aging_18m_ESR1_1w_3</th><th scope=col>⋯</th><th scope=col>antiHormonal_20m_CYP19A1_tamoxifen_2m_1</th><th scope=col>aging_12m_ESR1_1w_2</th><th scope=col>aging_18m_ESR1_no_2</th><th scope=col>antiHormonal_20m_CYP19A1_letrozole_2m_1</th><th scope=col>antiHormonal_20m_CYP19A1_no_1</th><th scope=col>antiHormonal_20m_ESR1_tamoxifen_2m_3</th><th scope=col>aging_24m_CYP19A1_12m_2</th><th scope=col>antiHormonal_18m_CYP19A1_no_2</th><th scope=col>antiHormonal_18m_CYP19A1_no_1</th><th scope=col>antiHormonal_20m_CYP19A1_tamoxifen_2m_2</th></tr>\n",
       "\t<tr><th></th><th scope=col>&lt;int&gt;</th><th scope=col>&lt;int&gt;</th><th scope=col>&lt;int&gt;</th><th scope=col>&lt;int&gt;</th><th scope=col>&lt;int&gt;</th><th scope=col>&lt;int&gt;</th><th scope=col>&lt;int&gt;</th><th scope=col>&lt;int&gt;</th><th scope=col>&lt;int&gt;</th><th scope=col>&lt;int&gt;</th><th scope=col>⋯</th><th scope=col>&lt;int&gt;</th><th scope=col>&lt;int&gt;</th><th scope=col>&lt;int&gt;</th><th scope=col>&lt;int&gt;</th><th scope=col>&lt;int&gt;</th><th scope=col>&lt;int&gt;</th><th scope=col>&lt;int&gt;</th><th scope=col>&lt;int&gt;</th><th scope=col>&lt;int&gt;</th><th scope=col>&lt;int&gt;</th></tr>\n",
       "</thead>\n",
       "<tbody>\n",
       "\t<tr><th scope=row>chr1:3729265-3729444</th><td>0</td><td>0</td><td>0</td><td>0</td><td>0</td><td>0</td><td>0</td><td>16</td><td>0</td><td>0</td><td>⋯</td><td>0</td><td>0</td><td>0</td><td>0</td><td>0</td><td>0</td><td>0</td><td>0</td><td>0</td><td> 0</td></tr>\n",
       "\t<tr><th scope=row>chr1:4212834-4298842</th><td>0</td><td>0</td><td>0</td><td>0</td><td>0</td><td>0</td><td>0</td><td> 0</td><td>0</td><td>0</td><td>⋯</td><td>0</td><td>0</td><td>0</td><td>0</td><td>8</td><td>0</td><td>0</td><td>0</td><td>0</td><td> 0</td></tr>\n",
       "\t<tr><th scope=row>chr1:4212834-4337843</th><td>0</td><td>0</td><td>0</td><td>0</td><td>0</td><td>0</td><td>0</td><td> 0</td><td>0</td><td>0</td><td>⋯</td><td>0</td><td>0</td><td>0</td><td>0</td><td>0</td><td>0</td><td>0</td><td>0</td><td>0</td><td> 0</td></tr>\n",
       "\t<tr><th scope=row>chr1:4234077-4301367</th><td>0</td><td>0</td><td>0</td><td>0</td><td>0</td><td>0</td><td>0</td><td> 0</td><td>0</td><td>0</td><td>⋯</td><td>0</td><td>0</td><td>0</td><td>0</td><td>0</td><td>0</td><td>0</td><td>0</td><td>0</td><td> 0</td></tr>\n",
       "\t<tr><th scope=row>chr1:4267756-4298842</th><td>0</td><td>0</td><td>0</td><td>0</td><td>0</td><td>0</td><td>0</td><td> 0</td><td>0</td><td>0</td><td>⋯</td><td>0</td><td>0</td><td>0</td><td>8</td><td>0</td><td>0</td><td>0</td><td>0</td><td>0</td><td> 0</td></tr>\n",
       "\t<tr><th scope=row>chr1:4267756-4301367</th><td>0</td><td>0</td><td>0</td><td>0</td><td>0</td><td>0</td><td>0</td><td> 0</td><td>0</td><td>0</td><td>⋯</td><td>0</td><td>0</td><td>0</td><td>0</td><td>0</td><td>0</td><td>0</td><td>0</td><td>0</td><td>24</td></tr>\n",
       "</tbody>\n",
       "</table>\n"
      ],
      "text/latex": [
       "A data.frame: 6 × 72\n",
       "\\begin{tabular}{r|lllllllllllllllllllll}\n",
       "  & aging\\_30m\\_CYP19A1\\_18m\\_3 & aging\\_18m\\_ESR1\\_no\\_3 & aging\\_18m\\_CYP19A1\\_no\\_2 & aging\\_18m\\_CYP19A1\\_no\\_3 & aging\\_30m\\_ESR1\\_18m\\_1 & aging\\_24m\\_CYP19A1\\_6m\\_2 & aging\\_12m\\_ESR1\\_1w\\_1 & antiHormonal\\_20m\\_ESR1\\_tamoxifen\\_2m\\_2 & aging\\_18m\\_ESR1\\_1w\\_2 & aging\\_18m\\_ESR1\\_1w\\_3 & ⋯ & antiHormonal\\_20m\\_CYP19A1\\_tamoxifen\\_2m\\_1 & aging\\_12m\\_ESR1\\_1w\\_2 & aging\\_18m\\_ESR1\\_no\\_2 & antiHormonal\\_20m\\_CYP19A1\\_letrozole\\_2m\\_1 & antiHormonal\\_20m\\_CYP19A1\\_no\\_1 & antiHormonal\\_20m\\_ESR1\\_tamoxifen\\_2m\\_3 & aging\\_24m\\_CYP19A1\\_12m\\_2 & antiHormonal\\_18m\\_CYP19A1\\_no\\_2 & antiHormonal\\_18m\\_CYP19A1\\_no\\_1 & antiHormonal\\_20m\\_CYP19A1\\_tamoxifen\\_2m\\_2\\\\\n",
       "  & <int> & <int> & <int> & <int> & <int> & <int> & <int> & <int> & <int> & <int> & ⋯ & <int> & <int> & <int> & <int> & <int> & <int> & <int> & <int> & <int> & <int>\\\\\n",
       "\\hline\n",
       "\tchr1:3729265-3729444 & 0 & 0 & 0 & 0 & 0 & 0 & 0 & 16 & 0 & 0 & ⋯ & 0 & 0 & 0 & 0 & 0 & 0 & 0 & 0 & 0 &  0\\\\\n",
       "\tchr1:4212834-4298842 & 0 & 0 & 0 & 0 & 0 & 0 & 0 &  0 & 0 & 0 & ⋯ & 0 & 0 & 0 & 0 & 8 & 0 & 0 & 0 & 0 &  0\\\\\n",
       "\tchr1:4212834-4337843 & 0 & 0 & 0 & 0 & 0 & 0 & 0 &  0 & 0 & 0 & ⋯ & 0 & 0 & 0 & 0 & 0 & 0 & 0 & 0 & 0 &  0\\\\\n",
       "\tchr1:4234077-4301367 & 0 & 0 & 0 & 0 & 0 & 0 & 0 &  0 & 0 & 0 & ⋯ & 0 & 0 & 0 & 0 & 0 & 0 & 0 & 0 & 0 &  0\\\\\n",
       "\tchr1:4267756-4298842 & 0 & 0 & 0 & 0 & 0 & 0 & 0 &  0 & 0 & 0 & ⋯ & 0 & 0 & 0 & 8 & 0 & 0 & 0 & 0 & 0 &  0\\\\\n",
       "\tchr1:4267756-4301367 & 0 & 0 & 0 & 0 & 0 & 0 & 0 &  0 & 0 & 0 & ⋯ & 0 & 0 & 0 & 0 & 0 & 0 & 0 & 0 & 0 & 24\\\\\n",
       "\\end{tabular}\n"
      ],
      "text/markdown": [
       "\n",
       "A data.frame: 6 × 72\n",
       "\n",
       "| <!--/--> | aging_30m_CYP19A1_18m_3 &lt;int&gt; | aging_18m_ESR1_no_3 &lt;int&gt; | aging_18m_CYP19A1_no_2 &lt;int&gt; | aging_18m_CYP19A1_no_3 &lt;int&gt; | aging_30m_ESR1_18m_1 &lt;int&gt; | aging_24m_CYP19A1_6m_2 &lt;int&gt; | aging_12m_ESR1_1w_1 &lt;int&gt; | antiHormonal_20m_ESR1_tamoxifen_2m_2 &lt;int&gt; | aging_18m_ESR1_1w_2 &lt;int&gt; | aging_18m_ESR1_1w_3 &lt;int&gt; | ⋯ ⋯ | antiHormonal_20m_CYP19A1_tamoxifen_2m_1 &lt;int&gt; | aging_12m_ESR1_1w_2 &lt;int&gt; | aging_18m_ESR1_no_2 &lt;int&gt; | antiHormonal_20m_CYP19A1_letrozole_2m_1 &lt;int&gt; | antiHormonal_20m_CYP19A1_no_1 &lt;int&gt; | antiHormonal_20m_ESR1_tamoxifen_2m_3 &lt;int&gt; | aging_24m_CYP19A1_12m_2 &lt;int&gt; | antiHormonal_18m_CYP19A1_no_2 &lt;int&gt; | antiHormonal_18m_CYP19A1_no_1 &lt;int&gt; | antiHormonal_20m_CYP19A1_tamoxifen_2m_2 &lt;int&gt; |\n",
       "|---|---|---|---|---|---|---|---|---|---|---|---|---|---|---|---|---|---|---|---|---|---|\n",
       "| chr1:3729265-3729444 | 0 | 0 | 0 | 0 | 0 | 0 | 0 | 16 | 0 | 0 | ⋯ | 0 | 0 | 0 | 0 | 0 | 0 | 0 | 0 | 0 |  0 |\n",
       "| chr1:4212834-4298842 | 0 | 0 | 0 | 0 | 0 | 0 | 0 |  0 | 0 | 0 | ⋯ | 0 | 0 | 0 | 0 | 8 | 0 | 0 | 0 | 0 |  0 |\n",
       "| chr1:4212834-4337843 | 0 | 0 | 0 | 0 | 0 | 0 | 0 |  0 | 0 | 0 | ⋯ | 0 | 0 | 0 | 0 | 0 | 0 | 0 | 0 | 0 |  0 |\n",
       "| chr1:4234077-4301367 | 0 | 0 | 0 | 0 | 0 | 0 | 0 |  0 | 0 | 0 | ⋯ | 0 | 0 | 0 | 0 | 0 | 0 | 0 | 0 | 0 |  0 |\n",
       "| chr1:4267756-4298842 | 0 | 0 | 0 | 0 | 0 | 0 | 0 |  0 | 0 | 0 | ⋯ | 0 | 0 | 0 | 8 | 0 | 0 | 0 | 0 | 0 |  0 |\n",
       "| chr1:4267756-4301367 | 0 | 0 | 0 | 0 | 0 | 0 | 0 |  0 | 0 | 0 | ⋯ | 0 | 0 | 0 | 0 | 0 | 0 | 0 | 0 | 0 | 24 |\n",
       "\n"
      ],
      "text/plain": [
       "                     aging_30m_CYP19A1_18m_3 aging_18m_ESR1_no_3\n",
       "chr1:3729265-3729444 0                       0                  \n",
       "chr1:4212834-4298842 0                       0                  \n",
       "chr1:4212834-4337843 0                       0                  \n",
       "chr1:4234077-4301367 0                       0                  \n",
       "chr1:4267756-4298842 0                       0                  \n",
       "chr1:4267756-4301367 0                       0                  \n",
       "                     aging_18m_CYP19A1_no_2 aging_18m_CYP19A1_no_3\n",
       "chr1:3729265-3729444 0                      0                     \n",
       "chr1:4212834-4298842 0                      0                     \n",
       "chr1:4212834-4337843 0                      0                     \n",
       "chr1:4234077-4301367 0                      0                     \n",
       "chr1:4267756-4298842 0                      0                     \n",
       "chr1:4267756-4301367 0                      0                     \n",
       "                     aging_30m_ESR1_18m_1 aging_24m_CYP19A1_6m_2\n",
       "chr1:3729265-3729444 0                    0                     \n",
       "chr1:4212834-4298842 0                    0                     \n",
       "chr1:4212834-4337843 0                    0                     \n",
       "chr1:4234077-4301367 0                    0                     \n",
       "chr1:4267756-4298842 0                    0                     \n",
       "chr1:4267756-4301367 0                    0                     \n",
       "                     aging_12m_ESR1_1w_1 antiHormonal_20m_ESR1_tamoxifen_2m_2\n",
       "chr1:3729265-3729444 0                   16                                  \n",
       "chr1:4212834-4298842 0                    0                                  \n",
       "chr1:4212834-4337843 0                    0                                  \n",
       "chr1:4234077-4301367 0                    0                                  \n",
       "chr1:4267756-4298842 0                    0                                  \n",
       "chr1:4267756-4301367 0                    0                                  \n",
       "                     aging_18m_ESR1_1w_2 aging_18m_ESR1_1w_3 ⋯\n",
       "chr1:3729265-3729444 0                   0                   ⋯\n",
       "chr1:4212834-4298842 0                   0                   ⋯\n",
       "chr1:4212834-4337843 0                   0                   ⋯\n",
       "chr1:4234077-4301367 0                   0                   ⋯\n",
       "chr1:4267756-4298842 0                   0                   ⋯\n",
       "chr1:4267756-4301367 0                   0                   ⋯\n",
       "                     antiHormonal_20m_CYP19A1_tamoxifen_2m_1\n",
       "chr1:3729265-3729444 0                                      \n",
       "chr1:4212834-4298842 0                                      \n",
       "chr1:4212834-4337843 0                                      \n",
       "chr1:4234077-4301367 0                                      \n",
       "chr1:4267756-4298842 0                                      \n",
       "chr1:4267756-4301367 0                                      \n",
       "                     aging_12m_ESR1_1w_2 aging_18m_ESR1_no_2\n",
       "chr1:3729265-3729444 0                   0                  \n",
       "chr1:4212834-4298842 0                   0                  \n",
       "chr1:4212834-4337843 0                   0                  \n",
       "chr1:4234077-4301367 0                   0                  \n",
       "chr1:4267756-4298842 0                   0                  \n",
       "chr1:4267756-4301367 0                   0                  \n",
       "                     antiHormonal_20m_CYP19A1_letrozole_2m_1\n",
       "chr1:3729265-3729444 0                                      \n",
       "chr1:4212834-4298842 0                                      \n",
       "chr1:4212834-4337843 0                                      \n",
       "chr1:4234077-4301367 0                                      \n",
       "chr1:4267756-4298842 8                                      \n",
       "chr1:4267756-4301367 0                                      \n",
       "                     antiHormonal_20m_CYP19A1_no_1\n",
       "chr1:3729265-3729444 0                            \n",
       "chr1:4212834-4298842 8                            \n",
       "chr1:4212834-4337843 0                            \n",
       "chr1:4234077-4301367 0                            \n",
       "chr1:4267756-4298842 0                            \n",
       "chr1:4267756-4301367 0                            \n",
       "                     antiHormonal_20m_ESR1_tamoxifen_2m_3\n",
       "chr1:3729265-3729444 0                                   \n",
       "chr1:4212834-4298842 0                                   \n",
       "chr1:4212834-4337843 0                                   \n",
       "chr1:4234077-4301367 0                                   \n",
       "chr1:4267756-4298842 0                                   \n",
       "chr1:4267756-4301367 0                                   \n",
       "                     aging_24m_CYP19A1_12m_2 antiHormonal_18m_CYP19A1_no_2\n",
       "chr1:3729265-3729444 0                       0                            \n",
       "chr1:4212834-4298842 0                       0                            \n",
       "chr1:4212834-4337843 0                       0                            \n",
       "chr1:4234077-4301367 0                       0                            \n",
       "chr1:4267756-4298842 0                       0                            \n",
       "chr1:4267756-4301367 0                       0                            \n",
       "                     antiHormonal_18m_CYP19A1_no_1\n",
       "chr1:3729265-3729444 0                            \n",
       "chr1:4212834-4298842 0                            \n",
       "chr1:4212834-4337843 0                            \n",
       "chr1:4234077-4301367 0                            \n",
       "chr1:4267756-4298842 0                            \n",
       "chr1:4267756-4301367 0                            \n",
       "                     antiHormonal_20m_CYP19A1_tamoxifen_2m_2\n",
       "chr1:3729265-3729444  0                                     \n",
       "chr1:4212834-4298842  0                                     \n",
       "chr1:4212834-4337843  0                                     \n",
       "chr1:4234077-4301367  0                                     \n",
       "chr1:4267756-4298842  0                                     \n",
       "chr1:4267756-4301367 24                                     "
      ]
     },
     "metadata": {},
     "output_type": "display_data"
    }
   ],
   "source": [
    "df <- read.table(\"dea/sum.tsv\", header=TRUE, sep=\"\\t\")\n",
    "# Drop duplicates in id column\n",
    "df <- df[!duplicated(df$id),]\n",
    "rownames(df) <- df$id\n",
    "df$id <- NULL\n",
    "head(df)"
   ]
  },
  {
   "cell_type": "code",
   "execution_count": 15,
   "metadata": {
    "vscode": {
     "languageId": "r"
    }
   },
   "outputs": [
    {
     "data": {
      "text/html": [
       "<table class=\"dataframe\">\n",
       "<caption>A data.frame: 6 × 6</caption>\n",
       "<thead>\n",
       "\t<tr><th></th><th scope=col>condition</th><th scope=col>age</th><th scope=col>transgene</th><th scope=col>induction</th><th scope=col>drug</th><th scope=col>replicate</th></tr>\n",
       "\t<tr><th></th><th scope=col>&lt;chr&gt;</th><th scope=col>&lt;int&gt;</th><th scope=col>&lt;chr&gt;</th><th scope=col>&lt;int&gt;</th><th scope=col>&lt;chr&gt;</th><th scope=col>&lt;int&gt;</th></tr>\n",
       "</thead>\n",
       "<tbody>\n",
       "\t<tr><th scope=row>aging_12m_ESR1_no_1</th><td>12_ESR1_0_no</td><td>12</td><td>ESR1</td><td>0</td><td>no</td><td>1</td></tr>\n",
       "\t<tr><th scope=row>aging_12m_ESR1_no_2</th><td>12_ESR1_0_no</td><td>12</td><td>ESR1</td><td>0</td><td>no</td><td>2</td></tr>\n",
       "\t<tr><th scope=row>aging_12m_ESR1_no_3</th><td>12_ESR1_0_no</td><td>12</td><td>ESR1</td><td>0</td><td>no</td><td>3</td></tr>\n",
       "\t<tr><th scope=row>aging_12m_ESR1_1w_1</th><td>12_ESR1_1_no</td><td>12</td><td>ESR1</td><td>1</td><td>no</td><td>1</td></tr>\n",
       "\t<tr><th scope=row>aging_12m_ESR1_1w_2</th><td>12_ESR1_1_no</td><td>12</td><td>ESR1</td><td>1</td><td>no</td><td>2</td></tr>\n",
       "\t<tr><th scope=row>aging_12m_ESR1_1w_3</th><td>12_ESR1_1_no</td><td>12</td><td>ESR1</td><td>1</td><td>no</td><td>3</td></tr>\n",
       "</tbody>\n",
       "</table>\n"
      ],
      "text/latex": [
       "A data.frame: 6 × 6\n",
       "\\begin{tabular}{r|llllll}\n",
       "  & condition & age & transgene & induction & drug & replicate\\\\\n",
       "  & <chr> & <int> & <chr> & <int> & <chr> & <int>\\\\\n",
       "\\hline\n",
       "\taging\\_12m\\_ESR1\\_no\\_1 & 12\\_ESR1\\_0\\_no & 12 & ESR1 & 0 & no & 1\\\\\n",
       "\taging\\_12m\\_ESR1\\_no\\_2 & 12\\_ESR1\\_0\\_no & 12 & ESR1 & 0 & no & 2\\\\\n",
       "\taging\\_12m\\_ESR1\\_no\\_3 & 12\\_ESR1\\_0\\_no & 12 & ESR1 & 0 & no & 3\\\\\n",
       "\taging\\_12m\\_ESR1\\_1w\\_1 & 12\\_ESR1\\_1\\_no & 12 & ESR1 & 1 & no & 1\\\\\n",
       "\taging\\_12m\\_ESR1\\_1w\\_2 & 12\\_ESR1\\_1\\_no & 12 & ESR1 & 1 & no & 2\\\\\n",
       "\taging\\_12m\\_ESR1\\_1w\\_3 & 12\\_ESR1\\_1\\_no & 12 & ESR1 & 1 & no & 3\\\\\n",
       "\\end{tabular}\n"
      ],
      "text/markdown": [
       "\n",
       "A data.frame: 6 × 6\n",
       "\n",
       "| <!--/--> | condition &lt;chr&gt; | age &lt;int&gt; | transgene &lt;chr&gt; | induction &lt;int&gt; | drug &lt;chr&gt; | replicate &lt;int&gt; |\n",
       "|---|---|---|---|---|---|---|\n",
       "| aging_12m_ESR1_no_1 | 12_ESR1_0_no | 12 | ESR1 | 0 | no | 1 |\n",
       "| aging_12m_ESR1_no_2 | 12_ESR1_0_no | 12 | ESR1 | 0 | no | 2 |\n",
       "| aging_12m_ESR1_no_3 | 12_ESR1_0_no | 12 | ESR1 | 0 | no | 3 |\n",
       "| aging_12m_ESR1_1w_1 | 12_ESR1_1_no | 12 | ESR1 | 1 | no | 1 |\n",
       "| aging_12m_ESR1_1w_2 | 12_ESR1_1_no | 12 | ESR1 | 1 | no | 2 |\n",
       "| aging_12m_ESR1_1w_3 | 12_ESR1_1_no | 12 | ESR1 | 1 | no | 3 |\n",
       "\n"
      ],
      "text/plain": [
       "                    condition    age transgene induction drug replicate\n",
       "aging_12m_ESR1_no_1 12_ESR1_0_no 12  ESR1      0         no   1        \n",
       "aging_12m_ESR1_no_2 12_ESR1_0_no 12  ESR1      0         no   2        \n",
       "aging_12m_ESR1_no_3 12_ESR1_0_no 12  ESR1      0         no   3        \n",
       "aging_12m_ESR1_1w_1 12_ESR1_1_no 12  ESR1      1         no   1        \n",
       "aging_12m_ESR1_1w_2 12_ESR1_1_no 12  ESR1      1         no   2        \n",
       "aging_12m_ESR1_1w_3 12_ESR1_1_no 12  ESR1      1         no   3        "
      ]
     },
     "metadata": {},
     "output_type": "display_data"
    }
   ],
   "source": [
    "phenotype <- read.csv(\"dea/phenotype.csv\", header=TRUE, row.names = 1)\n",
    "head(phenotype)"
   ]
  },
  {
   "cell_type": "code",
   "execution_count": 16,
   "metadata": {
    "vscode": {
     "languageId": "r"
    }
   },
   "outputs": [],
   "source": [
    "df <- df[, rownames(phenotype)]"
   ]
  },
  {
   "cell_type": "code",
   "execution_count": 18,
   "metadata": {
    "vscode": {
     "languageId": "r"
    }
   },
   "outputs": [
    {
     "name": "stderr",
     "output_type": "stream",
     "text": [
      "Warning message in DESeqDataSet(se, design = design, ignoreRank):\n",
      "“some variables in design formula are characters, converting to factors”\n",
      "  the design formula contains one or more numeric variables with integer values,\n",
      "  specifying a model with increasing fold change for higher values.\n",
      "  did you mean for this to be a factor? if so, first convert\n",
      "  this variable to a factor using the factor() function\n",
      "\n",
      "  the design formula contains one or more numeric variables that have mean or\n",
      "  standard deviation larger than 5 (an arbitrary threshold to trigger this message).\n",
      "  Including numeric variables with large mean can induce collinearity with the intercept.\n",
      "  Users should center and scale numeric variables in the design to improve GLM convergence.\n",
      "\n"
     ]
    }
   ],
   "source": [
    "dds <- DESeqDataSetFromMatrix(countData = df,\n",
    "                              colData = phenotype,\n",
    "                              design = ~ age + transgene + induction + drug)"
   ]
  }
 ],
 "metadata": {
  "kernelspec": {
   "display_name": "R",
   "language": "R",
   "name": "ir"
  },
  "language_info": {
   "codemirror_mode": "r",
   "file_extension": ".r",
   "mimetype": "text/x-r-source",
   "name": "R",
   "pygments_lexer": "r",
   "version": "4.3.3"
  }
 },
 "nbformat": 4,
 "nbformat_minor": 2
}
