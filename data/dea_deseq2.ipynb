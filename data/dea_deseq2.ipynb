{
 "cells": [
  {
   "cell_type": "code",
   "execution_count": 1,
   "metadata": {
    "vscode": {
     "languageId": "r"
    }
   },
   "outputs": [
    {
     "name": "stderr",
     "output_type": "stream",
     "text": [
      "Warning message:\n",
      "“package ‘DESeq2’ was built under R version 4.3.3”\n",
      "Loading required package: S4Vectors\n",
      "\n",
      "Warning message:\n",
      "“package ‘S4Vectors’ was built under R version 4.3.3”\n",
      "Loading required package: stats4\n",
      "\n",
      "Loading required package: BiocGenerics\n",
      "\n",
      "Warning message:\n",
      "“package ‘BiocGenerics’ was built under R version 4.3.2”\n",
      "\n",
      "Attaching package: ‘BiocGenerics’\n",
      "\n",
      "\n",
      "The following objects are masked from ‘package:stats’:\n",
      "\n",
      "    IQR, mad, sd, var, xtabs\n",
      "\n",
      "\n",
      "The following objects are masked from ‘package:base’:\n",
      "\n",
      "    anyDuplicated, aperm, append, as.data.frame, basename, cbind,\n",
      "    colnames, dirname, do.call, duplicated, eval, evalq, Filter, Find,\n",
      "    get, grep, grepl, intersect, is.unsorted, lapply, Map, mapply,\n",
      "    match, mget, order, paste, pmax, pmax.int, pmin, pmin.int,\n",
      "    Position, rank, rbind, Reduce, rownames, sapply, setdiff, sort,\n",
      "    table, tapply, union, unique, unsplit, which.max, which.min\n",
      "\n",
      "\n",
      "\n",
      "Attaching package: ‘S4Vectors’\n",
      "\n",
      "\n",
      "The following object is masked from ‘package:utils’:\n",
      "\n",
      "    findMatches\n",
      "\n",
      "\n",
      "The following objects are masked from ‘package:base’:\n",
      "\n",
      "    expand.grid, I, unname\n",
      "\n",
      "\n",
      "Loading required package: IRanges\n",
      "\n",
      "Warning message:\n",
      "“package ‘IRanges’ was built under R version 4.3.3”\n",
      "Loading required package: GenomicRanges\n",
      "\n",
      "Warning message:\n",
      "“package ‘GenomicRanges’ was built under R version 4.3.3”\n",
      "Loading required package: GenomeInfoDb\n",
      "\n",
      "Warning message:\n",
      "“package ‘GenomeInfoDb’ was built under R version 4.3.2”\n",
      "Loading required package: SummarizedExperiment\n",
      "\n",
      "Warning message:\n",
      "“package ‘SummarizedExperiment’ was built under R version 4.3.2”\n",
      "Loading required package: MatrixGenerics\n",
      "\n",
      "Warning message:\n",
      "“package ‘MatrixGenerics’ was built under R version 4.3.3”\n",
      "Loading required package: matrixStats\n",
      "\n",
      "\n",
      "Attaching package: ‘MatrixGenerics’\n",
      "\n",
      "\n",
      "The following objects are masked from ‘package:matrixStats’:\n",
      "\n",
      "    colAlls, colAnyNAs, colAnys, colAvgsPerRowSet, colCollapse,\n",
      "    colCounts, colCummaxs, colCummins, colCumprods, colCumsums,\n",
      "    colDiffs, colIQRDiffs, colIQRs, colLogSumExps, colMadDiffs,\n",
      "    colMads, colMaxs, colMeans2, colMedians, colMins, colOrderStats,\n",
      "    colProds, colQuantiles, colRanges, colRanks, colSdDiffs, colSds,\n",
      "    colSums2, colTabulates, colVarDiffs, colVars, colWeightedMads,\n",
      "    colWeightedMeans, colWeightedMedians, colWeightedSds,\n",
      "    colWeightedVars, rowAlls, rowAnyNAs, rowAnys, rowAvgsPerColSet,\n",
      "    rowCollapse, rowCounts, rowCummaxs, rowCummins, rowCumprods,\n",
      "    rowCumsums, rowDiffs, rowIQRDiffs, rowIQRs, rowLogSumExps,\n",
      "    rowMadDiffs, rowMads, rowMaxs, rowMeans2, rowMedians, rowMins,\n",
      "    rowOrderStats, rowProds, rowQuantiles, rowRanges, rowRanks,\n",
      "    rowSdDiffs, rowSds, rowSums2, rowTabulates, rowVarDiffs, rowVars,\n",
      "    rowWeightedMads, rowWeightedMeans, rowWeightedMedians,\n",
      "    rowWeightedSds, rowWeightedVars\n",
      "\n",
      "\n",
      "Loading required package: Biobase\n",
      "\n",
      "Warning message:\n",
      "“package ‘Biobase’ was built under R version 4.3.3”\n",
      "Welcome to Bioconductor\n",
      "\n",
      "    Vignettes contain introductory material; view with\n",
      "    'browseVignettes()'. To cite Bioconductor, see\n",
      "    'citation(\"Biobase\")', and for packages 'citation(\"pkgname\")'.\n",
      "\n",
      "\n",
      "\n",
      "Attaching package: ‘Biobase’\n",
      "\n",
      "\n",
      "The following object is masked from ‘package:MatrixGenerics’:\n",
      "\n",
      "    rowMedians\n",
      "\n",
      "\n",
      "The following objects are masked from ‘package:matrixStats’:\n",
      "\n",
      "    anyMissing, rowMedians\n",
      "\n",
      "\n",
      "Warning message:\n",
      "“package ‘EnhancedVolcano’ was built under R version 4.3.2”\n",
      "Loading required package: ggplot2\n",
      "\n",
      "Loading required package: ggrepel\n",
      "\n",
      "Warning message:\n",
      "“package ‘clusterProfiler’ was built under R version 4.3.2”\n",
      "\n",
      "\n",
      "clusterProfiler v4.10.0  For help: https://yulab-smu.top/biomedical-knowledge-mining-book/\n",
      "\n",
      "If you use clusterProfiler in published research, please cite:\n",
      "T Wu, E Hu, S Xu, M Chen, P Guo, Z Dai, T Feng, L Zhou, W Tang, L Zhan, X Fu, S Liu, X Bo, and G Yu. clusterProfiler 4.0: A universal enrichment tool for interpreting omics data. The Innovation. 2021, 2(3):100141\n",
      "\n",
      "\n",
      "Attaching package: ‘clusterProfiler’\n",
      "\n",
      "\n",
      "The following object is masked from ‘package:IRanges’:\n",
      "\n",
      "    slice\n",
      "\n",
      "\n",
      "The following object is masked from ‘package:S4Vectors’:\n",
      "\n",
      "    rename\n",
      "\n",
      "\n",
      "The following object is masked from ‘package:stats’:\n",
      "\n",
      "    filter\n",
      "\n",
      "\n",
      "Warning message:\n",
      "“package ‘enrichplot’ was built under R version 4.3.2”\n",
      "Loading required package: AnnotationDbi\n",
      "\n",
      "Warning message:\n",
      "“package ‘AnnotationDbi’ was built under R version 4.3.2”\n",
      "\n",
      "Attaching package: ‘AnnotationDbi’\n",
      "\n",
      "\n",
      "The following object is masked from ‘package:clusterProfiler’:\n",
      "\n",
      "    select\n",
      "\n",
      "\n",
      "\n",
      "\n",
      "Warning message:\n",
      "“package ‘DOSE’ was built under R version 4.3.2”\n",
      "DOSE v3.28.1  For help: https://yulab-smu.top/biomedical-knowledge-mining-book/\n",
      "\n",
      "If you use DOSE in published research, please cite:\n",
      "Guangchuang Yu, Li-Gen Wang, Guang-Rong Yan, Qing-Yu He. DOSE: an R/Bioconductor package for Disease Ontology Semantic and Enrichment analysis. Bioinformatics 2015, 31(4):608-609\n",
      "\n",
      "\n"
     ]
    }
   ],
   "source": [
    "library(DESeq2)\n",
    "library(EnhancedVolcano)\n",
    "library(clusterProfiler)\n",
    "library(enrichplot)\n",
    "library(ggplot2)\n",
    "organism = \"org.Mm.eg.db\"\n",
    "library(organism, character.only = TRUE)\n",
    "library(DOSE)"
   ]
  },
  {
   "cell_type": "code",
   "execution_count": 2,
   "metadata": {
    "vscode": {
     "languageId": "r"
    }
   },
   "outputs": [],
   "source": [
    "outdir = \"../chapters/4_results_and_discussion/figures/dea/deseq2/\""
   ]
  },
  {
   "cell_type": "code",
   "execution_count": 3,
   "metadata": {
    "vscode": {
     "languageId": "r"
    }
   },
   "outputs": [],
   "source": [
    "df <- read.table(\"dea/sum.tsv\", header=TRUE, sep=\"\\t\")\n",
    "# Drop duplicates in id column\n",
    "df <- df[!duplicated(df$id),]\n",
    "rownames(df) <- df$id\n",
    "df$id <- NULL\n",
    "\n",
    "annotation <- read.table(\"dea/annotation.bed\", header=FALSE, sep=\"\\t\", col.names = c(\"chr\", \"start\", \"end\", \"name\", \"score\", \"strand\", \"type\", \"gene.id\", \"gene\", \"transcripts\", \"databases\"))\n",
    "# Remove chr, start, end, score, strand, gene.id, transcripts\n",
    "annotation$chr <- NULL\n",
    "annotation$start <- NULL\n",
    "annotation$end <- NULL\n",
    "annotation$score <- NULL\n",
    "annotation$strand <- NULL\n",
    "annotation$gene.id <- NULL\n",
    "annotation$transcripts <- NULL\n",
    "annotation$has_db <- annotation$databases != \".\"\n",
    "\n",
    "rownames(annotation) <- annotation$name\n",
    "annotation$name <- NULL\n",
    "\n",
    "phenotype <- read.csv(\"dea/phenotype.csv\", header=TRUE, row.names = 1)\n",
    "phenotype$transgene <- as.factor(phenotype$transgene)\n",
    "phenotype$drug <- as.factor(phenotype$drug)\n",
    "\n",
    "# Center and scale age and induction\n",
    "phenotype$age <- scale(phenotype$age)\n",
    "phenotype$induction <- scale(phenotype$induction)\n",
    "\n",
    "df_genes <- read.table(\"dea/gene_tpm.tsv\", sep=\"\\t\", header=TRUE, row.names=1)\n",
    "df_genes$gene_name <- NULL\n",
    "# Order genes columns like phenotype rows\n",
    "df_genes <- df_genes[,rownames(phenotype)]\n",
    "\n",
    "phenotype$esr1 <- scale(as.numeric(df_genes[\"Esr1\",]))"
   ]
  },
  {
   "cell_type": "code",
   "execution_count": 4,
   "metadata": {
    "vscode": {
     "languageId": "r"
    }
   },
   "outputs": [],
   "source": [
    "run_analysis <- function(title, phenotype = NULL, design = NULL, dds = NULL, contrast = NULL, name = NULL) {\n",
    "    directory <- paste0(outdir, sub(\" \", \"_\", tolower(title)))\n",
    "    # Fail if both contrast and name are NULL\n",
    "    if (is.null(contrast) && is.null(name)) {\n",
    "        stop(\"Both contrast and name cannot be NULL\")\n",
    "    }\n",
    "    # Fail if none of contrast and name are NULL\n",
    "    if (!is.null(contrast) && !is.null(name)) {\n",
    "        stop(\"Both contrast and name cannot be provided\")\n",
    "    }\n",
    "\n",
    "    if (is.null(phenotype) && is.null(design) && is.null(dds)) {\n",
    "        stop(\"Either phenotype and design or dds must be provided\")\n",
    "    }\n",
    "\n",
    "    if (is.null(phenotype) != is.null(design)) {\n",
    "        stop(\"Both phenotype and design must be provided\")\n",
    "    }\n",
    "\n",
    "    if (!is.null(dds) && !is.null(phenotype)) {\n",
    "        stop(\"Either dds or phenotype and design must be provided\")\n",
    "    }\n",
    "\n",
    "    alpha <- 0.05\n",
    "\n",
    "    if (is.null(dds)) {\n",
    "        dds <- DESeqDataSetFromMatrix(countData = df[, rownames(phenotype)],\n",
    "                                    colData = phenotype,\n",
    "                                    design = design)\n",
    "        dds <- DESeq(dds)\n",
    "    }\n",
    "\n",
    "    if (!is.null(contrast)) {\n",
    "        res <- results(dds, contrast = contrast, alpha = alpha, lfcThreshold = 2, altHypothesis = \"greaterAbs\")\n",
    "    } else {\n",
    "        res <- results(dds, name = name, alpha = alpha, lfcThreshold = 2, altHypothesis = \"greaterAbs\")\n",
    "    }\n",
    "    res <- res[order(res$padj),]\n",
    "    res <- cbind(res, annotation[rownames(res),])\n",
    "\n",
    "    # Recreate directory if it exists\n",
    "    if (dir.exists(directory)) {\n",
    "        unlink(directory, recursive = TRUE)\n",
    "    }\n",
    "    dir.create(directory, showWarnings = FALSE, recursive = TRUE)\n",
    "\n",
    "    write.table(res, file=paste0(directory, \"/res.tsv\"), sep=\"\\t\", col.names=NA, row.names=TRUE, quote=FALSE)\n",
    "\n",
    "    colors <- ifelse(res$has_db, \"red\", \"black\")\n",
    "    names(colors) <- ifelse(res$has_db, \"Has database\", \"No database\")\n",
    "\n",
    "    EnhancedVolcano(res,\n",
    "        x='log2FoldChange',\n",
    "        y='padj',\n",
    "        lab=res$gene,\n",
    "        title=\"DESeq2\",\n",
    "        colCustom=colors,\n",
    "        drawConnectors=FALSE,\n",
    "        pCutoff = alpha)\n",
    "    ggsave(paste0(directory, \"/volcano.png\"))\n",
    "\n",
    "    # Keep only rows without any NA\n",
    "    res <- res[complete.cases(res),]\n",
    "\n",
    "    sign <- res[res$padj < alpha,]\n",
    "\n",
    "    genes <- unique(unlist(strsplit(sign$gene, \",\")))\n",
    "    write.table(genes, file=paste0(directory, \"/genes.txt\"), row.names=FALSE, col.names=FALSE, quote=FALSE)\n",
    "    db <- unique(unlist(strsplit(sign$databases, \",\")))\n",
    "    write.table(db, file=paste0(directory, \"/db.txt\"), row.names=FALSE, col.names=FALSE, quote=FALSE)\n",
    "\n",
    "    gene_list <- sign$log2FoldChange\n",
    "    names(gene_list) <- sign$gene\n",
    "    gene_list = sort(gene_list, decreasing = TRUE)\n",
    "\n",
    "    gse <- gseGO(geneList=gene_list,\n",
    "            ont =\"ALL\", \n",
    "            keyType = \"SYMBOL\",\n",
    "            pvalueCutoff = 0.05,\n",
    "            verbose = TRUE,\n",
    "            OrgDb = organism,\n",
    "            pAdjustMethod = \"BH\")\n",
    "\n",
    "    # If no significant GO terms, return\n",
    "    if (nrow(as.data.frame(gse)) > 0) {\n",
    "        dotplot(gse, showCategory=10, split=\".sign\") + facet_grid(.~.sign)\n",
    "        ggsave(paste0(directory, \"/dot.png\"))\n",
    "\n",
    "        gse <- pairwise_termsim(gse)\n",
    "        emapplot(gse, showCategory = 10)\n",
    "        ggsave(paste0(directory, \"/emap.png\"))\n",
    "\n",
    "        cnetplot(gse, categorySize=\"pvalue\", foldChange=gene_list, showCategory = 3)\n",
    "        ggsave(paste0(directory, \"/cnet.png\"))\n",
    "\n",
    "        ridgeplot(gse) + labs(x = \"enrichment distribution\")\n",
    "        ggsave(paste0(directory, \"/ridge.png\"))\n",
    "    } else {\n",
    "        print(\"No significant GO terms\")\n",
    "    }\n",
    "\n",
    "    return(dds)\n",
    "}"
   ]
  },
  {
   "cell_type": "markdown",
   "metadata": {},
   "source": [
    "# Aging"
   ]
  },
  {
   "cell_type": "code",
   "execution_count": 5,
   "metadata": {
    "vscode": {
     "languageId": "r"
    }
   },
   "outputs": [
    {
     "name": "stderr",
     "output_type": "stream",
     "text": [
      "estimating size factors\n",
      "\n",
      "estimating dispersions\n",
      "\n",
      "gene-wise dispersion estimates\n",
      "\n",
      "mean-dispersion relationship\n",
      "\n",
      "final dispersion estimates\n",
      "\n",
      "fitting model and testing\n",
      "\n",
      "15 rows did not converge in beta, labelled in mcols(object)$betaConv. Use larger maxit argument with nbinomWaldTest\n",
      "\n",
      "\u001b[1m\u001b[22mSaving 6.67 x 6.67 in image\n",
      "preparing geneSet collections...\n",
      "\n",
      "GSEA analysis...\n",
      "\n",
      "Warning message in preparePathwaysAndStats(pathways, stats, minSize, maxSize, gseaParam, :\n",
      "“There are ties in the preranked stats (83.56% of the list).\n",
      "The order of those tied genes will be arbitrary, which may produce unexpected results.”\n",
      "Warning message in preparePathwaysAndStats(pathways, stats, minSize, maxSize, gseaParam, :\n",
      "“There are duplicate gene names, fgsea may produce unexpected results.”\n",
      "leading edge analysis...\n",
      "\n",
      "done...\n",
      "\n",
      "\u001b[1m\u001b[22mSaving 6.67 x 6.67 in image\n",
      "\u001b[1m\u001b[22mSaving 6.67 x 6.67 in image\n",
      "Warning message in cnetplot.enrichResult(x, ...):\n",
      "“Use 'color.params = list(foldChange = your_value)' instead of 'foldChange'.\n",
      " The foldChange parameter will be removed in the next version.”\n",
      "\u001b[1m\u001b[22mScale for \u001b[32msize\u001b[39m is already present.\n",
      "Adding another scale for \u001b[32msize\u001b[39m, which will replace the existing scale.\n",
      "\u001b[1m\u001b[22mSaving 6.67 x 6.67 in image\n",
      "Warning message:\n",
      "“ggrepel: 7 unlabeled data points (too many overlaps). Consider increasing max.overlaps”\n",
      "\u001b[1m\u001b[22mSaving 6.67 x 6.67 in image\n",
      "Picking joint bandwidth of 4.09\n",
      "\n"
     ]
    }
   ],
   "source": [
    "dds_esr1 <- run_analysis(\n",
    "    \"Age\",\n",
    "    phenotype = phenotype,\n",
    "    design = ~ age + transgene + induction + drug + esr1,\n",
    "    name = \"age\"\n",
    ")"
   ]
  },
  {
   "cell_type": "markdown",
   "metadata": {},
   "source": [
    "# ESR1 association"
   ]
  },
  {
   "cell_type": "code",
   "execution_count": 6,
   "metadata": {
    "vscode": {
     "languageId": "r"
    }
   },
   "outputs": [
    {
     "name": "stderr",
     "output_type": "stream",
     "text": [
      "\u001b[1m\u001b[22mSaving 6.67 x 6.67 in image\n",
      "preparing geneSet collections...\n",
      "\n",
      "GSEA analysis...\n",
      "\n",
      "Warning message in preparePathwaysAndStats(pathways, stats, minSize, maxSize, gseaParam, :\n",
      "“There are ties in the preranked stats (87.45% of the list).\n",
      "The order of those tied genes will be arbitrary, which may produce unexpected results.”\n",
      "Warning message in preparePathwaysAndStats(pathways, stats, minSize, maxSize, gseaParam, :\n",
      "“There are duplicate gene names, fgsea may produce unexpected results.”\n",
      "leading edge analysis...\n",
      "\n",
      "done...\n",
      "\n",
      "\u001b[1m\u001b[22mSaving 6.67 x 6.67 in image\n",
      "\u001b[1m\u001b[22mSaving 6.67 x 6.67 in image\n",
      "Warning message in cnetplot.enrichResult(x, ...):\n",
      "“Use 'color.params = list(foldChange = your_value)' instead of 'foldChange'.\n",
      " The foldChange parameter will be removed in the next version.”\n",
      "\u001b[1m\u001b[22mScale for \u001b[32msize\u001b[39m is already present.\n",
      "Adding another scale for \u001b[32msize\u001b[39m, which will replace the existing scale.\n",
      "\u001b[1m\u001b[22mSaving 6.67 x 6.67 in image\n",
      "Warning message:\n",
      "“ggrepel: 770 unlabeled data points (too many overlaps). Consider increasing max.overlaps”\n",
      "\u001b[1m\u001b[22mSaving 6.67 x 6.67 in image\n",
      "Picking joint bandwidth of 1.11\n",
      "\n"
     ]
    },
    {
     "data": {
      "text/plain": [
       "class: DESeqDataSet \n",
       "dim: 56620 72 \n",
       "metadata(1): version\n",
       "assays(4): counts mu H cooks\n",
       "rownames(56620): chr1:3729265-3729444:+ chr1:4212834-4337843:- ...\n",
       "  chrX_GL456233v2_random:409325-409604:-\n",
       "  chrX_GL456233v2_random:409325-422124:-\n",
       "rowData names(42): baseMean baseVar ... deviance maxCooks\n",
       "colnames(72): aging_12m_ESR1_no_1 aging_12m_ESR1_no_2 ...\n",
       "  antiHormonal_18m_ESR1_no_2 antiHormonal_18m_ESR1_no_3\n",
       "colData names(8): condition age ... esr1 sizeFactor"
      ]
     },
     "metadata": {},
     "output_type": "display_data"
    }
   ],
   "source": [
    "run_analysis(\n",
    "    \"ESR1\",\n",
    "    dds = dds_esr1,\n",
    "    name = \"esr1\"\n",
    ")"
   ]
  },
  {
   "cell_type": "markdown",
   "metadata": {},
   "source": [
    "# Drug effects"
   ]
  },
  {
   "cell_type": "markdown",
   "metadata": {},
   "source": [
    "## Tamoxifen"
   ]
  },
  {
   "cell_type": "code",
   "execution_count": 7,
   "metadata": {
    "vscode": {
     "languageId": "r"
    }
   },
   "outputs": [
    {
     "name": "stderr",
     "output_type": "stream",
     "text": [
      "estimating size factors\n",
      "\n",
      "estimating dispersions\n",
      "\n",
      "gene-wise dispersion estimates\n",
      "\n",
      "mean-dispersion relationship\n",
      "\n",
      "final dispersion estimates\n",
      "\n",
      "fitting model and testing\n",
      "\n",
      "\u001b[1m\u001b[22mSaving 6.67 x 6.67 in image\n",
      "preparing geneSet collections...\n",
      "\n",
      "GSEA analysis...\n",
      "\n",
      "Warning message in preparePathwaysAndStats(pathways, stats, minSize, maxSize, gseaParam, :\n",
      "“There are ties in the preranked stats (52.48% of the list).\n",
      "The order of those tied genes will be arbitrary, which may produce unexpected results.”\n",
      "Warning message in preparePathwaysAndStats(pathways, stats, minSize, maxSize, gseaParam, :\n",
      "“There are duplicate gene names, fgsea may produce unexpected results.”\n",
      "no term enriched under specific pvalueCutoff...\n",
      "\n"
     ]
    },
    {
     "name": "stdout",
     "output_type": "stream",
     "text": [
      "[1] \"No significant GO terms\"\n"
     ]
    }
   ],
   "source": [
    "dds_no_esr1 <- run_analysis(\n",
    "    \"Tamoxifen\",\n",
    "    phenotype = phenotype,\n",
    "    design = ~ age + transgene + induction + drug,\n",
    "    contrast=c(\"drug\", \"tamoxifen\", \"no\")\n",
    ")"
   ]
  },
  {
   "cell_type": "markdown",
   "metadata": {},
   "source": [
    "## Letrozole"
   ]
  },
  {
   "cell_type": "code",
   "execution_count": 8,
   "metadata": {
    "vscode": {
     "languageId": "r"
    }
   },
   "outputs": [
    {
     "name": "stderr",
     "output_type": "stream",
     "text": [
      "\u001b[1m\u001b[22mSaving 6.67 x 6.67 in image\n",
      "preparing geneSet collections...\n",
      "\n",
      "GSEA analysis...\n",
      "\n",
      "Warning message in preparePathwaysAndStats(pathways, stats, minSize, maxSize, gseaParam, :\n",
      "“There are ties in the preranked stats (64.39% of the list).\n",
      "The order of those tied genes will be arbitrary, which may produce unexpected results.”\n",
      "Warning message in preparePathwaysAndStats(pathways, stats, minSize, maxSize, gseaParam, :\n",
      "“There are duplicate gene names, fgsea may produce unexpected results.”\n",
      "no term enriched under specific pvalueCutoff...\n",
      "\n"
     ]
    },
    {
     "name": "stdout",
     "output_type": "stream",
     "text": [
      "[1] \"No significant GO terms\"\n"
     ]
    },
    {
     "data": {
      "text/plain": [
       "class: DESeqDataSet \n",
       "dim: 56620 72 \n",
       "metadata(1): version\n",
       "assays(4): counts mu H cooks\n",
       "rownames(56620): chr1:3729265-3729444:+ chr1:4212834-4337843:- ...\n",
       "  chrX_GL456233v2_random:409325-409604:-\n",
       "  chrX_GL456233v2_random:409325-422124:-\n",
       "rowData names(38): baseMean baseVar ... deviance maxCooks\n",
       "colnames(72): aging_12m_ESR1_no_1 aging_12m_ESR1_no_2 ...\n",
       "  antiHormonal_18m_ESR1_no_2 antiHormonal_18m_ESR1_no_3\n",
       "colData names(8): condition age ... esr1 sizeFactor"
      ]
     },
     "metadata": {},
     "output_type": "display_data"
    }
   ],
   "source": [
    "run_analysis(\n",
    "    \"Letrozole\",\n",
    "    dds = dds_no_esr1,\n",
    "    contrast=c(\"drug\", \"letrozole\", \"no\")\n",
    ")"
   ]
  }
 ],
 "metadata": {
  "kernelspec": {
   "display_name": "R",
   "language": "R",
   "name": "ir"
  },
  "language_info": {
   "codemirror_mode": "r",
   "file_extension": ".r",
   "mimetype": "text/x-r-source",
   "name": "R",
   "pygments_lexer": "r",
   "version": "4.3.1"
  }
 },
 "nbformat": 4,
 "nbformat_minor": 2
}
