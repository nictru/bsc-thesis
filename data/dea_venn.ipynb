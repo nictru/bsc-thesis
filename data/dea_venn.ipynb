{
 "cells": [
  {
   "cell_type": "code",
   "execution_count": 117,
   "metadata": {
    "vscode": {
     "languageId": "r"
    }
   },
   "outputs": [],
   "source": [
    "library(VennDiagram)\n",
    "library(ggplot2)\n",
    "library(EnhancedVolcano)"
   ]
  },
  {
   "cell_type": "code",
   "execution_count": 118,
   "metadata": {
    "vscode": {
     "languageId": "r"
    }
   },
   "outputs": [],
   "source": [
    "directory <- \"../chapters/4_results_and_discussion/figures/dea/\"\n",
    "alpha <- 0.05"
   ]
  },
  {
   "cell_type": "code",
   "execution_count": 119,
   "metadata": {
    "vscode": {
     "languageId": "r"
    }
   },
   "outputs": [],
   "source": [
    "annotation <- read.table(\"dea/annotation.bed\", header=FALSE, sep=\"\\t\", col.names = c(\"chr\", \"start\", \"end\", \"name\", \"score\", \"strand\", \"type\", \"gene.id\", \"gene\", \"transcripts\", \"databases\"))\n",
    "# Remove chr, start, end, score, strand, gene.id, transcripts\n",
    "annotation$chr <- NULL\n",
    "annotation$start <- NULL\n",
    "annotation$end <- NULL\n",
    "annotation$score <- NULL\n",
    "annotation$strand <- NULL\n",
    "annotation$gene.id <- NULL\n",
    "annotation$transcripts <- NULL\n",
    "\n",
    "rownames(annotation) <- annotation$name\n",
    "annotation$name <- NULL"
   ]
  },
  {
   "cell_type": "code",
   "execution_count": 120,
   "metadata": {
    "vscode": {
     "languageId": "r"
    }
   },
   "outputs": [
    {
     "name": "stdout",
     "output_type": "stream",
     "text": [
      "INFO [2024-10-11 16:27:38] $x\n",
      "INFO [2024-10-11 16:27:38] list(deseq_hits, ciriquant_hits)\n",
      "INFO [2024-10-11 16:27:38] \n",
      "INFO [2024-10-11 16:27:38] $category.names\n",
      "INFO [2024-10-11 16:27:38] c(\"DESeq2\", \"Ciriquant\")\n",
      "INFO [2024-10-11 16:27:38] \n",
      "INFO [2024-10-11 16:27:38] $filename\n",
      "INFO [2024-10-11 16:27:38] file.path(directory, paste0(drug, \"_venn_circs.png\"))\n",
      "INFO [2024-10-11 16:27:38] \n",
      "INFO [2024-10-11 16:27:38] $output\n",
      "INFO [2024-10-11 16:27:38] [1] TRUE\n",
      "INFO [2024-10-11 16:27:38] \n",
      "INFO [2024-10-11 16:27:38] $imagetype\n",
      "INFO [2024-10-11 16:27:38] [1] \"png\"\n",
      "INFO [2024-10-11 16:27:38] \n",
      "INFO [2024-10-11 16:27:38] $fill\n",
      "INFO [2024-10-11 16:27:38] c(alpha(\"#440154ff\", 0.3), alpha(\"#21908dff\", 0.3))\n",
      "INFO [2024-10-11 16:27:38] \n",
      "INFO [2024-10-11 16:27:38] $disable.logging\n",
      "INFO [2024-10-11 16:27:38] [1] TRUE\n",
      "INFO [2024-10-11 16:27:38] \n",
      "INFO [2024-10-11 16:27:38] $x\n",
      "INFO [2024-10-11 16:27:38] list(deseq_genes, ciriquant_genes)\n",
      "INFO [2024-10-11 16:27:38] \n",
      "INFO [2024-10-11 16:27:38] $category.names\n",
      "INFO [2024-10-11 16:27:38] c(\"DESeq2\", \"Ciriquant\")\n",
      "INFO [2024-10-11 16:27:38] \n",
      "INFO [2024-10-11 16:27:38] $filename\n",
      "INFO [2024-10-11 16:27:38] file.path(directory, paste0(drug, \"_venn_genes.png\"))\n",
      "INFO [2024-10-11 16:27:38] \n",
      "INFO [2024-10-11 16:27:38] $output\n",
      "INFO [2024-10-11 16:27:38] [1] TRUE\n",
      "INFO [2024-10-11 16:27:38] \n",
      "INFO [2024-10-11 16:27:38] $imagetype\n",
      "INFO [2024-10-11 16:27:38] [1] \"png\"\n",
      "INFO [2024-10-11 16:27:38] \n",
      "INFO [2024-10-11 16:27:38] $fill\n",
      "INFO [2024-10-11 16:27:38] c(alpha(\"#440154ff\", 0.3), alpha(\"#21908dff\", 0.3))\n",
      "INFO [2024-10-11 16:27:38] \n",
      "INFO [2024-10-11 16:27:38] $disable.logging\n",
      "INFO [2024-10-11 16:27:38] [1] TRUE\n",
      "INFO [2024-10-11 16:27:38] \n",
      "INFO [2024-10-11 16:28:30] $x\n",
      "INFO [2024-10-11 16:28:30] list(deseq_hits, ciriquant_hits)\n",
      "INFO [2024-10-11 16:28:30] \n",
      "INFO [2024-10-11 16:28:30] $category.names\n",
      "INFO [2024-10-11 16:28:30] c(\"DESeq2\", \"Ciriquant\")\n",
      "INFO [2024-10-11 16:28:30] \n",
      "INFO [2024-10-11 16:28:30] $filename\n",
      "INFO [2024-10-11 16:28:30] file.path(directory, paste0(drug, \"_venn_circs.png\"))\n",
      "INFO [2024-10-11 16:28:30] \n",
      "INFO [2024-10-11 16:28:30] $output\n",
      "INFO [2024-10-11 16:28:30] [1] TRUE\n",
      "INFO [2024-10-11 16:28:30] \n",
      "INFO [2024-10-11 16:28:30] $imagetype\n",
      "INFO [2024-10-11 16:28:30] [1] \"png\"\n",
      "INFO [2024-10-11 16:28:30] \n",
      "INFO [2024-10-11 16:28:30] $fill\n",
      "INFO [2024-10-11 16:28:30] c(alpha(\"#440154ff\", 0.3), alpha(\"#21908dff\", 0.3))\n",
      "INFO [2024-10-11 16:28:30] \n",
      "INFO [2024-10-11 16:28:30] $disable.logging\n",
      "INFO [2024-10-11 16:28:30] [1] TRUE\n",
      "INFO [2024-10-11 16:28:30] \n",
      "INFO [2024-10-11 16:28:30] $x\n",
      "INFO [2024-10-11 16:28:30] list(deseq_genes, ciriquant_genes)\n",
      "INFO [2024-10-11 16:28:30] \n",
      "INFO [2024-10-11 16:28:30] $category.names\n",
      "INFO [2024-10-11 16:28:30] c(\"DESeq2\", \"Ciriquant\")\n",
      "INFO [2024-10-11 16:28:30] \n",
      "INFO [2024-10-11 16:28:30] $filename\n",
      "INFO [2024-10-11 16:28:30] file.path(directory, paste0(drug, \"_venn_genes.png\"))\n",
      "INFO [2024-10-11 16:28:30] \n",
      "INFO [2024-10-11 16:28:30] $output\n",
      "INFO [2024-10-11 16:28:30] [1] TRUE\n",
      "INFO [2024-10-11 16:28:30] \n",
      "INFO [2024-10-11 16:28:30] $imagetype\n",
      "INFO [2024-10-11 16:28:30] [1] \"png\"\n",
      "INFO [2024-10-11 16:28:30] \n",
      "INFO [2024-10-11 16:28:30] $fill\n",
      "INFO [2024-10-11 16:28:30] c(alpha(\"#440154ff\", 0.3), alpha(\"#21908dff\", 0.3))\n",
      "INFO [2024-10-11 16:28:30] \n",
      "INFO [2024-10-11 16:28:30] $disable.logging\n",
      "INFO [2024-10-11 16:28:30] [1] TRUE\n",
      "INFO [2024-10-11 16:28:30] \n"
     ]
    }
   ],
   "source": [
    "for (drug in c(\"tamoxifen\", \"letrozole\")) {\n",
    "    deseq <- read.table(file.path(directory, \"deseq2\", drug, \"res.tsv\"), header=TRUE, sep=\"\\t\", row.names=1)\n",
    "    ciriquant <- read.table(file.path(directory, \"ciriquant\", drug, \"results.tsv\"), header=TRUE, sep=\"\\t\", row.names = 1)\n",
    "\n",
    "    deseq <- deseq[deseq$padj < alpha,]\n",
    "    ciriquant <- ciriquant[ciriquant$PValue < alpha,]\n",
    "\n",
    "    deseq_hits <- rownames(deseq)\n",
    "    ciriquant_hits <- rownames(ciriquant)\n",
    "\n",
    "    venn.diagram(\n",
    "        x = list(deseq_hits, ciriquant_hits),\n",
    "        category.names = c(\"DESeq2\", \"Ciriquant\"),\n",
    "        filename = file.path(directory, paste0(drug, \"_venn_circs.png\")),\n",
    "        output=TRUE,\n",
    "        imagetype=\"png\",\n",
    "        fill = c(alpha(\"#440154ff\",0.3), alpha('#21908dff',0.3)),\n",
    "        disable.logging = TRUE\n",
    "    )\n",
    "\n",
    "    circ_intersection <- intersect(deseq_hits, ciriquant_hits)\n",
    "    annotation_circ <- annotation[circ_intersection,]\n",
    "    annotation_circ <- annotation_circ[order(annotation_circ$gene),]\n",
    "    write.table(annotation_circ, file=file.path(directory, paste0(drug, \"_circ_intersection.tsv\")), sep=\"\\t\", quote=FALSE, row.names=TRUE, col.names=FALSE)\n",
    "    circ_union <- union(deseq_hits, ciriquant_hits)\n",
    "\n",
    "    deseq_genes <- unlist(strsplit(deseq$gene, \",\"))\n",
    "    deseq_genes <- deseq_genes[!is.na(deseq_genes)]\n",
    "\n",
    "    ciriquant_genes <- unlist(strsplit(ciriquant$gene, \",\"))\n",
    "    ciriquant_genes <- ciriquant_genes[!is.na(ciriquant_genes)]\n",
    "\n",
    "    venn.diagram(\n",
    "        x = list(deseq_genes, ciriquant_genes),\n",
    "        category.names = c(\"DESeq2\", \"Ciriquant\"),\n",
    "        filename = file.path(directory, paste0(drug, \"_venn_genes.png\")),\n",
    "        output=TRUE,\n",
    "        imagetype=\"png\",\n",
    "        fill = c(alpha(\"#440154ff\",0.3), alpha('#21908dff',0.3)),\n",
    "        disable.logging = TRUE\n",
    "    )\n",
    "\n",
    "    gene_intersection <- intersect(deseq_genes, ciriquant_genes)\n",
    "    annotation_gene <- annotation[circ_union,]\n",
    "    # Keep annotation entries where the \"gene\" column contains at least one of the genes in the intersection\n",
    "    annotation_gene <- annotation_gene[sapply(annotation_gene$gene, function(genes) any(strsplit(genes, \",\") %in% gene_intersection)),]\n",
    "    annotation_gene <- annotation_gene[order(annotation_gene$gene),]\n",
    "    write.table(annotation_gene, file=file.path(directory, paste0(drug, \"_gene_intersection.tsv\")), sep=\"\\t\", quote=FALSE, row.names=TRUE, col.names=FALSE)\n",
    "}"
   ]
  }
 ],
 "metadata": {
  "kernelspec": {
   "display_name": "R",
   "language": "R",
   "name": "ir"
  },
  "language_info": {
   "codemirror_mode": "r",
   "file_extension": ".r",
   "mimetype": "text/x-r-source",
   "name": "R",
   "pygments_lexer": "r",
   "version": "4.3.1"
  }
 },
 "nbformat": 4,
 "nbformat_minor": 2
}
