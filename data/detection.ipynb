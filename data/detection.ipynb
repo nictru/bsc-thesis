{
 "cells": [
  {
   "cell_type": "code",
   "execution_count": 2,
   "metadata": {},
   "outputs": [],
   "source": [
    "from tqdm import tqdm\n",
    "import polars as pl\n",
    "import pandas as pd\n",
    "import os\n",
    "import numpy as np\n",
    "import seaborn as sns\n",
    "import matplotlib.pyplot as plt\n",
    "from upsetplot import UpSet, from_memberships\n",
    "from itertools import combinations\n",
    "from typing import List, Dict\n",
    "import warnings\n",
    "import marsilea as ma\n",
    "from scipy.stats import gaussian_kde\n",
    "\n",
    "# Ignore future warnings\n",
    "warnings.simplefilter(action='ignore', category=FutureWarning)\n",
    "\n",
    "plt.rcParams['figure.dpi'] = 300"
   ]
  },
  {
   "cell_type": "code",
   "execution_count": 3,
   "metadata": {},
   "outputs": [
    {
     "data": {
      "text/plain": [
       "['find_circ', 'segemehl', 'dcc', 'circexplorer2', 'ciri2']"
      ]
     },
     "execution_count": 3,
     "metadata": {},
     "output_type": "execute_result"
    }
   ],
   "source": [
    "DETECTION_DIR = \"detection\"\n",
    "OUT_DIR = \"../chapters/4_results_and_discussion/figures/detection\"\n",
    "tools = [tool_csv[:-4] for tool_csv in os.listdir(DETECTION_DIR)]\n",
    "tools"
   ]
  },
  {
   "cell_type": "code",
   "execution_count": 4,
   "metadata": {},
   "outputs": [],
   "source": [
    "def parse_locstring(locstring: str):\n",
    "    chrom, coords, strand = locstring.split(\":\")\n",
    "    start, end = coords.split(\"-\")\n",
    "    return {\"chr\": chrom, \"start\": int(start), \"end\": int(end), \"strand\": strand}"
   ]
  },
  {
   "cell_type": "code",
   "execution_count": 5,
   "metadata": {},
   "outputs": [],
   "source": [
    "tool_dfs = [\n",
    "    pl.scan_csv(os.path.join(DETECTION_DIR, f\"{tool}.csv\"), separator='\\t')\n",
    "        .with_columns(tool=pl.lit(tool))\n",
    "    for tool in tools\n",
    "]\n",
    "\n",
    "samples = tool_dfs[0].drop(\"id\", \"tool\").collect_schema()\n",
    "\n",
    "tool_dfs = [df.select(\"id\", \"tool\", *samples).with_columns(**{sample: pl.col(sample).cast(int) for sample in samples}) for df in tool_dfs]\n",
    "\n",
    "df = pl.concat(tool_dfs)\n",
    "\n",
    "df = df.with_columns(\n",
    "    total_counts=pl.sum_horizontal(samples),\n",
    "    n_samples=pl.sum_horizontal(pl.col(samples).is_not_null()),\n",
    "    location=pl.col(\"id\").map_elements(parse_locstring, return_dtype=pl.Struct)\n",
    ")\n",
    "\n",
    "df = df.with_columns(\n",
    "    mean_counts=pl.col(\"total_counts\") / pl.col(\"n_samples\")\n",
    ")\n",
    "\n",
    "df = df.with_columns(\n",
    "    chr=pl.col(\"location\").map_elements(lambda x: x[\"chr\"], return_dtype=str),\n",
    "    start=pl.col(\"location\").map_elements(lambda x: x[\"start\"], return_dtype=int),\n",
    "    end=pl.col(\"location\").map_elements(lambda x: x[\"end\"], return_dtype=int),\n",
    "    strand=pl.col(\"location\").map_elements(lambda x: x[\"strand\"], return_dtype=str)\n",
    ")\n",
    "\n",
    "df = df.select(\"tool\", \"chr\", \"start\", \"end\", \"total_counts\", \"n_samples\", \"mean_counts\")"
   ]
  },
  {
   "cell_type": "code",
   "execution_count": 6,
   "metadata": {},
   "outputs": [],
   "source": [
    "tool_hits = df.group_by(\"tool\").len().rename({\"len\": \"n_bsjs\"})\n",
    "\n",
    "ax = sns.barplot(tool_hits.collect(), x=\"tool\", y=\"n_bsjs\")\n",
    "ax.bar_label(ax.containers[0])\n",
    "plt.ylabel(\"Number of BSJs detected\")\n",
    "plt.xlabel(\"Tool\")\n",
    "plt.title(\"Number of BSJs detected by each tool\")\n",
    "plt.savefig(os.path.join(OUT_DIR, \"n_bsjs_detected.png\"))\n",
    "plt.close()"
   ]
  },
  {
   "cell_type": "code",
   "execution_count": 7,
   "metadata": {},
   "outputs": [],
   "source": [
    "df = df.collect().lazy()"
   ]
  },
  {
   "cell_type": "code",
   "execution_count": 8,
   "metadata": {},
   "outputs": [],
   "source": [
    "def identify_shift_partners(df: pl.LazyFrame, max_shift: int = 0):\n",
    "    df = df.select(\"chr\", \"start\", \"end\", \"tool\")\n",
    "    df = df.group_by(\"chr\", \"start\", \"end\").agg(tools= pl.col(\"tool\").unique())\n",
    "\n",
    "    df = df.sort(\"chr\", \"end\"  ).with_columns(end_group  =pl.col(\"end\"  ).diff().fill_null(0).gt(max_shift).cum_sum())\n",
    "    df = df.sort(\"chr\", \"start\").with_columns(start_group=pl.col(\"start\").diff().fill_null(0).gt(max_shift).cum_sum())\n",
    "\n",
    "    df = df.join(df, on=[\"chr\", \"start_group\", \"end_group\"], how=\"inner\")\n",
    "    df = df.select(\"chr\", \"start\", \"end\", \"start_right\", \"end_right\", \"tools_right\")\n",
    "    df = df.filter((pl.col(\"start\") - pl.col(\"start_right\")).abs() <= max_shift)\n",
    "    df = df.filter((pl.col(\"end\") - pl.col(\"end_right\")).abs() <= max_shift)\n",
    "    df = df.group_by(\"chr\", \"start\", \"end\").agg(\n",
    "        tools = pl.col(\"tools_right\").flatten().unique()\n",
    "    ).sort(\"chr\", \"start\", \"end\")\n",
    "    df = df.with_columns(n_tools=pl.col(\"tools\").map_elements(lambda x: len(x), return_dtype=int))\n",
    "\n",
    "    return df"
   ]
  },
  {
   "cell_type": "code",
   "execution_count": 9,
   "metadata": {},
   "outputs": [
    {
     "name": "stderr",
     "output_type": "stream",
     "text": [
      "  0%|          | 0/9 [00:00<?, ?it/s]"
     ]
    },
    {
     "name": "stderr",
     "output_type": "stream",
     "text": [
      " 67%|██████▋   | 6/9 [01:16<00:51, 17.09s/it]"
     ]
    }
   ],
   "source": [
    "shift_df = {max_shift: identify_shift_partners(df, max_shift).collect() for max_shift in tqdm([0, 1, 2, 3, 4, 5, 10, 20, 50])}"
   ]
  },
  {
   "cell_type": "code",
   "execution_count": 14,
   "metadata": {},
   "outputs": [],
   "source": [
    "outdir = os.path.join(OUT_DIR, \"upset\")\n",
    "os.makedirs(outdir, exist_ok=True)\n",
    "\n",
    "for shift, df_shift in shift_df.items():\n",
    "    plotdata = from_memberships(df_shift[\"tools\"])\n",
    "\n",
    "    upset = UpSet(plotdata, subset_size=\"count\", min_degree=2, min_subset_size=10)\n",
    "    upset.plot()\n",
    "    # plt.title(f\"Max shift: {diff}, {\"considering\" if include_strand else \"ignoring\"} strand\", fontsize=16)\n",
    "\n",
    "    plt.savefig(os.path.join(outdir, f\"shift_{shift}.png\"))\n",
    "    plt.close()"
   ]
  },
  {
   "cell_type": "code",
   "execution_count": 29,
   "metadata": {},
   "outputs": [],
   "source": [
    "dfs = []\n",
    "for shift, df_shift in shift_df.items():\n",
    "    df_shift = df_shift.group_by(\"n_tools\").len().to_pandas()\n",
    "    df_shift = df_shift.sort_values(\"n_tools\")\n",
    "    df_shift.index = df_shift[\"n_tools\"]\n",
    "    df_shift = df_shift.drop(\"n_tools\", axis=1)\n",
    "    df_shift = df_shift.rename({\"len\": shift}, axis=1)\n",
    "    dfs.append(df_shift)\n",
    "\n",
    "df_agg = pd.concat(dfs, axis=1).fillna(0).T\n",
    "# Divide by row sum and multiply by 100 to get percentage\n",
    "df_agg = df_agg.div(df_agg.sum(axis=1), axis=0) * 100\n",
    "ax = df_agg.plot(kind='bar', stacked=True)\n",
    "# Set legend position to right\n",
    "ax.legend(loc='center left', bbox_to_anchor=(1, 0.5), title=\"Number of tools\")\n",
    "# Rotate x labels\n",
    "plt.xticks(rotation=0)\n",
    "plt.xlabel(\"Max. shift\")\n",
    "plt.ylabel(\"Percentage of BSJs\")\n",
    "plt.title(\"Influence of max. shift on tool agreement\", fontsize=16)\n",
    "plt.tight_layout()\n",
    "plt.savefig(os.path.join(OUT_DIR, \"shift_agreement.png\"))\n",
    "plt.close()"
   ]
  }
 ],
 "metadata": {
  "kernelspec": {
   "display_name": "thesis-plots",
   "language": "python",
   "name": "python3"
  },
  "language_info": {
   "codemirror_mode": {
    "name": "ipython",
    "version": 3
   },
   "file_extension": ".py",
   "mimetype": "text/x-python",
   "name": "python",
   "nbconvert_exporter": "python",
   "pygments_lexer": "ipython3",
   "version": "3.12.6"
  }
 },
 "nbformat": 4,
 "nbformat_minor": 2
}
