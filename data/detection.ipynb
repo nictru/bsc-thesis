{
 "cells": [
  {
   "cell_type": "code",
   "execution_count": 1,
   "metadata": {},
   "outputs": [
    {
     "name": "stderr",
     "output_type": "stream",
     "text": [
      "/nfs/home/students/n.trummer/.conda/envs/thesis/lib/python3.9/site-packages/tqdm/auto.py:21: TqdmWarning: IProgress not found. Please update jupyter and ipywidgets. See https://ipywidgets.readthedocs.io/en/stable/user_install.html\n",
      "  from .autonotebook import tqdm as notebook_tqdm\n"
     ]
    }
   ],
   "source": [
    "from collections import defaultdict\n",
    "from itertools import product\n",
    "\n",
    "from tqdm.contrib.itertools import product\n",
    "import polars as pl\n",
    "import pandas as pd\n",
    "import os\n",
    "import seaborn as sns\n",
    "import matplotlib.pyplot as plt\n",
    "from upsetplot import UpSet, from_memberships\n",
    "import warnings\n",
    "\n",
    "# Ignore future warnings\n",
    "warnings.simplefilter(action='ignore', category=FutureWarning)\n",
    "\n",
    "plt.rcParams['figure.dpi'] = 300\n",
    "sns.set_palette(\"colorblind\")\n",
    "# Set font size\n",
    "plt.rcParams.update({'font.size': 16})"
   ]
  },
  {
   "cell_type": "code",
   "execution_count": 2,
   "metadata": {},
   "outputs": [
    {
     "data": {
      "text/plain": [
       "['ciri2', 'circexplorer2', 'find_circ', 'dcc', 'segemehl']"
      ]
     },
     "execution_count": 2,
     "metadata": {},
     "output_type": "execute_result"
    }
   ],
   "source": [
    "DETECTION_DIR = \"detection\"\n",
    "QUANTIFICATION_DIR = \"quantification\"\n",
    "OUT_DIR = \"../chapters/4_results_and_discussion/figures/detection\"\n",
    "os.makedirs(OUT_DIR, exist_ok=True)\n",
    "tools = [tool_csv[:-4] for tool_csv in os.listdir(DETECTION_DIR)]\n",
    "tools"
   ]
  },
  {
   "cell_type": "code",
   "execution_count": 3,
   "metadata": {},
   "outputs": [],
   "source": [
    "def parse_locstring(locstring: str):\n",
    "    chrom, coords, strand = locstring.split(\":\")\n",
    "    start, end = coords.split(\"-\")\n",
    "    return {\"chr\": chrom, \"start\": int(start), \"end\": int(end), \"strand\": strand}"
   ]
  },
  {
   "cell_type": "code",
   "execution_count": 4,
   "metadata": {},
   "outputs": [],
   "source": [
    "tool_dfs = [\n",
    "    pl.scan_csv(os.path.join(DETECTION_DIR, f\"{tool}.csv\"), separator='\\t')\n",
    "        .with_columns(tool=pl.lit(tool))\n",
    "    for tool in tools\n",
    "]\n",
    "\n",
    "samples = tool_dfs[0].drop(\"id\", \"tool\").collect_schema()\n",
    "\n",
    "tool_dfs = [df.select(\"id\", \"tool\", *samples).with_columns(**{sample: pl.col(sample).cast(int) for sample in samples}) for df in tool_dfs]\n",
    "\n",
    "df = pl.concat(tool_dfs)\n",
    "\n",
    "df = df.with_columns(\n",
    "    total_counts=pl.sum_horizontal(samples),\n",
    "    n_samples=pl.sum_horizontal(pl.col(samples).is_not_null()),\n",
    "    location=pl.col(\"id\").map_elements(parse_locstring, return_dtype=pl.Struct)\n",
    ")\n",
    "\n",
    "df = df.with_columns(\n",
    "    mean_counts=pl.col(\"total_counts\") / pl.col(\"n_samples\")\n",
    ")\n",
    "\n",
    "df = df.with_columns(\n",
    "    chr=pl.col(\"location\").map_elements(lambda x: x[\"chr\"], return_dtype=str),\n",
    "    start=pl.col(\"location\").map_elements(lambda x: x[\"start\"], return_dtype=int),\n",
    "    end=pl.col(\"location\").map_elements(lambda x: x[\"end\"], return_dtype=int),\n",
    "    strand=pl.col(\"location\").map_elements(lambda x: x[\"strand\"], return_dtype=str)\n",
    ")\n",
    "\n",
    "df = df.select(\"tool\", \"chr\", \"start\", \"end\", \"strand\", \"total_counts\", \"n_samples\", \"mean_counts\")"
   ]
  },
  {
   "cell_type": "code",
   "execution_count": null,
   "metadata": {},
   "outputs": [],
   "source": [
    "df = df.with_columns(start=pl.when(pl.col(\"tool\").is_in([\"ciri2\", \"dcc\"])).then(pl.col(\"start\")-1).otherwise(pl.col(\"start\")))\n",
    "df = df.with_columns(strand=pl.when(pl.col(\"tool\").is_in([\"dcc\", \"segemehl\"])).then(pl.col(\"strand\").map_elements(lambda x: \"-\" if x == \"+\" else \"+\", return_dtype=str)).otherwise(pl.col(\"strand\")))"
   ]
  },
  {
   "cell_type": "code",
   "execution_count": 6,
   "metadata": {},
   "outputs": [],
   "source": [
    "tool_hits = df.group_by(\"tool\").len().rename({\"len\": \"n_bsjs\"}).sort(\"n_bsjs\")\n",
    "\n",
    "ax = sns.barplot(tool_hits.collect(), x=\"tool\", y=\"n_bsjs\")\n",
    "ax.bar_label(ax.containers[0])\n",
    "plt.ylabel(\"Number of BSJs detected\", fontsize=20)\n",
    "plt.xlabel(\"Tool\", fontsize=20)\n",
    "plt.title(\"Number of BSJs detected by each tool\", fontsize=25)\n",
    "# Increase width of plot\n",
    "plt.gcf().set_size_inches(10, 5)\n",
    "plt.ylim(0, 1.2e6)\n",
    "plt.tight_layout()\n",
    "plt.savefig(os.path.join(OUT_DIR, \"n_bsjs_detected.png\"))\n",
    "plt.close()"
   ]
  },
  {
   "cell_type": "code",
   "execution_count": 7,
   "metadata": {},
   "outputs": [],
   "source": [
    "df = df.collect().lazy()"
   ]
  },
  {
   "cell_type": "code",
   "execution_count": 8,
   "metadata": {},
   "outputs": [],
   "source": [
    "def identify_shift_partners(df: pl.LazyFrame, max_shift: int = 0, consider_strand = True):\n",
    "    df = df.select(\"chr\", \"start\", \"end\", \"strand\", \"tool\")\n",
    "    df = df.group_by(\"chr\", \"start\", \"end\", \"strand\").agg(tools= pl.col(\"tool\").unique())\n",
    "\n",
    "    df = df.sort(\"end\"  ).with_columns(end_group  =pl.col(\"end\"  ).diff().fill_null(0).gt(max_shift).cum_sum())\n",
    "    df = df.sort(\"start\").with_columns(start_group=pl.col(\"start\").diff().fill_null(0).gt(max_shift).cum_sum())\n",
    "\n",
    "    group_cols = [\"chr\", \"start_group\", \"end_group\"] + ([\"strand\"] if consider_strand else [])\n",
    "    df = df.join(df, on=group_cols, how=\"inner\")\n",
    "    df = df.select(\"chr\", \"start\", \"end\", \"strand\", \"start_right\", \"end_right\", \"tools_right\")\n",
    "    df = df.filter((pl.col(\"start\") - pl.col(\"start_right\")).abs() <= max_shift)\n",
    "    df = df.filter((pl.col(\"end\") - pl.col(\"end_right\")).abs() <= max_shift)\n",
    "    df = df.group_by(\"chr\", \"start\", \"end\", \"strand\").agg(\n",
    "        tools = pl.col(\"tools_right\").flatten().unique()\n",
    "    ).sort(\"chr\", \"start\", \"end\", \"strand\")\n",
    "    df = df.with_columns(n_tools=pl.col(\"tools\").map_elements(lambda x: len(x), return_dtype=int))\n",
    "    df = df.with_columns(shift=pl.lit(max_shift), consider_strand=pl.lit(consider_strand))\n",
    "\n",
    "    return df"
   ]
  },
  {
   "cell_type": "code",
   "execution_count": 9,
   "metadata": {},
   "outputs": [
    {
     "name": "stderr",
     "output_type": "stream",
     "text": [
      "  0%|          | 0/18 [00:00<?, ?it/s]"
     ]
    },
    {
     "name": "stderr",
     "output_type": "stream",
     "text": [
      "100%|██████████| 18/18 [12:12<00:00, 40.72s/it] \n"
     ]
    }
   ],
   "source": [
    "shift_stranded_df = defaultdict(dict)\n",
    "df_list = []\n",
    "\n",
    "for max_shift, consider_strand in product([0, 1, 2, 3, 4, 5, 10, 20, 50], [True, False]):\n",
    "    df_current = identify_shift_partners(df, max_shift, consider_strand).collect().lazy()\n",
    "    shift_stranded_df[max_shift][consider_strand] = df_current\n",
    "    df_list.append(df_current)"
   ]
  },
  {
   "cell_type": "code",
   "execution_count": 10,
   "metadata": {},
   "outputs": [],
   "source": [
    "outdir = os.path.join(OUT_DIR, \"upset\")\n",
    "os.makedirs(outdir, exist_ok=True)\n",
    "\n",
    "for shift, stranded_df in shift_stranded_df.items():\n",
    "    for stranded, df_current in stranded_df.items():\n",
    "        plotdata = from_memberships(df_current.collect()[\"tools\"])\n",
    "\n",
    "        upset = UpSet(plotdata, subset_size=\"count\", min_degree=2 if shift > 0 else None, min_subset_size=10)\n",
    "        upset.plot()\n",
    "\n",
    "        plt.savefig(os.path.join(outdir, f\"shift_{shift}_{'stranded' if stranded else 'unstranded'}.png\"))\n",
    "        plt.close()"
   ]
  },
  {
   "cell_type": "code",
   "execution_count": 11,
   "metadata": {},
   "outputs": [],
   "source": [
    "df_concat = pl.concat(df_list)\n",
    "df_concat = df_concat.group_by(\"shift\", \"consider_strand\", \"n_tools\").len()"
   ]
  },
  {
   "cell_type": "code",
   "execution_count": 12,
   "metadata": {},
   "outputs": [],
   "source": [
    "df_concat = df_concat.collect()\n",
    "df_stranded = pd.DataFrame(df_concat.filter(pl.col(\"consider_strand\")), columns=df_concat.columns)\n",
    "df_unstranded = pd.DataFrame(df_concat.filter(~pl.col(\"consider_strand\")), columns=df_concat.columns)"
   ]
  },
  {
   "cell_type": "code",
   "execution_count": 13,
   "metadata": {},
   "outputs": [],
   "source": [
    "def plot(df: pd.DataFrame):\n",
    "    ax = df.pivot(index=\"shift\", columns=\"n_tools\", values=\"len\").fillna(0).plot.bar(stacked=True)\n",
    "    plt.xlabel(\"Max shift\")\n",
    "    plt.ylabel(\"Number of BSJs\")\n",
    "    ax.set_ylim(0, 1.3e6)\n",
    "\n",
    "    plt.legend(title=\"Number of tools\", bbox_to_anchor=(1.05, 1), loc='upper left')"
   ]
  },
  {
   "cell_type": "code",
   "execution_count": 14,
   "metadata": {},
   "outputs": [],
   "source": [
    "plot(df_stranded)\n",
    "plt.title(\"Number of BSJs detected by multiple tools, considering strand\")\n",
    "plt.tight_layout()\n",
    "plt.savefig(os.path.join(OUT_DIR, \"shift_agreement_stranded.png\"))\n",
    "plt.close()"
   ]
  },
  {
   "cell_type": "code",
   "execution_count": 15,
   "metadata": {},
   "outputs": [],
   "source": [
    "plot(df_unstranded)\n",
    "plt.title(\"Number of BSJs detected by multiple tools, ignoring strand\")\n",
    "plt.tight_layout()\n",
    "plt.savefig(os.path.join(OUT_DIR, \"shift_agreement_unstranded.png\"))\n",
    "plt.close()"
   ]
  },
  {
   "cell_type": "code",
   "execution_count": 16,
   "metadata": {},
   "outputs": [],
   "source": [
    "selected_shift = 3\n",
    "selected_stranded = False\n",
    "min_tools = 4"
   ]
  },
  {
   "cell_type": "code",
   "execution_count": 17,
   "metadata": {},
   "outputs": [
    {
     "data": {
      "text/plain": [
       "33660"
      ]
     },
     "execution_count": 17,
     "metadata": {},
     "output_type": "execute_result"
    }
   ],
   "source": [
    "filtered = shift_stranded_df[selected_shift][selected_stranded].filter(pl.col(\"n_tools\") >= min_tools).collect().lazy()\n",
    "len(filtered.collect())"
   ]
  },
  {
   "cell_type": "code",
   "execution_count": 18,
   "metadata": {},
   "outputs": [
    {
     "name": "stderr",
     "output_type": "stream",
     "text": [
      "thread 'polars-8' panicked at /home/conda/feedstock_root/build_artifacts/polars_1736665968752/work/crates/polars-ops/src/chunked_array/gather/chunked.rs:172:22:\n",
      "infallible: ShapeMismatch(ErrString(\"expected struct fields to have given length. given = 41238, field length = 2.\"))\n",
      "note: run with `RUST_BACKTRACE=1` environment variable to display a backtrace\n",
      "thread 'polars-35' panicked at /home/conda/feedstock_root/build_artifacts/polars_1736665968752/work/crates/polars-ops/src/chunked_array/gather/chunked.rs:172:22:\n",
      "infallible: ShapeMismatch(ErrString(\"expected struct fields to have given length. given = 41238, field length = 3.\"))\n",
      "thread 'polars-5' panicked at /home/conda/feedstock_root/build_artifacts/polars_1736665968752/work/crates/polars-ops/src/chunked_array/gather/chunked.rs:172:22:\n",
      "infallible: ShapeMismatch(ErrString(\"expected struct fields to have given length. given = 41238, field length = 2.\"))\n",
      "thread 'polars-12' panicked at /home/conda/feedstock_root/build_artifacts/polars_1736665968752/work/crates/polars-ops/src/chunked_array/gather/chunked.rs:172:22:\n",
      "infallible: ShapeMismatch(ErrString(\"expected struct fields to have given length. given = 41238, field length = 2.\"))\n",
      "thread 'polars-19' panicked at /home/conda/feedstock_root/build_artifacts/polars_1736665968752/work/crates/polars-ops/src/chunked_array/gather/chunked.rs:172:22:\n",
      "infallible: ShapeMismatch(ErrString(\"expected struct fields to have given length. given = 41238, field length = 2.\"))\n",
      "thread 'polars-7' panicked at /home/conda/feedstock_root/build_artifacts/polars_1736665968752/work/crates/polars-ops/src/chunked_array/gather/chunked.rs:172:22:\n",
      "infallible: ShapeMismatch(ErrString(\"expected struct fields to have given length. given = 41238, field length = 2.\"))\n",
      "thread 'polars-106' panicked at /home/conda/feedstock_root/build_artifacts/polars_1736665968752/work/crates/polars-ops/src/chunked_array/gather/chunked.rs:172:22:\n",
      "infallible: ShapeMismatch(ErrString(\"expected struct fields to have given length. given = 41238, field length = 4.\"))\n",
      "thread 'polars-78' panicked at /home/conda/feedstock_root/build_artifacts/polars_1736665968752/work/crates/polars-ops/src/chunked_array/gather/chunked.rs:172:22:\n",
      "infallible: ShapeMismatch(ErrString(\"expected struct fields to have given length. given = 41238, field length = 4.\"))\n",
      "thread 'polars-34' panicked at /home/conda/feedstock_root/build_artifacts/polars_1736665968752/work/crates/polars-ops/src/chunked_array/gather/chunked.rs:172:22:\n",
      "infallible: ShapeMismatch(ErrString(\"expected struct fields to have given length. given = 41238, field length = 4.\"))\n",
      "thread 'polars-94' panicked at /home/conda/feedstock_root/build_artifacts/polars_1736665968752/work/crates/polars-ops/src/chunked_array/gather/chunked.rs:172:22:\n",
      "infallible: ShapeMismatch(ErrString(\"expected struct fields to have given length. given = 41238, field length = 5.\"))\n",
      "thread 'polars-45' panicked at /home/conda/feedstock_root/build_artifacts/polars_1736665968752/work/crates/polars-ops/src/chunked_array/gather/chunked.rs:172:22:\n",
      "infallible: ShapeMismatch(ErrString(\"expected struct fields to have given length. given = 41238, field length = 5.\"))\n",
      "thread 'polars-61' panicked at /home/conda/feedstock_root/build_artifacts/polars_1736665968752/work/crates/polars-ops/src/chunked_array/gather/chunked.rs:172:22:\n",
      "infallible: ShapeMismatch(ErrString(\"expected struct fields to have given length. given = 41238, field length = 4.\"))\n",
      "thread 'polars-10' panicked at /home/conda/feedstock_root/build_artifacts/polars_1736665968752/work/crates/polars-ops/src/chunked_array/gather/chunked.rs:172:22:\n",
      "infallible: ShapeMismatch(ErrString(\"expected struct fields to have given length. given = 41238, field length = 2.\"))\n",
      "thread 'polars-83' panicked at /home/conda/feedstock_root/build_artifacts/polars_1736665968752/work/crates/polars-ops/src/chunked_array/gather/chunked.rs:172:22:\n",
      "infallible: ShapeMismatch(ErrString(\"expected struct fields to have given length. given = 41238, field length = 2.\"))\n",
      "thread 'polars-115' panicked at /home/conda/feedstock_root/build_artifacts/polars_1736665968752/work/crates/polars-ops/src/chunked_array/gather/chunked.rs:172:22:\n",
      "infallible: ShapeMismatch(ErrString(\"expected struct fields to have given length. given = 41238, field length = 3.\"))\n",
      "thread 'polars-13' panicked at /home/conda/feedstock_root/build_artifacts/polars_1736665968752/work/crates/polars-ops/src/chunked_array/gather/chunked.rs:172:22:\n",
      "infallible: ShapeMismatch(ErrString(\"expected struct fields to have given length. given = 41238, field length = 0.\"))\n",
      "thread 'polars-37' panicked at /home/conda/feedstock_root/build_artifacts/polars_1736665968752/work/crates/polars-ops/src/chunked_array/gather/chunked.rs:172:22:\n",
      "infallible: ShapeMismatch(ErrString(\"expected struct fields to have given length. given = 41238, field length = 0.\"))\n",
      "thread 'polars-38' panicked at /home/conda/feedstock_root/build_artifacts/polars_1736665968752/work/crates/polars-ops/src/chunked_array/gather/chunked.rs:172:22:\n",
      "infallible: ShapeMismatch(ErrString(\"expected struct fields to have given length. given = 41238, field length = 5.\"))\n",
      "thread 'polars-18' panicked at /home/conda/feedstock_root/build_artifacts/polars_1736665968752/work/crates/polars-ops/src/chunked_array/gather/chunked.rs:172:22:\n",
      "infallible: ShapeMismatch(ErrString(\"expected struct fields to have given length. given = 41238, field length = 5.\"))\n",
      "thread 'polars-17' panicked at /home/conda/feedstock_root/build_artifacts/polars_1736665968752/work/crates/polars-ops/src/chunked_array/gather/chunked.rs:172:22:\n",
      "infallible: ShapeMismatch(ErrString(\"expected struct fields to have given length. given = 41238, field length = 0.\"))\n",
      "thread 'polars-120' panicked at /home/conda/feedstock_root/build_artifacts/polars_1736665968752/work/crates/polars-ops/src/chunked_array/gather/chunked.rs:172:22:\n",
      "infallible: ShapeMismatch(ErrString(\"expected struct fields to have given length. given = 41238, field length = 4.\"))\n",
      "thread 'polars-107' panicked at /home/conda/feedstock_root/build_artifacts/polars_1736665968752/work/crates/polars-ops/src/chunked_array/gather/chunked.rs:172:22:\n",
      "infallible: ShapeMismatch(ErrString(\"expected struct fields to have given length. given = 41238, field length = 5.\"))\n",
      "thread 'polars-4' panicked at /home/conda/feedstock_root/build_artifacts/polars_1736665968752/work/crates/polars-ops/src/chunked_array/gather/chunked.rs:172:22:\n",
      "infallible: ShapeMismatch(ErrString(\"expected struct fields to have given length. given = 41238, field length = 3.\"))\n",
      "thread 'polars-40' panicked at /home/conda/feedstock_root/build_artifacts/polars_1736665968752/work/crates/polars-ops/src/chunked_array/gather/chunked.rs:172:22:\n",
      "infallible: ShapeMismatch(ErrString(\"expected struct fields to have given length. given = 41238, field length = 4.\"))\n",
      "thread 'polars-3' panicked at /home/conda/feedstock_root/build_artifacts/polars_1736665968752/work/crates/polars-ops/src/chunked_array/gather/chunked.rs:172:22:\n",
      "infallible: ShapeMismatch(ErrString(\"expected struct fields to have given length. given = 41238, field length = 2.\"))\n",
      "thread 'polars-22' panicked at /home/conda/feedstock_root/build_artifacts/polars_1736665968752/work/crates/polars-ops/src/chunked_array/gather/chunked.rs:172:22:\n",
      "infallible: ShapeMismatch(ErrString(\"expected struct fields to have given length. given = 41238, field length = 3.\"))\n",
      "thread 'polars-57' panicked at /home/conda/feedstock_root/build_artifacts/polars_1736665968752/work/crates/polars-ops/src/chunked_array/gather/chunked.rs:172:22:\n",
      "infallible: ShapeMismatch(ErrString(\"expected struct fields to have given length. given = 41238, field length = 5.\"))\n",
      "thread 'polars-99' panicked at /home/conda/feedstock_root/build_artifacts/polars_1736665968752/work/crates/polars-ops/src/chunked_array/gather/chunked.rs:172:22:\n",
      "infallible: ShapeMismatch(ErrString(\"expected struct fields to have given length. given = 41238, field length = 0.\"))\n",
      "thread 'polars-117' panicked at /home/conda/feedstock_root/build_artifacts/polars_1736665968752/work/crates/polars-ops/src/chunked_array/gather/chunked.rs:172:22:\n",
      "infallible: ShapeMismatch(ErrString(\"expected struct fields to have given length. given = 41238, field length = 2.\"))\n",
      "thread 'polars-109' panicked at /home/conda/feedstock_root/build_artifacts/polars_1736665968752/work/crates/polars-ops/src/chunked_array/gather/chunked.rs:172:22:\n",
      "infallible: ShapeMismatch(ErrString(\"expected struct fields to have given length. given = 41238, field length = 2.\"))\n",
      "thread 'polars-123' panicked at /home/conda/feedstock_root/build_artifacts/polars_1736665968752/work/crates/polars-ops/src/chunked_array/gather/chunked.rs:172:22:\n",
      "infallible: ShapeMismatch(ErrString(\"expected struct fields to have given length. given = 41238, field length = 3.\"))\n",
      "thread 'polars-42' panicked at /home/conda/feedstock_root/build_artifacts/polars_1736665968752/work/crates/polars-ops/src/chunked_array/gather/chunked.rs:172:22:\n",
      "infallible: ShapeMismatch(ErrString(\"expected struct fields to have given length. given = 41238, field length = 3.\"))\n",
      "thread 'polars-101' panicked at /home/conda/feedstock_root/build_artifacts/polars_1736665968752/work/crates/polars-ops/src/chunked_array/gather/chunked.rs:172:22:\n",
      "infallible: ShapeMismatch(ErrString(\"expected struct fields to have given length. given = 41238, field length = 3.\"))\n",
      "thread 'polars-26' panicked at /home/conda/feedstock_root/build_artifacts/polars_1736665968752/work/crates/polars-ops/src/chunked_array/gather/chunked.rs:172:22:\n",
      "infallible: ShapeMismatch(ErrString(\"expected struct fields to have given length. given = 41238, field length = 0.\"))\n",
      "thread 'polars-70' panicked at /home/conda/feedstock_root/build_artifacts/polars_1736665968752/work/crates/polars-ops/src/chunked_array/gather/chunked.rs:172:22:\n",
      "infallible: ShapeMismatch(ErrString(\"expected struct fields to have given length. given = 41238, field length = 3.\"))\n",
      "thread 'polars-33' panicked at /home/conda/feedstock_root/build_artifacts/polars_1736665968752/work/crates/polars-ops/src/chunked_array/gather/chunked.rs:172:22:\n",
      "infallible: ShapeMismatch(ErrString(\"expected struct fields to have given length. given = 41238, field length = 3.\"))\n",
      "thread 'polars-65' panicked at /home/conda/feedstock_root/build_artifacts/polars_1736665968752/work/crates/polars-ops/src/chunked_array/gather/chunked.rs:172:22:\n",
      "infallible: ShapeMismatch(ErrString(\"expected struct fields to have given length. given = 41238, field length = 2.\"))\n",
      "thread 'polars-137' panicked at /home/conda/feedstock_root/build_artifacts/polars_1736665968752/work/crates/polars-ops/src/chunked_array/gather/chunked.rs:172:22:\n",
      "infallible: ShapeMismatch(ErrString(\"expected struct fields to have given length. given = 41238, field length = 3.\"))\n",
      "thread 'polars-71' panicked at /home/conda/feedstock_root/build_artifacts/polars_1736665968752/work/crates/polars-ops/src/chunked_array/gather/chunked.rs:172:22:\n",
      "infallible: ShapeMismatch(ErrString(\"expected struct fields to have given length. given = 41238, field length = 2.\"))\n",
      "thread 'polars-150' panicked at /home/conda/feedstock_root/build_artifacts/polars_1736665968752/work/crates/polars-ops/src/chunked_array/gather/chunked.rs:172:22:\n",
      "infallible: ShapeMismatch(ErrString(\"expected struct fields to have given length. given = 41238, field length = 2.\"))\n",
      "thread 'polars-141' panicked at /home/conda/feedstock_root/build_artifacts/polars_1736665968752/work/crates/polars-ops/src/chunked_array/gather/chunked.rs:172:22:\n",
      "infallible: ShapeMismatch(ErrString(\"expected struct fields to have given length. given = 41238, field length = 0.\"))\n",
      "thread 'polars-54' panicked at /home/conda/feedstock_root/build_artifacts/polars_1736665968752/work/crates/polars-ops/src/chunked_array/gather/chunked.rs:172:22:\n",
      "infallible: ShapeMismatch(ErrString(\"expected struct fields to have given length. given = 41238, field length = 5.\"))\n",
      "thread 'polars-149' panicked at /home/conda/feedstock_root/build_artifacts/polars_1736665968752/work/crates/polars-ops/src/chunked_array/gather/chunked.rs:172:22:\n",
      "infallible: ShapeMismatch(ErrString(\"expected struct fields to have given length. given = 41238, field length = 2.\"))\n",
      "thread 'polars-20' panicked at /home/conda/feedstock_root/build_artifacts/polars_1736665968752/work/crates/polars-ops/src/chunked_array/gather/chunked.rs:172:22:\n",
      "infallible: ShapeMismatch(ErrString(\"expected struct fields to have given length. given = 41238, field length = 0.\"))\n",
      "thread 'polars-126' panicked at /home/conda/feedstock_root/build_artifacts/polars_1736665968752/work/crates/polars-ops/src/chunked_array/gather/chunked.rs:172:22:\n",
      "infallible: ShapeMismatch(ErrString(\"expected struct fields to have given length. given = 41238, field length = 4.\"))\n",
      "thread 'polars-36' panicked at /home/conda/feedstock_root/build_artifacts/polars_1736665968752/work/crates/polars-ops/src/chunked_array/gather/chunked.rs:172:22:\n",
      "infallible: ShapeMismatch(ErrString(\"expected struct fields to have given length. given = 41238, field length = 2.\"))\n",
      "thread 'polars-102' panicked at /home/conda/feedstock_root/build_artifacts/polars_1736665968752/work/crates/polars-ops/src/chunked_array/gather/chunked.rs:172:22:\n",
      "infallible: ShapeMismatch(ErrString(\"expected struct fields to have given length. given = 41238, field length = 3.\"))\n",
      "thread 'polars-49' panicked at /home/conda/feedstock_root/build_artifacts/polars_1736665968752/work/crates/polars-ops/src/chunked_array/gather/chunked.rs:172:22:\n",
      "infallible: ShapeMismatch(ErrString(\"expected struct fields to have given length. given = 41238, field length = 0.\"))\n",
      "thread 'polars-59' panicked at /home/conda/feedstock_root/build_artifacts/polars_1736665968752/work/crates/polars-ops/src/chunked_array/gather/chunked.rs:172:22:\n",
      "infallible: ShapeMismatch(ErrString(\"expected struct fields to have given length. given = 41238, field length = 4.\"))\n",
      "thread 'polars-103' panicked at /home/conda/feedstock_root/build_artifacts/polars_1736665968752/work/crates/polars-ops/src/chunked_array/gather/chunked.rs:172:22:\n",
      "infallible: ShapeMismatch(ErrString(\"expected struct fields to have given length. given = 41238, field length = 3.\"))\n",
      "thread 'polars-144' panicked at /home/conda/feedstock_root/build_artifacts/polars_1736665968752/work/crates/polars-ops/src/chunked_array/gather/chunked.rs:172:22:\n",
      "infallible: ShapeMismatch(ErrString(\"expected struct fields to have given length. given = 41238, field length = 0.\"))\n",
      "thread 'polars-46' panicked at /home/conda/feedstock_root/build_artifacts/polars_1736665968752/work/crates/polars-ops/src/chunked_array/gather/chunked.rs:172:22:\n",
      "infallible: ShapeMismatch(ErrString(\"expected struct fields to have given length. given = 41238, field length = 5.\"))\n",
      "thread 'polars-90' panicked at /home/conda/feedstock_root/build_artifacts/polars_1736665968752/work/crates/polars-ops/src/chunked_array/gather/chunked.rs:172:22:\n",
      "infallible: ShapeMismatch(ErrString(\"expected struct fields to have given length. given = 41238, field length = 4.\"))\n",
      "thread 'polars-85' panicked at /home/conda/feedstock_root/build_artifacts/polars_1736665968752/work/crates/polars-ops/src/chunked_array/gather/chunked.rs:172:22:\n",
      "infallible: ShapeMismatch(ErrString(\"expected struct fields to have given length. given = 41238, field length = 0.\"))\n",
      "thread 'polars-96' panicked at /home/conda/feedstock_root/build_artifacts/polars_1736665968752/work/crates/polars-ops/src/chunked_array/gather/chunked.rs:172:22:\n",
      "infallible: ShapeMismatch(ErrString(\"expected struct fields to have given length. given = 41238, field length = 3.\"))\n",
      "thread 'polars-88' panicked at /home/conda/feedstock_root/build_artifacts/polars_1736665968752/work/crates/polars-ops/src/chunked_array/gather/chunked.rs:172:22:\n",
      "infallible: ShapeMismatch(ErrString(\"expected struct fields to have given length. given = 41238, field length = 3.\"))\n",
      "thread 'polars-97' panicked at /home/conda/feedstock_root/build_artifacts/polars_1736665968752/work/crates/polars-ops/src/chunked_array/gather/chunked.rs:172:22:\n",
      "infallible: ShapeMismatch(ErrString(\"expected struct fields to have given length. given = 41238, field length = 5.\"))\n",
      "thread 'polars-47' panicked at /home/conda/feedstock_root/build_artifacts/polars_1736665968752/work/crates/polars-ops/src/chunked_array/gather/chunked.rs:172:22:\n",
      "infallible: ShapeMismatch(ErrString(\"expected struct fields to have given length. given = 41238, field length = 4.\"))\n",
      "thread 'polars-114' panicked at /home/conda/feedstock_root/build_artifacts/polars_1736665968752/work/crates/polars-ops/src/chunked_array/gather/chunked.rs:172:22:\n",
      "infallible: ShapeMismatch(ErrString(\"expected struct fields to have given length. given = 41238, field length = 2.\"))\n",
      "thread 'polars-6' panicked at /home/conda/feedstock_root/build_artifacts/polars_1736665968752/work/crates/polars-ops/src/chunked_array/gather/chunked.rs:172:22:\n",
      "infallible: ShapeMismatch(ErrString(\"expected struct fields to have given length. given = 41238, field length = 2.\"))\n",
      "thread 'polars-87' panicked at /home/conda/feedstock_root/build_artifacts/polars_1736665968752/work/crates/polars-ops/src/chunked_array/gather/chunked.rs:172:22:\n",
      "infallible: ShapeMismatch(ErrString(\"expected struct fields to have given length. given = 41238, field length = 2.\"))\n",
      "thread 'polars-30' panicked at /home/conda/feedstock_root/build_artifacts/polars_1736665968752/work/crates/polars-ops/src/chunked_array/gather/chunked.rs:172:22:\n",
      "infallible: ShapeMismatch(ErrString(\"expected struct fields to have given length. given = 41238, field length = 2.\"))\n",
      "thread 'polars-64' panicked at /home/conda/feedstock_root/build_artifacts/polars_1736665968752/work/crates/polars-ops/src/chunked_array/gather/chunked.rs:172:22:\n",
      "infallible: ShapeMismatch(ErrString(\"expected struct fields to have given length. given = 41238, field length = 0.\"))\n",
      "thread 'polars-113' panicked at /home/conda/feedstock_root/build_artifacts/polars_1736665968752/work/crates/polars-ops/src/chunked_array/gather/chunked.rs:172:22:\n",
      "infallible: ShapeMismatch(ErrString(\"expected struct fields to have given length. given = 41238, field length = 3.\"))\n",
      "thread 'polars-76' panicked at /home/conda/feedstock_root/build_artifacts/polars_1736665968752/work/crates/polars-ops/src/chunked_array/gather/chunked.rs:172:22:\n",
      "infallible: ShapeMismatch(ErrString(\"expected struct fields to have given length. given = 41238, field length = 2.\"))\n",
      "thread 'polars-72' panicked at /home/conda/feedstock_root/build_artifacts/polars_1736665968752/work/crates/polars-ops/src/chunked_array/gather/chunked.rs:172:22:\n",
      "infallible: ShapeMismatch(ErrString(\"expected struct fields to have given length. given = 41238, field length = 3.\"))\n",
      "thread 'polars-125' panicked at /home/conda/feedstock_root/build_artifacts/polars_1736665968752/work/crates/polars-ops/src/chunked_array/gather/chunked.rs:172:22:\n",
      "infallible: ShapeMismatch(ErrString(\"expected struct fields to have given length. given = 41238, field length = 0.\"))\n",
      "thread 'polars-74' panicked at /home/conda/feedstock_root/build_artifacts/polars_1736665968752/work/crates/polars-ops/src/chunked_array/gather/chunked.rs:172:22:\n",
      "infallible: ShapeMismatch(ErrString(\"expected struct fields to have given length. given = 41238, field length = 4.\"))\n",
      "thread 'polars-89' panicked at /home/conda/feedstock_root/build_artifacts/polars_1736665968752/work/crates/polars-ops/src/chunked_array/gather/chunked.rs:172:22:\n",
      "infallible: ShapeMismatch(ErrString(\"expected struct fields to have given length. given = 41238, field length = 2.\"))\n",
      "thread 'polars-127' panicked at /home/conda/feedstock_root/build_artifacts/polars_1736665968752/work/crates/polars-ops/src/chunked_array/gather/chunked.rs:172:22:\n",
      "infallible: ShapeMismatch(ErrString(\"expected struct fields to have given length. given = 41238, field length = 4.\"))\n",
      "thread 'polars-131' panicked at /home/conda/feedstock_root/build_artifacts/polars_1736665968752/work/crates/polars-ops/src/chunked_array/gather/chunked.rs:172:22:\n",
      "infallible: ShapeMismatch(ErrString(\"expected struct fields to have given length. given = 41238, field length = 4.\"))\n",
      "thread 'polars-58' panicked at /home/conda/feedstock_root/build_artifacts/polars_1736665968752/work/crates/polars-ops/src/chunked_array/gather/chunked.rs:172:22:\n",
      "infallible: ShapeMismatch(ErrString(\"expected struct fields to have given length. given = 41238, field length = 0.\"))\n",
      "thread 'polars-79' panicked at /home/conda/feedstock_root/build_artifacts/polars_1736665968752/work/crates/polars-ops/src/chunked_array/gather/chunked.rs:172:22:\n",
      "infallible: ShapeMismatch(ErrString(\"expected struct fields to have given length. given = 41238, field length = 2.\"))\n",
      "thread 'polars-142' panicked at /home/conda/feedstock_root/build_artifacts/polars_1736665968752/work/crates/polars-ops/src/chunked_array/gather/chunked.rs:172:22:\n",
      "infallible: ShapeMismatch(ErrString(\"expected struct fields to have given length. given = 41238, field length = 0.\"))\n",
      "thread 'polars-62' panicked at /home/conda/feedstock_root/build_artifacts/polars_1736665968752/work/crates/polars-ops/src/chunked_array/gather/chunked.rs:172:22:\n",
      "infallible: ShapeMismatch(ErrString(\"expected struct fields to have given length. given = 41238, field length = 0.\"))\n",
      "thread 'polars-75' panicked at /home/conda/feedstock_root/build_artifacts/polars_1736665968752/work/crates/polars-ops/src/chunked_array/gather/chunked.rs:172:22:\n",
      "infallible: ShapeMismatch(ErrString(\"expected struct fields to have given length. given = 41238, field length = 2.\"))\n",
      "thread 'polars-153' panicked at /home/conda/feedstock_root/build_artifacts/polars_1736665968752/work/crates/polars-ops/src/chunked_array/gather/chunked.rs:172:22:\n",
      "infallible: ShapeMismatch(ErrString(\"expected struct fields to have given length. given = 41238, field length = 3.\"))\n",
      "thread 'polars-138' panicked at /home/conda/feedstock_root/build_artifacts/polars_1736665968752/work/crates/polars-ops/src/chunked_array/gather/chunked.rs:172:22:\n",
      "infallible: ShapeMismatch(ErrString(\"expected struct fields to have given length. given = 41238, field length = 3.\"))\n",
      "thread 'polars-60' panicked at /home/conda/feedstock_root/build_artifacts/polars_1736665968752/work/crates/polars-ops/src/chunked_array/gather/chunked.rs:172:22:\n",
      "infallible: ShapeMismatch(ErrString(\"expected struct fields to have given length. given = 41238, field length = 2.\"))\n",
      "thread 'polars-122' panicked at /home/conda/feedstock_root/build_artifacts/polars_1736665968752/work/crates/polars-ops/src/chunked_array/gather/chunked.rs:172:22:\n",
      "infallible: ShapeMismatch(ErrString(\"expected struct fields to have given length. given = 41238, field length = 2.\"))\n",
      "thread 'polars-111' panicked at /home/conda/feedstock_root/build_artifacts/polars_1736665968752/work/crates/polars-ops/src/chunked_array/gather/chunked.rs:172:22:\n",
      "infallible: ShapeMismatch(ErrString(\"expected struct fields to have given length. given = 41238, field length = 4.\"))\n",
      "thread 'polars-15' panicked at /home/conda/feedstock_root/build_artifacts/polars_1736665968752/work/crates/polars-ops/src/chunked_array/gather/chunked.rs:172:22:\n",
      "infallible: ShapeMismatch(ErrString(\"expected struct fields to have given length. given = 41238, field length = 3.\"))\n",
      "thread 'polars-29' panicked at /home/conda/feedstock_root/build_artifacts/polars_1736665968752/work/crates/polars-ops/src/chunked_array/gather/chunked.rs:172:22:\n",
      "infallible: ShapeMismatch(ErrString(\"expected struct fields to have given length. given = 41238, field length = 5.\"))\n",
      "thread 'polars-136' panicked at /home/conda/feedstock_root/build_artifacts/polars_1736665968752/work/crates/polars-ops/src/chunked_array/gather/chunked.rs:172:22:\n",
      "infallible: ShapeMismatch(ErrString(\"expected struct fields to have given length. given = 41238, field length = 0.\"))\n",
      "thread 'polars-23' panicked at /home/conda/feedstock_root/build_artifacts/polars_1736665968752/work/crates/polars-ops/src/chunked_array/gather/chunked.rs:172:22:\n",
      "infallible: ShapeMismatch(ErrString(\"expected struct fields to have given length. given = 41238, field length = 0.\"))\n",
      "thread 'polars-132' panicked at /home/conda/feedstock_root/build_artifacts/polars_1736665968752/work/crates/polars-ops/src/chunked_array/gather/chunked.rs:172:22:\n",
      "infallible: ShapeMismatch(ErrString(\"expected struct fields to have given length. given = 41238, field length = 0.\"))\n",
      "thread 'polars-116' panicked at /home/conda/feedstock_root/build_artifacts/polars_1736665968752/work/crates/polars-ops/src/chunked_array/gather/chunked.rs:172:22:\n",
      "infallible: ShapeMismatch(ErrString(\"expected struct fields to have given length. given = 41238, field length = 4.\"))\n",
      "thread 'polars-77' panicked at /home/conda/feedstock_root/build_artifacts/polars_1736665968752/work/crates/polars-ops/src/chunked_array/gather/chunked.rs:172:22:\n",
      "infallible: ShapeMismatch(ErrString(\"expected struct fields to have given length. given = 41238, field length = 2.\"))\n",
      "thread 'polars-133' panicked at /home/conda/feedstock_root/build_artifacts/polars_1736665968752/work/crates/polars-ops/src/chunked_array/gather/chunked.rs:172:22:\n",
      "infallible: ShapeMismatch(ErrString(\"expected struct fields to have given length. given = 41238, field length = 4.\"))\n",
      "thread 'polars-39' panicked at /home/conda/feedstock_root/build_artifacts/polars_1736665968752/work/crates/polars-ops/src/chunked_array/gather/chunked.rs:172:22:\n",
      "infallible: ShapeMismatch(ErrString(\"expected struct fields to have given length. given = 41238, field length = 2.\"))\n",
      "thread 'polars-129' panicked at /home/conda/feedstock_root/build_artifacts/polars_1736665968752/work/crates/polars-ops/src/chunked_array/gather/chunked.rs:172:22:\n",
      "infallible: ShapeMismatch(ErrString(\"expected struct fields to have given length. given = 41238, field length = 2.\"))\n",
      "thread 'polars-68' panicked at /home/conda/feedstock_root/build_artifacts/polars_1736665968752/work/crates/polars-ops/src/chunked_array/gather/chunked.rs:172:22:\n",
      "infallible: ShapeMismatch(ErrString(\"expected struct fields to have given length. given = 41238, field length = 3.\"))\n",
      "thread 'polars-81' panicked at /home/conda/feedstock_root/build_artifacts/polars_1736665968752/work/crates/polars-ops/src/chunked_array/gather/chunked.rs:172:22:\n",
      "infallible: ShapeMismatch(ErrString(\"expected struct fields to have given length. given = 41238, field length = 0.\"))\n",
      "thread 'polars-135' panicked at /home/conda/feedstock_root/build_artifacts/polars_1736665968752/work/crates/polars-ops/src/chunked_array/gather/chunked.rs:172:22:\n",
      "infallible: ShapeMismatch(ErrString(\"expected struct fields to have given length. given = 41238, field length = 3.\"))\n",
      "thread 'polars-159' panicked at /home/conda/feedstock_root/build_artifacts/polars_1736665968752/work/crates/polars-ops/src/chunked_array/gather/chunked.rs:172:22:\n",
      "infallible: ShapeMismatch(ErrString(\"expected struct fields to have given length. given = 41238, field length = 3.\"))\n",
      "thread 'polars-0' panicked at /home/conda/feedstock_root/build_artifacts/polars_1736665968752/work/crates/polars-ops/src/chunked_array/gather/chunked.rs:172:22:\n",
      "infallible: ShapeMismatch(ErrString(\"expected struct fields to have given length. given = 41238, field length = 0.\"))\n",
      "thread 'polars-110' panicked at /home/conda/feedstock_root/build_artifacts/polars_1736665968752/work/crates/polars-ops/src/chunked_array/gather/chunked.rs:172:22:\n",
      "infallible: ShapeMismatch(ErrString(\"expected struct fields to have given length. given = 41238, field length = 2.\"))\n",
      "thread 'polars-52' panicked at /home/conda/feedstock_root/build_artifacts/polars_1736665968752/work/crates/polars-ops/src/chunked_array/gather/chunked.rs:172:22:\n",
      "infallible: ShapeMismatch(ErrString(\"expected struct fields to have given length. given = 41238, field length = 2.\"))\n",
      "thread 'polars-152' panicked at /home/conda/feedstock_root/build_artifacts/polars_1736665968752/work/crates/polars-ops/src/chunked_array/gather/chunked.rs:172:22:\n",
      "infallible: ShapeMismatch(ErrString(\"expected struct fields to have given length. given = 41238, field length = 2.\"))\n",
      "thread 'polars-155' panicked at /home/conda/feedstock_root/build_artifacts/polars_1736665968752/work/crates/polars-ops/src/chunked_array/gather/chunked.rs:172:22:\n",
      "infallible: ShapeMismatch(ErrString(\"expected struct fields to have given length. given = 41238, field length = 2.\"))\n",
      "thread 'polars-151' panicked at /home/conda/feedstock_root/build_artifacts/polars_1736665968752/work/crates/polars-ops/src/chunked_array/gather/chunked.rs:172:22:\n",
      "infallible: ShapeMismatch(ErrString(\"expected struct fields to have given length. given = 41238, field length = 4.\"))\n",
      "thread 'polars-146' panicked at /home/conda/feedstock_root/build_artifacts/polars_1736665968752/work/crates/polars-ops/src/chunked_array/gather/chunked.rs:172:22:\n",
      "infallible: ShapeMismatch(ErrString(\"expected struct fields to have given length. given = 41238, field length = 3.\"))\n",
      "thread 'polars-145' panicked at /home/conda/feedstock_root/build_artifacts/polars_1736665968752/work/crates/polars-ops/src/chunked_array/gather/chunked.rs:172:22:\n",
      "infallible: ShapeMismatch(ErrString(\"expected struct fields to have given length. given = 41238, field length = 2.\"))\n",
      "thread 'polars-53' panicked at /home/conda/feedstock_root/build_artifacts/polars_1736665968752/work/crates/polars-ops/src/chunked_array/gather/chunked.rs:172:22:\n",
      "infallible: ShapeMismatch(ErrString(\"expected struct fields to have given length. given = 41238, field length = 4.\"))\n",
      "thread 'polars-80' panicked at /home/conda/feedstock_root/build_artifacts/polars_1736665968752/work/crates/polars-ops/src/chunked_array/gather/chunked.rs:172:22:\n",
      "infallible: ShapeMismatch(ErrString(\"expected struct fields to have given length. given = 41238, field length = 0.\"))\n",
      "thread 'polars-9' panicked at /home/conda/feedstock_root/build_artifacts/polars_1736665968752/work/crates/polars-ops/src/chunked_array/gather/chunked.rs:172:22:\n",
      "infallible: ShapeMismatch(ErrString(\"expected struct fields to have given length. given = 41238, field length = 3.\"))\n",
      "thread 'polars-112' panicked at /home/conda/feedstock_root/build_artifacts/polars_1736665968752/work/crates/polars-ops/src/chunked_array/gather/chunked.rs:172:22:\n",
      "infallible: ShapeMismatch(ErrString(\"expected struct fields to have given length. given = 41238, field length = 2.\"))\n",
      "thread 'polars-56' panicked at /home/conda/feedstock_root/build_artifacts/polars_1736665968752/work/crates/polars-ops/src/chunked_array/gather/chunked.rs:172:22:\n",
      "infallible: ShapeMismatch(ErrString(\"expected struct fields to have given length. given = 41238, field length = 5.\"))\n",
      "thread 'polars-44' panicked at /home/conda/feedstock_root/build_artifacts/polars_1736665968752/work/crates/polars-ops/src/chunked_array/gather/chunked.rs:172:22:\n",
      "infallible: ShapeMismatch(ErrString(\"expected struct fields to have given length. given = 41238, field length = 0.\"))\n",
      "thread 'polars-108' panicked at /home/conda/feedstock_root/build_artifacts/polars_1736665968752/work/crates/polars-ops/src/chunked_array/gather/chunked.rs:172:22:\n",
      "infallible: ShapeMismatch(ErrString(\"expected struct fields to have given length. given = 41238, field length = 3.\"))\n",
      "thread 'polars-134' panicked at /home/conda/feedstock_root/build_artifacts/polars_1736665968752/work/crates/polars-ops/src/chunked_array/gather/chunked.rs:172:22:\n",
      "infallible: ShapeMismatch(ErrString(\"expected struct fields to have given length. given = 41238, field length = 3.\"))\n",
      "thread 'polars-67' panicked at /home/conda/feedstock_root/build_artifacts/polars_1736665968752/work/crates/polars-ops/src/chunked_array/gather/chunked.rs:172:22:\n",
      "infallible: ShapeMismatch(ErrString(\"expected struct fields to have given length. given = 41238, field length = 2.\"))\n",
      "thread 'polars-93' panicked at /home/conda/feedstock_root/build_artifacts/polars_1736665968752/work/crates/polars-ops/src/chunked_array/gather/chunked.rs:172:22:\n",
      "infallible: ShapeMismatch(ErrString(\"expected struct fields to have given length. given = 41238, field length = 4.\"))\n",
      "thread 'polars-95' panicked at /home/conda/feedstock_root/build_artifacts/polars_1736665968752/work/crates/polars-ops/src/chunked_array/gather/chunked.rs:172:22:\n",
      "infallible: ShapeMismatch(ErrString(\"expected struct fields to have given length. given = 41238, field length = 0.\"))\n"
     ]
    },
    {
     "ename": "PanicException",
     "evalue": "infallible: ShapeMismatch(ErrString(\"expected struct fields to have given length. given = 41238, field length = 3.\"))",
     "output_type": "error",
     "traceback": [
      "\u001b[0;31m---------------------------------------------------------------------------\u001b[0m",
      "\u001b[0;31mPanicException\u001b[0m                            Traceback (most recent call last)",
      "Cell \u001b[0;32mIn[18], line 22\u001b[0m\n\u001b[1;32m     20\u001b[0m df_tool \u001b[38;5;241m=\u001b[39m df_tool\u001b[38;5;241m.\u001b[39mwith_columns(gene_id\u001b[38;5;241m=\u001b[39m\u001b[38;5;28;01mNone\u001b[39;00m)\n\u001b[1;32m     21\u001b[0m df_tool \u001b[38;5;241m=\u001b[39m df_tool\u001b[38;5;241m.\u001b[39mselect(\u001b[38;5;124m\"\u001b[39m\u001b[38;5;124mcirc_id\u001b[39m\u001b[38;5;124m\"\u001b[39m, \u001b[38;5;124m\"\u001b[39m\u001b[38;5;124mgene_id\u001b[39m\u001b[38;5;124m\"\u001b[39m, \u001b[38;5;241m*\u001b[39msamples)\n\u001b[0;32m---> 22\u001b[0m \u001b[43mdf_tool\u001b[49m\u001b[38;5;241;43m.\u001b[39;49m\u001b[43msink_csv\u001b[49m\u001b[43m(\u001b[49m\u001b[43mos\u001b[49m\u001b[38;5;241;43m.\u001b[39;49m\u001b[43mpath\u001b[49m\u001b[38;5;241;43m.\u001b[39;49m\u001b[43mjoin\u001b[49m\u001b[43m(\u001b[49m\u001b[43mQUANTIFICATION_DIR\u001b[49m\u001b[43m,\u001b[49m\u001b[43m \u001b[49m\u001b[38;5;124;43mf\u001b[39;49m\u001b[38;5;124;43m\"\u001b[39;49m\u001b[38;5;132;43;01m{\u001b[39;49;00m\u001b[43mtool\u001b[49m\u001b[38;5;132;43;01m}\u001b[39;49;00m\u001b[38;5;124;43m.tsv\u001b[39;49m\u001b[38;5;124;43m\"\u001b[39;49m\u001b[43m)\u001b[49m\u001b[43m,\u001b[49m\u001b[43m \u001b[49m\u001b[43minclude_header\u001b[49m\u001b[38;5;241;43m=\u001b[39;49m\u001b[38;5;28;43;01mTrue\u001b[39;49;00m\u001b[43m,\u001b[49m\u001b[43m \u001b[49m\u001b[43mseparator\u001b[49m\u001b[38;5;241;43m=\u001b[39;49m\u001b[38;5;124;43m'\u001b[39;49m\u001b[38;5;130;43;01m\\t\u001b[39;49;00m\u001b[38;5;124;43m'\u001b[39;49m\u001b[43m)\u001b[49m\n",
      "File \u001b[0;32m~/.conda/envs/thesis/lib/python3.9/site-packages/polars/_utils/unstable.py:58\u001b[0m, in \u001b[0;36munstable.<locals>.decorate.<locals>.wrapper\u001b[0;34m(*args, **kwargs)\u001b[0m\n\u001b[1;32m     55\u001b[0m \u001b[38;5;129m@wraps\u001b[39m(function)\n\u001b[1;32m     56\u001b[0m \u001b[38;5;28;01mdef\u001b[39;00m\u001b[38;5;250m \u001b[39m\u001b[38;5;21mwrapper\u001b[39m(\u001b[38;5;241m*\u001b[39margs: P\u001b[38;5;241m.\u001b[39margs, \u001b[38;5;241m*\u001b[39m\u001b[38;5;241m*\u001b[39mkwargs: P\u001b[38;5;241m.\u001b[39mkwargs) \u001b[38;5;241m-\u001b[39m\u001b[38;5;241m>\u001b[39m T:\n\u001b[1;32m     57\u001b[0m     issue_unstable_warning(\u001b[38;5;124mf\u001b[39m\u001b[38;5;124m\"\u001b[39m\u001b[38;5;124m`\u001b[39m\u001b[38;5;132;01m{\u001b[39;00mfunction\u001b[38;5;241m.\u001b[39m\u001b[38;5;18m__name__\u001b[39m\u001b[38;5;132;01m}\u001b[39;00m\u001b[38;5;124m` is considered unstable.\u001b[39m\u001b[38;5;124m\"\u001b[39m)\n\u001b[0;32m---> 58\u001b[0m     \u001b[38;5;28;01mreturn\u001b[39;00m \u001b[43mfunction\u001b[49m\u001b[43m(\u001b[49m\u001b[38;5;241;43m*\u001b[39;49m\u001b[43margs\u001b[49m\u001b[43m,\u001b[49m\u001b[43m \u001b[49m\u001b[38;5;241;43m*\u001b[39;49m\u001b[38;5;241;43m*\u001b[39;49m\u001b[43mkwargs\u001b[49m\u001b[43m)\u001b[49m\n",
      "File \u001b[0;32m~/.conda/envs/thesis/lib/python3.9/site-packages/polars/lazyframe/frame.py:2716\u001b[0m, in \u001b[0;36mLazyFrame.sink_csv\u001b[0;34m(self, path, include_bom, include_header, separator, line_terminator, quote_char, batch_size, datetime_format, date_format, time_format, float_scientific, float_precision, null_value, quote_style, maintain_order, type_coercion, predicate_pushdown, projection_pushdown, simplify_expression, slice_pushdown, collapse_joins, no_optimization, storage_options, credential_provider, retries)\u001b[0m\n\u001b[1;32m   2712\u001b[0m \u001b[38;5;28;01melse\u001b[39;00m:\n\u001b[1;32m   2713\u001b[0m     \u001b[38;5;66;03m# Handle empty dict input\u001b[39;00m\n\u001b[1;32m   2714\u001b[0m     storage_options \u001b[38;5;241m=\u001b[39m \u001b[38;5;28;01mNone\u001b[39;00m\n\u001b[0;32m-> 2716\u001b[0m \u001b[38;5;28;01mreturn\u001b[39;00m \u001b[43mlf\u001b[49m\u001b[38;5;241;43m.\u001b[39;49m\u001b[43msink_csv\u001b[49m\u001b[43m(\u001b[49m\n\u001b[1;32m   2717\u001b[0m \u001b[43m    \u001b[49m\u001b[43mpath\u001b[49m\u001b[38;5;241;43m=\u001b[39;49m\u001b[43mnormalize_filepath\u001b[49m\u001b[43m(\u001b[49m\u001b[43mpath\u001b[49m\u001b[43m)\u001b[49m\u001b[43m,\u001b[49m\n\u001b[1;32m   2718\u001b[0m \u001b[43m    \u001b[49m\u001b[43minclude_bom\u001b[49m\u001b[38;5;241;43m=\u001b[39;49m\u001b[43minclude_bom\u001b[49m\u001b[43m,\u001b[49m\n\u001b[1;32m   2719\u001b[0m \u001b[43m    \u001b[49m\u001b[43minclude_header\u001b[49m\u001b[38;5;241;43m=\u001b[39;49m\u001b[43minclude_header\u001b[49m\u001b[43m,\u001b[49m\n\u001b[1;32m   2720\u001b[0m \u001b[43m    \u001b[49m\u001b[43mseparator\u001b[49m\u001b[38;5;241;43m=\u001b[39;49m\u001b[38;5;28;43mord\u001b[39;49m\u001b[43m(\u001b[49m\u001b[43mseparator\u001b[49m\u001b[43m)\u001b[49m\u001b[43m,\u001b[49m\n\u001b[1;32m   2721\u001b[0m \u001b[43m    \u001b[49m\u001b[43mline_terminator\u001b[49m\u001b[38;5;241;43m=\u001b[39;49m\u001b[43mline_terminator\u001b[49m\u001b[43m,\u001b[49m\n\u001b[1;32m   2722\u001b[0m \u001b[43m    \u001b[49m\u001b[43mquote_char\u001b[49m\u001b[38;5;241;43m=\u001b[39;49m\u001b[38;5;28;43mord\u001b[39;49m\u001b[43m(\u001b[49m\u001b[43mquote_char\u001b[49m\u001b[43m)\u001b[49m\u001b[43m,\u001b[49m\n\u001b[1;32m   2723\u001b[0m \u001b[43m    \u001b[49m\u001b[43mbatch_size\u001b[49m\u001b[38;5;241;43m=\u001b[39;49m\u001b[43mbatch_size\u001b[49m\u001b[43m,\u001b[49m\n\u001b[1;32m   2724\u001b[0m \u001b[43m    \u001b[49m\u001b[43mdatetime_format\u001b[49m\u001b[38;5;241;43m=\u001b[39;49m\u001b[43mdatetime_format\u001b[49m\u001b[43m,\u001b[49m\n\u001b[1;32m   2725\u001b[0m \u001b[43m    \u001b[49m\u001b[43mdate_format\u001b[49m\u001b[38;5;241;43m=\u001b[39;49m\u001b[43mdate_format\u001b[49m\u001b[43m,\u001b[49m\n\u001b[1;32m   2726\u001b[0m \u001b[43m    \u001b[49m\u001b[43mtime_format\u001b[49m\u001b[38;5;241;43m=\u001b[39;49m\u001b[43mtime_format\u001b[49m\u001b[43m,\u001b[49m\n\u001b[1;32m   2727\u001b[0m \u001b[43m    \u001b[49m\u001b[43mfloat_scientific\u001b[49m\u001b[38;5;241;43m=\u001b[39;49m\u001b[43mfloat_scientific\u001b[49m\u001b[43m,\u001b[49m\n\u001b[1;32m   2728\u001b[0m \u001b[43m    \u001b[49m\u001b[43mfloat_precision\u001b[49m\u001b[38;5;241;43m=\u001b[39;49m\u001b[43mfloat_precision\u001b[49m\u001b[43m,\u001b[49m\n\u001b[1;32m   2729\u001b[0m \u001b[43m    \u001b[49m\u001b[43mnull_value\u001b[49m\u001b[38;5;241;43m=\u001b[39;49m\u001b[43mnull_value\u001b[49m\u001b[43m,\u001b[49m\n\u001b[1;32m   2730\u001b[0m \u001b[43m    \u001b[49m\u001b[43mquote_style\u001b[49m\u001b[38;5;241;43m=\u001b[39;49m\u001b[43mquote_style\u001b[49m\u001b[43m,\u001b[49m\n\u001b[1;32m   2731\u001b[0m \u001b[43m    \u001b[49m\u001b[43mmaintain_order\u001b[49m\u001b[38;5;241;43m=\u001b[39;49m\u001b[43mmaintain_order\u001b[49m\u001b[43m,\u001b[49m\n\u001b[1;32m   2732\u001b[0m \u001b[43m    \u001b[49m\u001b[43mcloud_options\u001b[49m\u001b[38;5;241;43m=\u001b[39;49m\u001b[43mstorage_options\u001b[49m\u001b[43m,\u001b[49m\n\u001b[1;32m   2733\u001b[0m \u001b[43m    \u001b[49m\u001b[43mcredential_provider\u001b[49m\u001b[38;5;241;43m=\u001b[39;49m\u001b[43mcredential_provider\u001b[49m\u001b[43m,\u001b[49m\n\u001b[1;32m   2734\u001b[0m \u001b[43m    \u001b[49m\u001b[43mretries\u001b[49m\u001b[38;5;241;43m=\u001b[39;49m\u001b[43mretries\u001b[49m\u001b[43m,\u001b[49m\n\u001b[1;32m   2735\u001b[0m \u001b[43m\u001b[49m\u001b[43m)\u001b[49m\n",
      "\u001b[0;31mPanicException\u001b[0m: infallible: ShapeMismatch(ErrString(\"expected struct fields to have given length. given = 41238, field length = 3.\"))"
     ]
    }
   ],
   "source": [
    "for tool in tools:\n",
    "    df_tool = pl.scan_csv(os.path.join(DETECTION_DIR, f\"{tool}.csv\"), separator='\\t')\n",
    "\n",
    "    df_tool = df_tool.select(\"id\", *samples)\n",
    "    df_tool = df_tool.with_columns(**{sample: pl.col(sample).cast(int) for sample in samples})\n",
    "\n",
    "    df_tool = df_tool.with_columns(\n",
    "        location=pl.col(\"id\").map_elements(parse_locstring, return_dtype=pl.Struct)\n",
    "    )\n",
    "\n",
    "    df_tool = df_tool.with_columns(\n",
    "        chr=pl.col(\"location\").map_elements(lambda x: x[\"chr\"], return_dtype=str),\n",
    "        start=pl.col(\"location\").map_elements(lambda x: x[\"start\"], return_dtype=int),\n",
    "        end=pl.col(\"location\").map_elements(lambda x: x[\"end\"], return_dtype=int),\n",
    "        strand=pl.col(\"location\").map_elements(lambda x: x[\"strand\"], return_dtype=str)\n",
    "    )\n",
    "\n",
    "    df_tool = df_tool.join(filtered, on=[\"chr\", \"start\", \"end\", \"strand\"], how=\"inner\")\n",
    "    df_tool = df_tool.with_columns(circ_id=pl.col(\"chr\") + pl.lit(\":\") + pl.col(\"start\").cast(str) + pl.lit(\"-\") + pl.col(\"end\").cast(str) + pl.lit(\":\") + pl.col(\"strand\"))\n",
    "    df_tool = df_tool.with_columns(gene_id=None)\n",
    "    df_tool = df_tool.select(\"circ_id\", \"gene_id\", *samples)\n",
    "    df_tool.sink_csv(os.path.join(QUANTIFICATION_DIR, f\"{tool}.tsv\"), include_header=True, separator='\\t')"
   ]
  }
 ],
 "metadata": {
  "kernelspec": {
   "display_name": "thesis",
   "language": "python",
   "name": "python3"
  },
  "language_info": {
   "codemirror_mode": {
    "name": "ipython",
    "version": 3
   },
   "file_extension": ".py",
   "mimetype": "text/x-python",
   "name": "python",
   "nbconvert_exporter": "python",
   "pygments_lexer": "ipython3",
   "version": "3.9.21"
  }
 },
 "nbformat": 4,
 "nbformat_minor": 2
}
