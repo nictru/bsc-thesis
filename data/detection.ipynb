{
 "cells": [
  {
   "cell_type": "code",
   "execution_count": 101,
   "metadata": {},
   "outputs": [],
   "source": [
    "from collections import defaultdict\n",
    "from itertools import product\n",
    "\n",
    "from tqdm import tqdm\n",
    "import polars as pl\n",
    "import pandas as pd\n",
    "import os\n",
    "import seaborn as sns\n",
    "import matplotlib.pyplot as plt\n",
    "from upsetplot import UpSet, from_memberships\n",
    "import warnings\n",
    "\n",
    "# Ignore future warnings\n",
    "warnings.simplefilter(action='ignore', category=FutureWarning)\n",
    "\n",
    "plt.rcParams['figure.dpi'] = 300"
   ]
  },
  {
   "cell_type": "code",
   "execution_count": 102,
   "metadata": {},
   "outputs": [
    {
     "data": {
      "text/plain": [
       "['find_circ', 'segemehl', 'dcc', 'circexplorer2', 'ciri2']"
      ]
     },
     "execution_count": 102,
     "metadata": {},
     "output_type": "execute_result"
    }
   ],
   "source": [
    "DETECTION_DIR = \"detection\"\n",
    "QUANTIFICATION_DIR = \"quantification\"\n",
    "OUT_DIR = \"../chapters/4_results_and_discussion/figures/detection\"\n",
    "os.makedirs(OUT_DIR, exist_ok=True)\n",
    "tools = [tool_csv[:-4] for tool_csv in os.listdir(DETECTION_DIR)]\n",
    "tools"
   ]
  },
  {
   "cell_type": "code",
   "execution_count": 103,
   "metadata": {},
   "outputs": [],
   "source": [
    "def parse_locstring(locstring: str):\n",
    "    chrom, coords, strand = locstring.split(\":\")\n",
    "    start, end = coords.split(\"-\")\n",
    "    return {\"chr\": chrom, \"start\": int(start), \"end\": int(end), \"strand\": strand}"
   ]
  },
  {
   "cell_type": "code",
   "execution_count": 104,
   "metadata": {},
   "outputs": [],
   "source": [
    "tool_dfs = [\n",
    "    pl.scan_csv(os.path.join(DETECTION_DIR, f\"{tool}.csv\"), separator='\\t')\n",
    "        .with_columns(tool=pl.lit(tool))\n",
    "    for tool in tools\n",
    "]\n",
    "\n",
    "samples = tool_dfs[0].drop(\"id\", \"tool\").collect_schema()\n",
    "\n",
    "tool_dfs = [df.select(\"id\", \"tool\", *samples).with_columns(**{sample: pl.col(sample).cast(int) for sample in samples}) for df in tool_dfs]\n",
    "\n",
    "df = pl.concat(tool_dfs)\n",
    "\n",
    "df = df.with_columns(\n",
    "    total_counts=pl.sum_horizontal(samples),\n",
    "    n_samples=pl.sum_horizontal(pl.col(samples).is_not_null()),\n",
    "    location=pl.col(\"id\").map_elements(parse_locstring, return_dtype=pl.Struct)\n",
    ")\n",
    "\n",
    "df = df.with_columns(\n",
    "    mean_counts=pl.col(\"total_counts\") / pl.col(\"n_samples\")\n",
    ")\n",
    "\n",
    "df = df.with_columns(\n",
    "    chr=pl.col(\"location\").map_elements(lambda x: x[\"chr\"], return_dtype=str),\n",
    "    start=pl.col(\"location\").map_elements(lambda x: x[\"start\"], return_dtype=int),\n",
    "    end=pl.col(\"location\").map_elements(lambda x: x[\"end\"], return_dtype=int),\n",
    "    strand=pl.col(\"location\").map_elements(lambda x: x[\"strand\"], return_dtype=str)\n",
    ")\n",
    "\n",
    "df = df.select(\"tool\", \"chr\", \"start\", \"end\", \"strand\", \"total_counts\", \"n_samples\", \"mean_counts\")"
   ]
  },
  {
   "cell_type": "code",
   "execution_count": 105,
   "metadata": {},
   "outputs": [],
   "source": [
    "tool_hits = df.group_by(\"tool\").len().rename({\"len\": \"n_bsjs\"})\n",
    "\n",
    "ax = sns.barplot(tool_hits.collect(), x=\"tool\", y=\"n_bsjs\")\n",
    "ax.bar_label(ax.containers[0])\n",
    "plt.ylabel(\"Number of BSJs detected\")\n",
    "plt.xlabel(\"Tool\")\n",
    "plt.title(\"Number of BSJs detected by each tool\")\n",
    "plt.savefig(os.path.join(OUT_DIR, \"n_bsjs_detected.png\"))\n",
    "plt.close()"
   ]
  },
  {
   "cell_type": "code",
   "execution_count": 106,
   "metadata": {},
   "outputs": [],
   "source": [
    "df = df.collect().lazy()"
   ]
  },
  {
   "cell_type": "code",
   "execution_count": 107,
   "metadata": {},
   "outputs": [],
   "source": [
    "def identify_shift_partners(df: pl.LazyFrame, max_shift: int = 0, consider_strand = True):\n",
    "    df = df.select(\"chr\", \"start\", \"end\", \"strand\", \"tool\")\n",
    "    df = df.group_by(\"chr\", \"start\", \"end\", \"strand\").agg(tools= pl.col(\"tool\").unique())\n",
    "\n",
    "    df = df.sort(\"end\"  ).with_columns(end_group  =pl.col(\"end\"  ).diff().fill_null(0).gt(max_shift).cum_sum())\n",
    "    df = df.sort(\"start\").with_columns(start_group=pl.col(\"start\").diff().fill_null(0).gt(max_shift).cum_sum())\n",
    "\n",
    "    group_cols = [\"chr\", \"start_group\", \"end_group\"] + ([\"strand\"] if consider_strand else [])\n",
    "    df = df.join(df, on=group_cols, how=\"inner\")\n",
    "    df = df.select(\"chr\", \"start\", \"end\", \"strand\", \"start_right\", \"end_right\", \"tools_right\")\n",
    "    df = df.filter((pl.col(\"start\") - pl.col(\"start_right\")).abs() <= max_shift)\n",
    "    df = df.filter((pl.col(\"end\") - pl.col(\"end_right\")).abs() <= max_shift)\n",
    "    df = df.group_by(\"chr\", \"start\", \"end\", \"strand\").agg(\n",
    "        tools = pl.col(\"tools_right\").flatten().unique()\n",
    "    ).sort(\"chr\", \"start\", \"end\", \"strand\")\n",
    "    df = df.with_columns(n_tools=pl.col(\"tools\").map_elements(lambda x: len(x), return_dtype=int))\n",
    "    df = df.with_columns(shift=pl.lit(max_shift), consider_strand=pl.lit(consider_strand))\n",
    "\n",
    "    return df"
   ]
  },
  {
   "cell_type": "code",
   "execution_count": 108,
   "metadata": {},
   "outputs": [
    {
     "name": "stderr",
     "output_type": "stream",
     "text": [
      "0it [00:00, ?it/s]"
     ]
    },
    {
     "name": "stderr",
     "output_type": "stream",
     "text": [
      "8it [00:50,  6.31s/it]\n"
     ]
    }
   ],
   "source": [
    "shift_stranded_df = defaultdict(dict)\n",
    "df_list = []\n",
    "\n",
    "for max_shift, consider_strand in tqdm(product([0, 1, 2, 3, 4, 5, 10, 20, 50], [True, False])):\n",
    "    df_current = identify_shift_partners(df, max_shift, consider_strand).collect().lazy()\n",
    "    shift_stranded_df[max_shift][consider_strand] = df_current\n",
    "    df_list.append(df_current)"
   ]
  },
  {
   "cell_type": "code",
   "execution_count": 109,
   "metadata": {},
   "outputs": [],
   "source": [
    "outdir = os.path.join(OUT_DIR, \"upset\")\n",
    "os.makedirs(outdir, exist_ok=True)\n",
    "\n",
    "for shift, stranded_df in shift_stranded_df.items():\n",
    "    for stranded, df_current in stranded_df.items():\n",
    "        plotdata = from_memberships(df_current.collect()[\"tools\"])\n",
    "\n",
    "        upset = UpSet(plotdata, subset_size=\"count\", min_degree=2 if shift > 0 else None, min_subset_size=10)\n",
    "        upset.plot()\n",
    "\n",
    "        plt.savefig(os.path.join(outdir, f\"shift_{shift}_{\"stranded\" if stranded else \"unstranded\"}.png\"))\n",
    "        plt.close()"
   ]
  },
  {
   "cell_type": "code",
   "execution_count": 110,
   "metadata": {},
   "outputs": [],
   "source": [
    "df_concat = pl.concat(df_list)\n",
    "df_concat = df_concat.group_by(\"shift\", \"consider_strand\", \"n_tools\").len()"
   ]
  },
  {
   "cell_type": "code",
   "execution_count": 111,
   "metadata": {},
   "outputs": [],
   "source": [
    "df_stranded = df_concat.filter(pl.col(\"consider_strand\")).collect().to_pandas()\n",
    "df_unstranded = df_concat.filter(~pl.col(\"consider_strand\")).collect().to_pandas()"
   ]
  },
  {
   "cell_type": "code",
   "execution_count": 112,
   "metadata": {},
   "outputs": [],
   "source": [
    "def plot(df: pd.DataFrame):\n",
    "    ax = df.pivot(index=\"shift\", columns=\"n_tools\", values=\"len\").fillna(0).plot.bar(stacked=True)\n",
    "    plt.xlabel(\"Shift\")\n",
    "    plt.ylabel(\"Number of BSJs\")\n",
    "    ax.set_ylim(0, 1.3e6)\n",
    "\n",
    "    plt.legend(title=\"Number of tools\", bbox_to_anchor=(1.05, 1), loc='upper left')"
   ]
  },
  {
   "cell_type": "code",
   "execution_count": 121,
   "metadata": {},
   "outputs": [],
   "source": [
    "plot(df_stranded)\n",
    "plt.title(\"Number of BSJs detected by multiple tools, considering strand\")\n",
    "plt.savefig(os.path.join(OUT_DIR, \"shift_agreement_stranded.png\"))\n",
    "plt.close()"
   ]
  },
  {
   "cell_type": "code",
   "execution_count": 122,
   "metadata": {},
   "outputs": [],
   "source": [
    "plot(df_unstranded)\n",
    "plt.title(\"Number of BSJs detected by multiple tools, ignoring strand\")\n",
    "plt.savefig(os.path.join(OUT_DIR, \"shift_agreement_unstranded.png\"))\n",
    "plt.close()"
   ]
  },
  {
   "cell_type": "code",
   "execution_count": 125,
   "metadata": {},
   "outputs": [],
   "source": [
    "selected_shift = 3\n",
    "selected_stranded = False\n",
    "min_tools = 4"
   ]
  },
  {
   "cell_type": "code",
   "execution_count": 126,
   "metadata": {},
   "outputs": [
    {
     "data": {
      "text/plain": [
       "106563"
      ]
     },
     "execution_count": 126,
     "metadata": {},
     "output_type": "execute_result"
    }
   ],
   "source": [
    "filtered = shift_stranded_df[selected_shift][selected_stranded].filter(pl.col(\"n_tools\") >= min_tools).collect().lazy()\n",
    "len(filtered.collect())"
   ]
  },
  {
   "cell_type": "code",
   "execution_count": 127,
   "metadata": {},
   "outputs": [],
   "source": [
    "for tool in tools:\n",
    "    df_tool = pl.scan_csv(os.path.join(DETECTION_DIR, f\"{tool}.csv\"), separator='\\t')\n",
    "\n",
    "    df_tool = df_tool.select(\"id\", *samples)\n",
    "    df_tool = df_tool.with_columns(**{sample: pl.col(sample).cast(int) for sample in samples})\n",
    "\n",
    "    df_tool = df_tool.with_columns(\n",
    "        location=pl.col(\"id\").map_elements(parse_locstring, return_dtype=pl.Struct)\n",
    "    )\n",
    "\n",
    "    df_tool = df_tool.with_columns(\n",
    "        chr=pl.col(\"location\").map_elements(lambda x: x[\"chr\"], return_dtype=str),\n",
    "        start=pl.col(\"location\").map_elements(lambda x: x[\"start\"], return_dtype=int),\n",
    "        end=pl.col(\"location\").map_elements(lambda x: x[\"end\"], return_dtype=int),\n",
    "        strand=pl.col(\"location\").map_elements(lambda x: x[\"strand\"], return_dtype=str)\n",
    "    )\n",
    "\n",
    "    df_tool = df_tool.join(filtered, on=[\"chr\", \"start\", \"end\", \"strand\"], how=\"inner\")\n",
    "    df_tool = df_tool.with_columns(circ_id=pl.col(\"chr\") + pl.lit(\":\") + pl.col(\"start\").cast(str) + pl.lit(\"-\") + pl.col(\"end\").cast(str) + pl.lit(\":\") + pl.col(\"strand\"))\n",
    "    df_tool = df_tool.with_columns(gene_id=None)\n",
    "    df_tool = df_tool.select(\"circ_id\", \"gene_id\", *samples)\n",
    "    df_tool.sink_csv(os.path.join(QUANTIFICATION_DIR, f\"{tool}.tsv\"), include_header=True, separator='\\t')"
   ]
  }
 ],
 "metadata": {
  "kernelspec": {
   "display_name": "thesis-plots",
   "language": "python",
   "name": "python3"
  },
  "language_info": {
   "codemirror_mode": {
    "name": "ipython",
    "version": 3
   },
   "file_extension": ".py",
   "mimetype": "text/x-python",
   "name": "python",
   "nbconvert_exporter": "python",
   "pygments_lexer": "ipython3",
   "version": "3.12.3"
  }
 },
 "nbformat": 4,
 "nbformat_minor": 2
}
