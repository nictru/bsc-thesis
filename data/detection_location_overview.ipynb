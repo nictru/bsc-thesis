{
 "cells": [
  {
   "cell_type": "code",
   "execution_count": 68,
   "metadata": {},
   "outputs": [],
   "source": [
    "import polars as pl\n",
    "import os"
   ]
  },
  {
   "cell_type": "code",
   "execution_count": 69,
   "metadata": {},
   "outputs": [],
   "source": [
    "chr = \"chr5\"\n",
    "start = 87925915\n",
    "end = 87926842\n",
    "max_shift = 5"
   ]
  },
  {
   "cell_type": "code",
   "execution_count": 70,
   "metadata": {},
   "outputs": [],
   "source": [
    "def parse_locstring(locstring: str):\n",
    "    chrom, coords, strand = locstring.split(\":\")\n",
    "    start, end = coords.split(\"-\")\n",
    "    return {\"chr\": chrom, \"start\": int(start), \"end\": int(end), \"strand\": strand}"
   ]
  },
  {
   "cell_type": "code",
   "execution_count": 73,
   "metadata": {},
   "outputs": [
    {
     "data": {
      "text/html": [
       "<div><style>\n",
       ".dataframe > thead > tr,\n",
       ".dataframe > tbody > tr {\n",
       "  text-align: right;\n",
       "  white-space: pre-wrap;\n",
       "}\n",
       "</style>\n",
       "<small>shape: (5, 6)</small><table border=\"1\" class=\"dataframe\"><thead><tr><th>tool</th><th>chr</th><th>start</th><th>end</th><th>strand</th><th>n_samples</th></tr><tr><td>str</td><td>str</td><td>i64</td><td>i64</td><td>str</td><td>u32</td></tr></thead><tbody><tr><td>&quot;segemehl&quot;</td><td>&quot;chr5&quot;</td><td>87925916</td><td>87926842</td><td>&quot;-&quot;</td><td>1</td></tr><tr><td>&quot;segemehl&quot;</td><td>&quot;chr5&quot;</td><td>87925915</td><td>87926842</td><td>&quot;-&quot;</td><td>10</td></tr><tr><td>&quot;dcc&quot;</td><td>&quot;chr5&quot;</td><td>87925916</td><td>87926842</td><td>&quot;-&quot;</td><td>28</td></tr><tr><td>&quot;circexplorer2&quot;</td><td>&quot;chr5&quot;</td><td>87925915</td><td>87926842</td><td>&quot;+&quot;</td><td>28</td></tr><tr><td>&quot;ciri2&quot;</td><td>&quot;chr5&quot;</td><td>87925916</td><td>87926842</td><td>&quot;+&quot;</td><td>29</td></tr></tbody></table></div>"
      ],
      "text/plain": [
       "shape: (5, 6)\n",
       "┌───────────────┬──────┬──────────┬──────────┬────────┬───────────┐\n",
       "│ tool          ┆ chr  ┆ start    ┆ end      ┆ strand ┆ n_samples │\n",
       "│ ---           ┆ ---  ┆ ---      ┆ ---      ┆ ---    ┆ ---       │\n",
       "│ str           ┆ str  ┆ i64      ┆ i64      ┆ str    ┆ u32       │\n",
       "╞═══════════════╪══════╪══════════╪══════════╪════════╪═══════════╡\n",
       "│ segemehl      ┆ chr5 ┆ 87925916 ┆ 87926842 ┆ -      ┆ 1         │\n",
       "│ segemehl      ┆ chr5 ┆ 87925915 ┆ 87926842 ┆ -      ┆ 10        │\n",
       "│ dcc           ┆ chr5 ┆ 87925916 ┆ 87926842 ┆ -      ┆ 28        │\n",
       "│ circexplorer2 ┆ chr5 ┆ 87925915 ┆ 87926842 ┆ +      ┆ 28        │\n",
       "│ ciri2         ┆ chr5 ┆ 87925916 ┆ 87926842 ┆ +      ┆ 29        │\n",
       "└───────────────┴──────┴──────────┴──────────┴────────┴───────────┘"
      ]
     },
     "execution_count": 73,
     "metadata": {},
     "output_type": "execute_result"
    }
   ],
   "source": [
    "dfs = []\n",
    "for tool_csv in os.listdir(\"detection\"):\n",
    "    tool = tool_csv.split(\".\")[0]\n",
    "    df = pl.scan_csv(f\"detection/{tool_csv}\", separator=\"\\t\")\n",
    "    df = df.unpivot(index=\"id\", variable_name=\"sample\", value_name=\"count\")\n",
    "    df = df.filter(pl.col(\"count\").is_not_null())\n",
    "    df = df.group_by(\"id\").agg(pl.col(\"sample\").n_unique().alias(\"n_samples\"))\n",
    "    df = df.with_columns(tool=pl.lit(tool))\n",
    "    dfs.append(df)\n",
    "df = pl.concat(dfs)\n",
    "\n",
    "df = df.with_columns(location=pl.col(\"id\").map_elements(parse_locstring, return_dtype=pl.Struct))\n",
    "df = df.with_columns(\n",
    "    chr=pl.col(\"location\").map_elements(lambda x: x[\"chr\"], return_dtype=str),\n",
    "    start=pl.col(\"location\").map_elements(lambda x: x[\"start\"], return_dtype=int),\n",
    "    end=pl.col(\"location\").map_elements(lambda x: x[\"end\"], return_dtype=int),\n",
    "    strand=pl.col(\"location\").map_elements(lambda x: x[\"strand\"], return_dtype=str)\n",
    ")\n",
    "df = df.select(\"tool\", \"chr\", \"start\", \"end\", \"strand\", \"n_samples\")\n",
    "df = df.filter(pl.col(\"chr\") == chr)\n",
    "df = df.filter((pl.col(\"start\") - start).abs() <= max_shift)\n",
    "df = df.filter((pl.col(\"end\") - end).abs() <= max_shift)\n",
    "\n",
    "df.collect()"
   ]
  }
 ],
 "metadata": {
  "kernelspec": {
   "display_name": "thesis-plots",
   "language": "python",
   "name": "python3"
  },
  "language_info": {
   "codemirror_mode": {
    "name": "ipython",
    "version": 3
   },
   "file_extension": ".py",
   "mimetype": "text/x-python",
   "name": "python",
   "nbconvert_exporter": "python",
   "pygments_lexer": "ipython3",
   "version": "3.12.3"
  }
 },
 "nbformat": 4,
 "nbformat_minor": 2
}
