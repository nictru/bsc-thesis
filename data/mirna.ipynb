{
 "cells": [
  {
   "cell_type": "code",
   "execution_count": 3,
   "metadata": {},
   "outputs": [],
   "source": [
    "import polars as pl\n",
    "import pandas as pd\n",
    "import os"
   ]
  },
  {
   "cell_type": "code",
   "execution_count": 4,
   "metadata": {},
   "outputs": [],
   "source": [
    "def parse_locstring(locstring: str):\n",
    "    chrom, coords, strand = locstring.split(\":\")\n",
    "    start, end = coords.split(\"-\")\n",
    "    return {\"chr\": chrom, \"start\": int(start), \"end\": int(end), \"strand\": strand}"
   ]
  },
  {
   "cell_type": "code",
   "execution_count": 6,
   "metadata": {},
   "outputs": [],
   "source": [
    "cache_file = 'mirna/circ_mirna_gene.parquet'\n",
    "\n",
    "if not os.path.exists(cache_file):\n",
    "    df_joined_mirna_gene = pl.from_pandas(pd.read_pickle(\"mirna/preprocessing/mirnas.pkl\"), include_index=True).lazy()\n",
    "    df_mirna_gene = df_mirna_gene.rename({\"miRNA ID\": 'mirna', \"Gene Symbol\": 'genes'})\n",
    "\n",
    "    df_mirna_circ = pl.scan_parquet(\"mirna/circ_mirna.parquet\")\n",
    "    df_mirna_circ = df_mirna_circ.rename({'transcript': 'circ'})\n",
    "    df_mirna_circ = df_mirna_circ.with_columns(circ=pl.col(\"circ\").str.slice(len(\"circ_\")))\n",
    "\n",
    "    df_circ_annotation = pl.scan_csv(\"dea/annotation.bed\", separator='\\t', has_header=False, new_columns=['chr', 'start', 'end', 'name', 'score', 'strand','type', 'gene_id', 'gene_name', 'transcript_id', 'database'])\n",
    "    df_circ_annotation = df_circ_annotation.select('name', 'type', 'gene_id', 'database')\n",
    "    df_circ_annotation = df_circ_annotation.rename({'gene_id': 'host_gene'})\n",
    "\n",
    "    df_joined = df_mirna_circ.join(df_mirna_gene, on='mirna', how='inner')\n",
    "    df_joined = df_joined.select('circ', 'mirna', 'genes')\n",
    "    df_joined = df_joined.join(df_circ_annotation, left_on='circ', right_on='name', how='inner')\n",
    "\n",
    "    df_joined = df_joined.with_columns(\n",
    "        location=pl.col(\"circ\").map_elements(parse_locstring, return_dtype=pl.Struct)\n",
    "    )\n",
    "\n",
    "    df_joined = df_joined.with_columns(\n",
    "        chr=pl.col(\"location\").map_elements(lambda x: x[\"chr\"], return_dtype=str),\n",
    "        start=pl.col(\"location\").map_elements(lambda x: x[\"start\"], return_dtype=int),\n",
    "        end=pl.col(\"location\").map_elements(lambda x: x[\"end\"], return_dtype=int)\n",
    "    )\n",
    "\n",
    "    df_joined = df_joined.drop(\"circ\", \"location\")\n",
    "\n",
    "    df_joined = df_joined.collect()\n",
    "    df_joined.write_parquet(cache_file)\n",
    "    df_joined = df_joined.lazy()\n",
    "else:\n",
    "    df_joined = pl.scan_parquet(cache_file).collect().lazy()"
   ]
  },
  {
   "cell_type": "code",
   "execution_count": 12,
   "metadata": {},
   "outputs": [
    {
     "name": "stdout",
     "output_type": "stream",
     "text": [
      "Processing chr5:87925915-87926842:+\n",
      "Processing chr5:87925915-87926842:-\n",
      "Processing chr5:87817372-87821139:-\n",
      "Processing chr5:87817373-87821140:+\n",
      "Processing chr9:22555041-22570441:+\n",
      "No targets found\n",
      "Processing chr5:87925915-87926842:+\n",
      "Processing chr5:87925915-87926842:-\n",
      "Processing chr2:24753235-24767638:+\n",
      "No targets found\n",
      "Processing chr2:24753235-24767638:-\n",
      "No targets found\n",
      "Processing chr17:40158496-40158638:+\n",
      "Processing chr1:21494273-21549693:+\n",
      "No targets found\n",
      "Processing chr1:21494273-21549693:-\n",
      "No targets found\n",
      "Processing chr1:36249067-36255387:+\n",
      "Processing chr1:36249067-36255387:-\n",
      "Processing chr1:40049716-40051001:+\n",
      "Processing chr1:4212835-4298842:+\n",
      "No targets found\n",
      "Processing chr1:4212835-4298842:-\n",
      "No targets found\n",
      "Processing chr1:9949250-9952116:+\n",
      "Processing chr1:9949251-9952116:-\n",
      "Processing chr1:10258981-10270129:+\n",
      "No targets found\n"
     ]
    }
   ],
   "source": [
    "deseq2_dir = '../chapters/4_results_and_discussion/figures/dea/deseq2'\n",
    "max_shift = 3\n",
    "for contrast in os.listdir(deseq2_dir):\n",
    "    contrast_dir = os.path.join(deseq2_dir, contrast)\n",
    "    res_file = os.path.join(contrast_dir, 'sign.tsv')\n",
    "    df_res = pl.scan_csv(res_file, separator='\\t', null_values=['NA'])\n",
    "    df_res = df_res.rename({'': 'circ'})\n",
    "    df_res = df_res.head(5)\n",
    "    df_res = df_res.select('circ')\n",
    "    circs = df_res.collect()['circ'].to_list()\n",
    "    for circ in circs:\n",
    "        print(f'Processing {circ}')\n",
    "        location = parse_locstring(circ)\n",
    "        chrom, start, end = location['chr'], location['start'], location['end']\n",
    "        df_res_circ = df_joined.filter((pl.col('chr') == chrom) & ((pl.col('start') - start).abs() <= max_shift) & ((pl.col('end') - end).abs() <= max_shift))\n",
    "        df_res_circ = df_res_circ.explode('genes')\n",
    "        df_res_circ = df_res_circ.select('genes')\n",
    "        df_res_circ = df_res_circ.group_by('genes').len().select('genes').sort('genes').filter(pl.col('genes') != '').collect()\n",
    "        if len(df_res_circ) > 0:\n",
    "            df_res_circ.write_csv(os.path.join(contrast_dir, f'{chrom}:{start}-{end}_targets.txt'), include_header=False)\n",
    "        else:\n",
    "            print('No targets found')"
   ]
  }
 ],
 "metadata": {
  "kernelspec": {
   "display_name": "thesis-plots",
   "language": "python",
   "name": "python3"
  },
  "language_info": {
   "codemirror_mode": {
    "name": "ipython",
    "version": 3
   },
   "file_extension": ".py",
   "mimetype": "text/x-python",
   "name": "python",
   "nbconvert_exporter": "python",
   "pygments_lexer": "ipython3",
   "version": "3.12.3"
  }
 },
 "nbformat": 4,
 "nbformat_minor": 2
}
