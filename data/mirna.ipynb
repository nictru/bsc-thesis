{
 "cells": [
  {
   "cell_type": "code",
   "execution_count": 41,
   "metadata": {},
   "outputs": [],
   "source": [
    "import polars as pl\n",
    "import pandas as pd\n",
    "import os"
   ]
  },
  {
   "cell_type": "code",
   "execution_count": 42,
   "metadata": {},
   "outputs": [],
   "source": [
    "cache_file = 'mirna/circ_mirna_gene.parquet'\n",
    "\n",
    "if not os.path.exists(cache_file):\n",
    "    df_mirna_gene = pl.from_pandas(pd.read_pickle(\"mirna/preprocessing/mirnas.pkl\"), include_index=True).lazy()\n",
    "    df_mirna_gene = df_mirna_gene.rename({\"miRNA ID\": 'mirna', \"Gene Symbol\": 'genes'})\n",
    "\n",
    "    df_mirna_circ = pl.scan_parquet(\"mirna/circ_mirna.parquet\")\n",
    "    df_mirna_circ = df_mirna_circ.rename({'transcript': 'circ'})\n",
    "    df_mirna_circ = df_mirna_circ.with_columns(circ=pl.col(\"circ\").str.slice(len(\"circ_\")))\n",
    "\n",
    "    df_circ_annotation = pl.scan_csv(\"dea/annotation.bed\", separator='\\t', has_header=False, new_columns=['chr', 'start', 'end', 'name', 'score', 'strand','type', 'gene_id', 'gene_name', 'transcript_id', 'database'])\n",
    "    df_circ_annotation = df_circ_annotation.select('name', 'type', 'gene_id', 'database')\n",
    "    df_circ_annotation = df_circ_annotation.rename({'gene_id': 'host_gene'})\n",
    "\n",
    "    df_joined = df_mirna_circ.join(df_mirna_gene, on='mirna', how='inner')\n",
    "    df_joined = df_joined.select('circ', 'mirna', 'genes')\n",
    "    df_joined = df_joined.join(df_circ_annotation, left_on='circ', right_on='name', how='inner')\n",
    "    df_joined = df_joined.collect()\n",
    "    df_joined.write_parquet(cache_file)\n",
    "    df_joined = df_joined.lazy()\n",
    "else:\n",
    "    df_joined = pl.scan_parquet(cache_file)"
   ]
  },
  {
   "cell_type": "code",
   "execution_count": 51,
   "metadata": {},
   "outputs": [],
   "source": [
    "deseq2_dir = '../chapters/4_results_and_discussion/figures/dea/deseq2'\n",
    "for contrast in os.listdir(deseq2_dir):\n",
    "    contrast_dir = os.path.join(deseq2_dir, contrast)\n",
    "    res_file = os.path.join(contrast_dir, 'res.tsv')\n",
    "    df_res = pl.scan_csv(res_file, separator='\\t', null_values=['NA'])\n",
    "    df_res = df_res.rename({'': 'circ'})\n",
    "    df_res = df_res.filter(pl.col('padj') < 0.05)\n",
    "    df_res = df_res.head(5)\n",
    "    df_res = df_res.select('circ')\n",
    "    circs = df_res.collect()['circ'].to_list()\n",
    "    for circ in circs:\n",
    "        df_res_circ = df_joined.filter(pl.col('circ') == circ)\n",
    "        df_res_circ = df_res_circ.explode('genes')\n",
    "        df_res_circ = df_res_circ.select('genes')\n",
    "        df_res_circ = df_res_circ.group_by('genes').len().select('genes')\n",
    "        df_res_circ.sink_csv(os.path.join(contrast_dir, f'{circ}_targets.txt'), include_header=False)"
   ]
  }
 ],
 "metadata": {
  "kernelspec": {
   "display_name": "thesis-plots",
   "language": "python",
   "name": "python3"
  },
  "language_info": {
   "codemirror_mode": {
    "name": "ipython",
    "version": 3
   },
   "file_extension": ".py",
   "mimetype": "text/x-python",
   "name": "python",
   "nbconvert_exporter": "python",
   "pygments_lexer": "ipython3",
   "version": "3.12.3"
  }
 },
 "nbformat": 4,
 "nbformat_minor": 2
}
