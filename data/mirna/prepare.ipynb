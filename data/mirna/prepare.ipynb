{
 "cells": [
  {
   "cell_type": "code",
   "execution_count": 24,
   "metadata": {},
   "outputs": [],
   "source": [
    "import pandas as pd\n",
    "from Bio import SeqIO"
   ]
  },
  {
   "cell_type": "code",
   "execution_count": 25,
   "metadata": {},
   "outputs": [
    {
     "data": {
      "text/html": [
       "<div>\n",
       "<style scoped>\n",
       "    .dataframe tbody tr th:only-of-type {\n",
       "        vertical-align: middle;\n",
       "    }\n",
       "\n",
       "    .dataframe tbody tr th {\n",
       "        vertical-align: top;\n",
       "    }\n",
       "\n",
       "    .dataframe thead th {\n",
       "        text-align: right;\n",
       "    }\n",
       "</style>\n",
       "<table border=\"1\" class=\"dataframe\">\n",
       "  <thead>\n",
       "    <tr style=\"text-align: right;\">\n",
       "      <th></th>\n",
       "      <th>Gene Symbol</th>\n",
       "    </tr>\n",
       "    <tr>\n",
       "      <th>miRNA ID</th>\n",
       "      <th></th>\n",
       "    </tr>\n",
       "  </thead>\n",
       "  <tbody>\n",
       "    <tr>\n",
       "      <th>mmu-let-7a-1-3p</th>\n",
       "      <td>[Eif3e]</td>\n",
       "    </tr>\n",
       "    <tr>\n",
       "      <th>mmu-let-7a-2-3p</th>\n",
       "      <td>[Hspa9, Enox1, Tomm40, Coq7, Fyn, Guf1, Ccdc15...</td>\n",
       "    </tr>\n",
       "    <tr>\n",
       "      <th>mmu-let-7a-5p</th>\n",
       "      <td>[Nlrp4e]</td>\n",
       "    </tr>\n",
       "    <tr>\n",
       "      <th>mmu-let-7b-5p</th>\n",
       "      <td>[Pced1b, Dzip1l, Plekhg6, 1600012H06Rik, Nlrp4...</td>\n",
       "    </tr>\n",
       "    <tr>\n",
       "      <th>mmu-let-7c-1-3p</th>\n",
       "      <td>[Rps4x, Nprl2]</td>\n",
       "    </tr>\n",
       "    <tr>\n",
       "      <th>...</th>\n",
       "      <td>...</td>\n",
       "    </tr>\n",
       "    <tr>\n",
       "      <th>mmu-miR85-3p</th>\n",
       "      <td>[Nop2, Zfp354c, Dennd10, Dcbld1]</td>\n",
       "    </tr>\n",
       "    <tr>\n",
       "      <th>mmu-miR86-3p</th>\n",
       "      <td>[Tpt1, Olfr639, Olfr194, Raver2, Gramd3, Gm6526]</td>\n",
       "    </tr>\n",
       "    <tr>\n",
       "      <th>mmu-miR9-3p</th>\n",
       "      <td>[Vmn1r220, Rab31, Cxcl11, Vmn1r211, Cbfb, Cntn...</td>\n",
       "    </tr>\n",
       "    <tr>\n",
       "      <th>mmu-miR95-3p</th>\n",
       "      <td>[Mpc2, Tubb4b]</td>\n",
       "    </tr>\n",
       "    <tr>\n",
       "      <th>mmu-miR98-3p</th>\n",
       "      <td>[Tcl1b4, Mmd, Acox2, Atoh7, Gabarapl1, Vmn2r72...</td>\n",
       "    </tr>\n",
       "  </tbody>\n",
       "</table>\n",
       "<p>811 rows × 1 columns</p>\n",
       "</div>"
      ],
      "text/plain": [
       "                                                       Gene Symbol\n",
       "miRNA ID                                                          \n",
       "mmu-let-7a-1-3p                                            [Eif3e]\n",
       "mmu-let-7a-2-3p  [Hspa9, Enox1, Tomm40, Coq7, Fyn, Guf1, Ccdc15...\n",
       "mmu-let-7a-5p                                             [Nlrp4e]\n",
       "mmu-let-7b-5p    [Pced1b, Dzip1l, Plekhg6, 1600012H06Rik, Nlrp4...\n",
       "mmu-let-7c-1-3p                                     [Rps4x, Nprl2]\n",
       "...                                                            ...\n",
       "mmu-miR85-3p                      [Nop2, Zfp354c, Dennd10, Dcbld1]\n",
       "mmu-miR86-3p      [Tpt1, Olfr639, Olfr194, Raver2, Gramd3, Gm6526]\n",
       "mmu-miR9-3p      [Vmn1r220, Rab31, Cxcl11, Vmn1r211, Cbfb, Cntn...\n",
       "mmu-miR95-3p                                        [Mpc2, Tubb4b]\n",
       "mmu-miR98-3p     [Tcl1b4, Mmd, Acox2, Atoh7, Gabarapl1, Vmn2r72...\n",
       "\n",
       "[811 rows x 1 columns]"
      ]
     },
     "execution_count": 25,
     "metadata": {},
     "output_type": "execute_result"
    }
   ],
   "source": [
    "dfs = []\n",
    "\n",
    "# Table S4 from https://www.ncbi.nlm.nih.gov/pmc/articles/PMC8944794/bin/animals-12-00727-s001.zip\n",
    "\n",
    "for sheet_index in range(12):\n",
    "    df = pd.read_excel('table.xlsx', sheet_name=sheet_index, skiprows=2, index_col=0, usecols=[\"miRNA ID\", \"Gene Symbol\"])\n",
    "    dfs.append(df)\n",
    "\n",
    "df = pd.concat(dfs).drop_duplicates(ignore_index=False)\n",
    "df.index = df.index.str.replace(\"novel-\", \"\")\n",
    "df = df.groupby(df.index).agg(list)\n",
    "df"
   ]
  },
  {
   "cell_type": "code",
   "execution_count": 26,
   "metadata": {},
   "outputs": [],
   "source": [
    "with open(\"filtered.fa\", \"w\") as f:\n",
    "    for sequence in SeqIO.parse(open('mature.fa'),'fasta'):\n",
    "        if sequence.id in df.index:\n",
    "            SeqIO.write(sequence, f, \"fasta\")"
   ]
  },
  {
   "cell_type": "code",
   "execution_count": 27,
   "metadata": {},
   "outputs": [],
   "source": [
    "df.to_pickle(\"mirnas.pkl\")"
   ]
  }
 ],
 "metadata": {
  "kernelspec": {
   "display_name": "thesis-plots",
   "language": "python",
   "name": "python3"
  },
  "language_info": {
   "codemirror_mode": {
    "name": "ipython",
    "version": 3
   },
   "file_extension": ".py",
   "mimetype": "text/x-python",
   "name": "python",
   "nbconvert_exporter": "python",
   "pygments_lexer": "ipython3",
   "version": "3.12.3"
  }
 },
 "nbformat": 4,
 "nbformat_minor": 2
}
