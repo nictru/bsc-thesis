{
 "cells": [
  {
   "cell_type": "code",
   "execution_count": 23,
   "metadata": {
    "vscode": {
     "languageId": "r"
    }
   },
   "outputs": [],
   "source": [
    "library(clusterProfiler)\n",
    "organism = \"org.Mm.eg.db\"\n",
    "library(organism, character.only = TRUE)\n",
    "library(ggplot2)\n"
   ]
  },
  {
   "cell_type": "code",
   "execution_count": 24,
   "metadata": {
    "vscode": {
     "languageId": "r"
    }
   },
   "outputs": [
    {
     "name": "stderr",
     "output_type": "stream",
     "text": [
      "\u001b[1m\u001b[22mSaving 6.67 x 6.67 in image\n",
      "\u001b[1m\u001b[22mSaving 6.67 x 6.67 in image\n",
      "\u001b[1m\u001b[22mSaving 6.67 x 6.67 in image\n",
      "\u001b[1m\u001b[22mSaving 6.67 x 6.67 in image\n",
      "\u001b[1m\u001b[22mSaving 6.67 x 6.67 in image\n",
      "\u001b[1m\u001b[22mSaving 6.67 x 6.67 in image\n",
      "\u001b[1m\u001b[22mSaving 6.67 x 6.67 in image\n",
      "\u001b[1m\u001b[22mSaving 6.67 x 6.67 in image\n",
      "\u001b[1m\u001b[22mSaving 6.67 x 6.67 in image\n",
      "\u001b[1m\u001b[22mSaving 6.67 x 6.67 in image\n"
     ]
    }
   ],
   "source": [
    "deseq2_dir <- \"../chapters/4_results_and_discussion/figures/dea/deseq2\"\n",
    "for (contrast_dir in list.dirs(deseq2_dir)) {\n",
    "    if (contrast_dir == deseq2_dir) {\n",
    "        next\n",
    "    }\n",
    "    for (circ_file in list.files(contrast_dir, pattern = \"chr.*\")) {\n",
    "        genes <- read.table(file.path(contrast_dir, circ_file), header = FALSE)\n",
    "        colnames(genes) <- c(\"gene\")\n",
    "        \n",
    "        gse <- enrichGO(gene = genes$gene,\n",
    "            ont =\"ALL\", \n",
    "            keyType = \"SYMBOL\",\n",
    "            pvalueCutoff = 0.05,\n",
    "            OrgDb = organism,\n",
    "            pAdjustMethod = \"BH\")\n",
    "\n",
    "        if (nrow(as.data.frame(gse)) > 0) {\n",
    "            dotplot(gse)\n",
    "            plot_file <- file.path(contrast_dir, paste0(sub(\".*\\\\/\", \"\", circ_file), \".png\"))\n",
    "            ggsave(plot_file)\n",
    "        }\n",
    "    }\n",
    "}"
   ]
  }
 ],
 "metadata": {
  "kernelspec": {
   "display_name": "R",
   "language": "R",
   "name": "ir"
  },
  "language_info": {
   "codemirror_mode": "r",
   "file_extension": ".r",
   "mimetype": "text/x-r-source",
   "name": "R",
   "pygments_lexer": "r",
   "version": "4.3.1"
  }
 },
 "nbformat": 4,
 "nbformat_minor": 2
}
