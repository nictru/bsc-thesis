{
 "cells": [
  {
   "cell_type": "code",
   "execution_count": 120,
   "metadata": {},
   "outputs": [],
   "source": [
    "import pandas as pd\n",
    "import os\n",
    "import seaborn as sns\n",
    "import matplotlib.pyplot as plt\n",
    "import marsilea as ma"
   ]
  },
  {
   "cell_type": "code",
   "execution_count": 121,
   "metadata": {},
   "outputs": [],
   "source": [
    "DETECTION_DIR = \"detection\"\n",
    "QUANTIFICATION_DIR = \"quantification\"\n",
    "OUT_DIR = \"../chapters/4_results_and_discussion/figures/quantification\"\n",
    "detection_tools = [tool_csv[:-4] for tool_csv in os.listdir(DETECTION_DIR)]\n",
    "quantification_tools = [tool_csv[:-4] for tool_csv in os.listdir(QUANTIFICATION_DIR)]"
   ]
  },
  {
   "cell_type": "code",
   "execution_count": 122,
   "metadata": {},
   "outputs": [],
   "source": [
    "def parse_locstring(locstring: str):\n",
    "    parts = locstring.split(\":\")\n",
    "    chrom, coords, strand = parts if len(parts) == 3 else (parts[0], parts[1], \".\")\n",
    "    chrom = chrom[len(\"circ_\"):] if chrom.startswith(\"circ_\") else chrom\n",
    "    start, end = coords.split(\"-\")\n",
    "    return chrom, int(start), int(end), strand"
   ]
  },
  {
   "cell_type": "code",
   "execution_count": 123,
   "metadata": {},
   "outputs": [],
   "source": [
    "def get_tool_data(tool: str, is_detection: bool = True):\n",
    "    df = pd.read_csv(os.path.join(DETECTION_DIR if is_detection else QUANTIFICATION_DIR, f\"{tool}.{\"c\" if is_detection else \"t\"}sv\"), sep='\\t', index_col=0)\n",
    "    df.fillna(0, inplace=True)\n",
    "    if not is_detection:\n",
    "        df = df.iloc[:, 1:]\n",
    "\n",
    "    df_loc = pd.DataFrame([parse_locstring(loc) for loc in df.index], columns=[\"chrom\", \"start\", \"end\", \"strand\"], index=df.index)\n",
    "    df_loc[\"tool\"] = tool\n",
    "\n",
    "    # Merge df_stats and df_loc\n",
    "    df = pd.concat([df_loc, df], axis=1)\n",
    "\n",
    "    return pd.melt(df, id_vars=[\"chrom\", \"start\", \"end\", \"strand\", \"tool\"], var_name=\"sample\", value_name=\"count\", ignore_index=False)"
   ]
  },
  {
   "cell_type": "code",
   "execution_count": 124,
   "metadata": {},
   "outputs": [],
   "source": [
    "def get_diff_groups(df_locs: pd.DataFrame, max_diff: int = 0):\n",
    "    df_diff = df_locs.sort_values([\"chrom\", \"end\"])\n",
    "    df_diff[\"end_group\"] = df_diff.groupby(\"chrom\")[\"end\"].diff().gt(max_diff).cumsum()\n",
    "    df_diff = df_diff.sort_values([\"chrom\", \"start\"])\n",
    "    df_diff[\"start_group\"] = df_diff.groupby(\"chrom\")[\"start\"].diff().gt(max_diff).cumsum()\n",
    "\n",
    "    return df_diff"
   ]
  },
  {
   "cell_type": "code",
   "execution_count": null,
   "metadata": {},
   "outputs": [],
   "source": [
    "tool_counts = {}\n",
    "\n",
    "for tool in detection_tools:\n",
    "    tool_counts[tool] = get_tool_data(tool)\n",
    "\n",
    "for tool in quantification_tools:\n",
    "    tool_counts[tool] = get_tool_data(tool, is_detection=False)\n",
    "\n",
    "tool_counts[\"circexplorer2\"]"
   ]
  },
  {
   "cell_type": "code",
   "execution_count": null,
   "metadata": {},
   "outputs": [],
   "source": [
    "df_stats = pd.concat(tool_counts.values(), axis=0)\n",
    "df_diff = get_diff_groups(df_stats, 1)\n",
    "df_diff"
   ]
  },
  {
   "cell_type": "code",
   "execution_count": null,
   "metadata": {},
   "outputs": [],
   "source": [
    "df_grouped = df_diff.groupby([\"chrom\", \"start_group\", \"end_group\", \"sample\"]).agg({\n",
    "    \"tool\": list,\n",
    "    \"total_counts\": list\n",
    "})\n",
    "\n",
    "df_grouped = df_grouped[df_grouped[\"tool\"].apply(lambda x: len(set([t for t in x if t in detection_tools]))) >= 4]\n",
    "df_grouped"
   ]
  },
  {
   "cell_type": "code",
   "execution_count": null,
   "metadata": {},
   "outputs": [],
   "source": [
    "df_grouped[\"count_dict\"] = df_grouped.apply(lambda row: dict(zip(row[\"tool\"], row[\"total_counts\"])), axis=1)\n",
    "df_grouped.drop(columns=[\"tool\", \"total_counts\"], inplace=True)\n",
    "df_grouped.fillna(0, inplace=True)\n",
    "\n",
    "# Explode the count_dict\n",
    "df_grouped = df_grouped[\"count_dict\"].apply(pd.Series)\n",
    "df_detection = df_grouped[detection_tools]\n",
    "df_quantification = df_grouped[quantification_tools]\n",
    "df_agg = pd.DataFrame(index=df_grouped.index)\n",
    "df_agg[\"sum\"]    = df_detection.sum(axis=1)\n",
    "df_agg[\"min\"]    = df_detection.min(axis=1)\n",
    "df_agg[\"max\"]    = df_detection.max(axis=1)\n",
    "df_agg[\"median\"] = df_detection.median(axis=1)\n",
    "\n",
    "df_plot = pd.concat([df_detection, df_agg, df_quantification], axis=1)\n",
    "df_plot"
   ]
  },
  {
   "cell_type": "code",
   "execution_count": null,
   "metadata": {},
   "outputs": [],
   "source": [
    "# Calculate the correlation matrix\n",
    "corr = df_plot.corr()\n",
    "\n",
    "# Invert column order\n",
    "corr = corr.iloc[::-1]\n",
    "\n",
    "h = ma.Heatmap(corr, annot=True, fmt=\".2f\")\n",
    "\n",
    "categories = [\"Detection\", \"Aggregations\", \"Quant.\"]\n",
    "colors = [\"#54F0F0\", \"#F05454\", \"#F0F054\"]\n",
    "\n",
    "h.group_cols([categories[0] if group in detection_tools else categories[2] if group in quantification_tools else categories[1] for group in corr.columns], order=categories)\n",
    "h.group_rows([categories[0] if group in detection_tools else categories[2] if group in quantification_tools else categories[1] for group in corr.index], order=categories[::-1])\n",
    "h.add_bottom(ma.plotter.Chunk(categories, fill_colors=colors), pad=0.05)\n",
    "h.add_bottom(ma.plotter.Labels(corr.columns), pad=0.05)\n",
    "h.add_left(ma.plotter.Chunk(categories[::-1], fill_colors=colors[::-1]), pad=0.05)\n",
    "h.add_left(ma.plotter.Labels(corr.index), pad=0.05)\n",
    "\n",
    "h.add_legends(\"right\")\n",
    "h.add_title(\"Correlation between detection tools and aggregations\")\n",
    "h.save(os.path.join(OUT_DIR, \"correlation_heatmap.png\"))"
   ]
  },
  {
   "cell_type": "code",
   "execution_count": null,
   "metadata": {},
   "outputs": [],
   "source": []
  }
 ],
 "metadata": {
  "kernelspec": {
   "display_name": "thesis-plots",
   "language": "python",
   "name": "python3"
  },
  "language_info": {
   "codemirror_mode": {
    "name": "ipython",
    "version": 3
   },
   "file_extension": ".py",
   "mimetype": "text/x-python",
   "name": "python",
   "nbconvert_exporter": "python",
   "pygments_lexer": "ipython3",
   "version": "undefined.undefined.undefined"
  }
 },
 "nbformat": 4,
 "nbformat_minor": 2
}
