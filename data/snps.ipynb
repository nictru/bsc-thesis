{
 "cells": [
  {
   "cell_type": "code",
   "execution_count": 1,
   "metadata": {},
   "outputs": [],
   "source": [
    "import requests\n",
    "import polars as pl\n",
    "from liftover import get_lifter"
   ]
  },
  {
   "cell_type": "code",
   "execution_count": 2,
   "metadata": {},
   "outputs": [],
   "source": [
    "def parse_locstring(locstring: str):\n",
    "    chrom, coords, strand = locstring.split(\":\")\n",
    "    start, end = coords.split(\"-\")\n",
    "    return {\"chr\": chrom, \"start\": int(start), \"end\": int(end), \"strand\": strand}"
   ]
  },
  {
   "cell_type": "code",
   "execution_count": 3,
   "metadata": {},
   "outputs": [],
   "source": [
    "max_shift = 3"
   ]
  },
  {
   "cell_type": "code",
   "execution_count": 4,
   "metadata": {},
   "outputs": [],
   "source": [
    "df = pl.scan_csv(\n",
    "    \"../chapters/4_results_and_discussion/figures/dea/letrozole_gene_intersection.tsv\", \n",
    "    separator=\"\\t\",\n",
    "    has_header=False,\n",
    "    new_columns=[\"locstring\", \"type\", \"gene\", \"database\"]\n",
    ")\n",
    "df = df.with_columns(location=pl.col(\"locstring\").map_elements(parse_locstring, return_dtype=pl.Struct))\n",
    "\n",
    "df = df.with_columns(\n",
    "    chr=pl.col(\"location\").map_elements(lambda x: x[\"chr\"], return_dtype=str),\n",
    "    start=pl.col(\"location\").map_elements(lambda x: x[\"start\"], return_dtype=int),\n",
    "    end=pl.col(\"location\").map_elements(lambda x: x[\"end\"], return_dtype=int),\n",
    "    strand=pl.col(\"location\").map_elements(lambda x: x[\"strand\"], return_dtype=str)\n",
    ")\n",
    "\n",
    "df = df.select(\"chr\", \"start\", \"end\", \"strand\", \"type\", \"gene\", \"database\")"
   ]
  },
  {
   "cell_type": "code",
   "execution_count": 5,
   "metadata": {},
   "outputs": [],
   "source": [
    "df = df.sort(\"end\"  ).with_columns(end_group  =pl.col(\"end\"  ).diff().fill_null(0).gt(max_shift).cum_sum())\n",
    "df = df.sort(\"start\").with_columns(start_group=pl.col(\"start\").diff().fill_null(0).gt(max_shift).cum_sum())\n",
    "\n",
    "df = df.group_by([\"chr\", \"start_group\", \"end_group\"]).agg(\n",
    "    start=pl.col(\"start\").min(),\n",
    "    end=pl.col(\"end\").max(),\n",
    "    gene=pl.col(\"gene\").str.split(\",\").flatten().unique().map_elements(lambda x: \",\".join(sorted(x)), return_dtype=str),\n",
    "    database=pl.col(\"database\").str.split(\",\").flatten().unique().map_elements(lambda x: \",\".join(sorted(x)), return_dtype=str),\n",
    "    type=pl.col(\"type\").unique().map_elements(lambda x: \",\".join(sorted(x)), return_dtype=str)\n",
    ")\n",
    "df = df.select(\"chr\", \"start\", \"end\", \"gene\", \"database\", \"type\")\n",
    "\n",
    "df = df.with_columns(location=pl.struct(pl.col(\"chr\"), pl.col(\"start\"), pl.col(\"end\")))"
   ]
  },
  {
   "cell_type": "code",
   "execution_count": null,
   "metadata": {},
   "outputs": [],
   "source": [
    "lifter = get_lifter(\"mm39\", \"hg38\")\n",
    "lifter"
   ]
  },
  {
   "cell_type": "code",
   "execution_count": 7,
   "metadata": {},
   "outputs": [],
   "source": [
    "test = {\n",
    "    \"chr\": \"chr5\",\n",
    "    \"start\": 87817372,\n",
    "    \"end\": 87821140\n",
    "}"
   ]
  },
  {
   "cell_type": "code",
   "execution_count": 8,
   "metadata": {},
   "outputs": [],
   "source": [
    "def liftover(location: dict):\n",
    "    res_start = lifter.convert_coordinate(location[\"chr\"], location[\"start\"])\n",
    "    res_end = lifter.convert_coordinate(location[\"chr\"], location[\"end\"])\n",
    "\n",
    "    if len(res_start) == 0 or len(res_end) == 0:\n",
    "        print(\"No results for\" + str(location))\n",
    "        return None\n",
    "\n",
    "    if len(res_start) > 1 or len(res_end) > 1:\n",
    "        raise ValueError(\"Multiple results\")\n",
    "    \n",
    "    start_chr, start, _ = res_start[0]\n",
    "    end_chr, end, _ = res_end[0]\n",
    "\n",
    "    if start_chr != end_chr:\n",
    "        raise ValueError(\"Chromsomes do not match\")\n",
    "    \n",
    "    return {\"chr\": start_chr, \"start\": start, \"end\": end}"
   ]
  },
  {
   "cell_type": "code",
   "execution_count": 9,
   "metadata": {},
   "outputs": [],
   "source": [
    "def fetch_snps(location: dict):\n",
    "    species = \"hsapiens_grch38\"\n",
    "    location = liftover(location)\n",
    "    if location is None:\n",
    "        return {\"numResults\": 0}\n",
    "    chrom = location[\"chr\"].replace(\"chr\", \"\")\n",
    "    url = f\"https://www.ebi.ac.uk/eva/webservices/rest/v1/segments/{chrom}:{location[\"start\"]}-{location[\"end\"]}/variants?species={species}&limit=1000\"\n",
    "    response = requests.get(url)\n",
    "    return response.json()['response'][0]"
   ]
  },
  {
   "cell_type": "code",
   "execution_count": null,
   "metadata": {},
   "outputs": [],
   "source": [
    "df_locations = df.collect().to_pandas()\n",
    "df_locations[\"resp\"] = df_locations[\"location\"].map(fetch_snps)\n",
    "df_locations[\"n_results\"] = df_locations[\"resp\"].map(lambda x: x[\"numResults\"])\n",
    "df_locations"
   ]
  }
 ],
 "metadata": {
  "kernelspec": {
   "display_name": "thesis-plots",
   "language": "python",
   "name": "python3"
  },
  "language_info": {
   "codemirror_mode": {
    "name": "ipython",
    "version": 3
   },
   "file_extension": ".py",
   "mimetype": "text/x-python",
   "name": "python",
   "nbconvert_exporter": "python",
   "pygments_lexer": "ipython3",
   "version": "3.12.3"
  }
 },
 "nbformat": 4,
 "nbformat_minor": 2
}
